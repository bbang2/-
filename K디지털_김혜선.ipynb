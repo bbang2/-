{
 "cells": [
  {
   "cell_type": "markdown",
   "metadata": {},
   "source": [
    "### 문제 1"
   ]
  },
  {
   "cell_type": "markdown",
   "metadata": {},
   "source": [
    "1번. a.로그수집\n",
    "2번. f.크롤링\n",
    "3번. C.오픈API\n",
    "4번 h.센서수집"
   ]
  },
  {
   "cell_type": "markdown",
   "metadata": {},
   "source": [
    "### 문제 2"
   ]
  },
  {
   "cell_type": "markdown",
   "metadata": {},
   "source": [
    "크롤링 개념\n",
    "- 인터넷에 존재하는 데이터를 컴퓨터 프로그램을 통하여 자동화된 방법으로 웹에서 데이터를 수집하는 모든 작업\n",
    "\n",
    "필요성\n",
    "- 다양한 데이터를 빠른 시간에 정제된 형태로 수집할 수 있음."
   ]
  },
  {
   "cell_type": "markdown",
   "metadata": {},
   "source": [
    "### 문제 3. BeautifulSoup 모듈"
   ]
  },
  {
   "cell_type": "markdown",
   "metadata": {},
   "source": [
    "- html객체에 저장한 자료를 쉽게 추출할 수 있는 형태로 파싱하는 모듈"
   ]
  },
  {
   "cell_type": "markdown",
   "metadata": {},
   "source": [
    "### 문제4"
   ]
  },
  {
   "cell_type": "markdown",
   "metadata": {},
   "source": [
    "1번은 1개씩만 가져올 수 있고 2번은 여러개를 가져올 수 있음."
   ]
  },
  {
   "cell_type": "markdown",
   "metadata": {},
   "source": [
    "### 문제5"
   ]
  },
  {
   "cell_type": "markdown",
   "metadata": {},
   "source": [
    "soup = bs(res.content, ‘lxml’)\n",
    "crawling = soup.select_one('p>span')\n",
    "print(crawling.text)"
   ]
  },
  {
   "cell_type": "markdown",
   "metadata": {},
   "source": [
    "## Q2\n",
    "### 문제2"
   ]
  },
  {
   "cell_type": "code",
   "execution_count": 7,
   "metadata": {},
   "outputs": [],
   "source": [
    "import numpy as np\n",
    "import pandas as pd\n",
    "import requests as req\n",
    "from bs4 import BeautifulSoup as bs\n",
    "\n",
    "import time\n",
    "from selenium import webdriver as wb\n",
    "from selenium.webdriver.common.keys import Keys\n",
    "from tqdm import tqdm_notebook"
   ]
  },
  {
   "cell_type": "code",
   "execution_count": 3,
   "metadata": {},
   "outputs": [],
   "source": [
    "url = 'https://www.google.com/'\n",
    "driver = wb.Chrome()\n",
    "goo=driver.get(url)"
   ]
  },
  {
   "cell_type": "code",
   "execution_count": 5,
   "metadata": {},
   "outputs": [],
   "source": [
    "input_area = driver.find_element_by_class_name(\"gLFyf\")"
   ]
  },
  {
   "cell_type": "code",
   "execution_count": 6,
   "metadata": {},
   "outputs": [],
   "source": [
    "input_area.send_keys(\"사과\")"
   ]
  },
  {
   "cell_type": "code",
   "execution_count": 7,
   "metadata": {},
   "outputs": [],
   "source": [
    "input_area.send_keys(Keys.ENTER)"
   ]
  },
  {
   "cell_type": "markdown",
   "metadata": {},
   "source": [
    "## Q3\n",
    "### 문제3"
   ]
  },
  {
   "cell_type": "code",
   "execution_count": 8,
   "metadata": {},
   "outputs": [],
   "source": [
    "url = \"https://datalab.naver.com/keyword/realtimeList.naver?where=main\"\n",
    "driver = wb.Chrome()\n",
    "naver = driver.get(url)"
   ]
  },
  {
   "cell_type": "code",
   "execution_count": 10,
   "metadata": {},
   "outputs": [],
   "source": [
    "search = bs(driver.page_source, 'lxml')"
   ]
  },
  {
   "cell_type": "code",
   "execution_count": 15,
   "metadata": {},
   "outputs": [],
   "source": [
    "title=search.select('.item_title_wrap>.item_title')"
   ]
  },
  {
   "cell_type": "code",
   "execution_count": 18,
   "metadata": {
    "scrolled": true
   },
   "outputs": [
    {
     "data": {
      "text/plain": [
       "20"
      ]
     },
     "execution_count": 18,
     "metadata": {},
     "output_type": "execute_result"
    }
   ],
   "source": [
    "len(title)"
   ]
  },
  {
   "cell_type": "code",
   "execution_count": 21,
   "metadata": {},
   "outputs": [],
   "source": [
    "title_list=[]\n",
    "seq_list =[]\n",
    "for i in range (len(title)):\n",
    "    title_list.append(title[i].text)\n",
    "    seq_list.append(i+1)"
   ]
  },
  {
   "cell_type": "code",
   "execution_count": 22,
   "metadata": {},
   "outputs": [],
   "source": [
    "title_dic={\"순위\":seq_list, \"실시간 검색어\":title_list}"
   ]
  },
  {
   "cell_type": "code",
   "execution_count": 23,
   "metadata": {},
   "outputs": [],
   "source": [
    "title_df=pd.DataFrame(title_dic, index=seq_list)"
   ]
  },
  {
   "cell_type": "code",
   "execution_count": 25,
   "metadata": {},
   "outputs": [],
   "source": [
    "title_df.set_index('순위' , inplace=True)"
   ]
  },
  {
   "cell_type": "code",
   "execution_count": 26,
   "metadata": {
    "scrolled": true
   },
   "outputs": [
    {
     "data": {
      "text/html": [
       "<div>\n",
       "<style scoped>\n",
       "    .dataframe tbody tr th:only-of-type {\n",
       "        vertical-align: middle;\n",
       "    }\n",
       "\n",
       "    .dataframe tbody tr th {\n",
       "        vertical-align: top;\n",
       "    }\n",
       "\n",
       "    .dataframe thead th {\n",
       "        text-align: right;\n",
       "    }\n",
       "</style>\n",
       "<table border=\"1\" class=\"dataframe\">\n",
       "  <thead>\n",
       "    <tr style=\"text-align: right;\">\n",
       "      <th></th>\n",
       "      <th>실시간 검색어</th>\n",
       "    </tr>\n",
       "    <tr>\n",
       "      <th>순위</th>\n",
       "      <th></th>\n",
       "    </tr>\n",
       "  </thead>\n",
       "  <tbody>\n",
       "    <tr>\n",
       "      <th>1</th>\n",
       "      <td>부산 3단계</td>\n",
       "    </tr>\n",
       "    <tr>\n",
       "      <th>2</th>\n",
       "      <td>전두환</td>\n",
       "    </tr>\n",
       "    <tr>\n",
       "      <th>3</th>\n",
       "      <td>롯데마트 안내견</td>\n",
       "    </tr>\n",
       "    <tr>\n",
       "      <th>4</th>\n",
       "      <td>업텐션</td>\n",
       "    </tr>\n",
       "    <tr>\n",
       "      <th>5</th>\n",
       "      <td>러블리즈 미주</td>\n",
       "    </tr>\n",
       "    <tr>\n",
       "      <th>6</th>\n",
       "      <td>박은정 검사</td>\n",
       "    </tr>\n",
       "    <tr>\n",
       "      <th>7</th>\n",
       "      <td>김유미</td>\n",
       "    </tr>\n",
       "    <tr>\n",
       "      <th>8</th>\n",
       "      <td>강원대학교</td>\n",
       "    </tr>\n",
       "    <tr>\n",
       "      <th>9</th>\n",
       "      <td>연애말고 결혼</td>\n",
       "    </tr>\n",
       "    <tr>\n",
       "      <th>10</th>\n",
       "      <td>엔하이픈</td>\n",
       "    </tr>\n",
       "    <tr>\n",
       "      <th>11</th>\n",
       "      <td>신라젠</td>\n",
       "    </tr>\n",
       "    <tr>\n",
       "      <th>12</th>\n",
       "      <td>큐비</td>\n",
       "    </tr>\n",
       "    <tr>\n",
       "      <th>13</th>\n",
       "      <td>넵튠</td>\n",
       "    </tr>\n",
       "    <tr>\n",
       "      <th>14</th>\n",
       "      <td>호서대학교</td>\n",
       "    </tr>\n",
       "    <tr>\n",
       "      <th>15</th>\n",
       "      <td>부산</td>\n",
       "    </tr>\n",
       "    <tr>\n",
       "      <th>16</th>\n",
       "      <td>라울 히메네스</td>\n",
       "    </tr>\n",
       "    <tr>\n",
       "      <th>17</th>\n",
       "      <td>종근당</td>\n",
       "    </tr>\n",
       "    <tr>\n",
       "      <th>18</th>\n",
       "      <td>코로나 헬스장</td>\n",
       "    </tr>\n",
       "    <tr>\n",
       "      <th>19</th>\n",
       "      <td>조남관</td>\n",
       "    </tr>\n",
       "    <tr>\n",
       "      <th>20</th>\n",
       "      <td>종근당바이오</td>\n",
       "    </tr>\n",
       "  </tbody>\n",
       "</table>\n",
       "</div>"
      ],
      "text/plain": [
       "     실시간 검색어\n",
       "순위          \n",
       "1     부산 3단계\n",
       "2        전두환\n",
       "3   롯데마트 안내견\n",
       "4        업텐션\n",
       "5    러블리즈 미주\n",
       "6     박은정 검사\n",
       "7        김유미\n",
       "8      강원대학교\n",
       "9    연애말고 결혼\n",
       "10      엔하이픈\n",
       "11       신라젠\n",
       "12        큐비\n",
       "13        넵튠\n",
       "14     호서대학교\n",
       "15        부산\n",
       "16   라울 히메네스\n",
       "17       종근당\n",
       "18   코로나 헬스장\n",
       "19       조남관\n",
       "20    종근당바이오"
      ]
     },
     "execution_count": 26,
     "metadata": {},
     "output_type": "execute_result"
    }
   ],
   "source": [
    "title_df"
   ]
  },
  {
   "cell_type": "markdown",
   "metadata": {},
   "source": [
    "## Q4\n",
    "### 문제1"
   ]
  },
  {
   "cell_type": "markdown",
   "metadata": {},
   "source": [
    "### 태양쌤 풀이"
   ]
  },
  {
   "cell_type": "code",
   "execution_count": 59,
   "metadata": {},
   "outputs": [],
   "source": [
    "url = 'https://front.wemakeprice.com/best'\n",
    "driver = wb.Chrome()\n",
    "driver.get(url)"
   ]
  },
  {
   "cell_type": "markdown",
   "metadata": {},
   "source": [
    "### soup으로 하면 처음 가져온 url에서 select하고\n",
    "### driver로 가져오면 현재 위치한 페이지에서 select"
   ]
  },
  {
   "cell_type": "code",
   "execution_count": 53,
   "metadata": {},
   "outputs": [],
   "source": [
    "img_list = driver.find_elements_by_css_selector('div.flag_wrap')"
   ]
  },
  {
   "cell_type": "code",
   "execution_count": 23,
   "metadata": {},
   "outputs": [],
   "source": [
    "img_list[0].click()"
   ]
  },
  {
   "cell_type": "code",
   "execution_count": 25,
   "metadata": {},
   "outputs": [],
   "source": [
    "soup = bs(driver.page_source, 'lxml')\n",
    "title = soup.select('.deal_tit')\n",
    "price = soup.select('.sale_price .num')\n",
    "origin = soup.select('.origin p')"
   ]
  },
  {
   "cell_type": "code",
   "execution_count": 50,
   "metadata": {},
   "outputs": [],
   "source": [
    "driver.back()"
   ]
  },
  {
   "cell_type": "code",
   "execution_count": null,
   "metadata": {},
   "outputs": [],
   "source": []
  },
  {
   "cell_type": "code",
   "execution_count": null,
   "metadata": {},
   "outputs": [],
   "source": [
    "img_list = driver.find_elements_by_css_selector('div.flag_wrap')"
   ]
  },
  {
   "cell_type": "code",
   "execution_count": 54,
   "metadata": {},
   "outputs": [],
   "source": [
    "img_list[1].click()"
   ]
  },
  {
   "cell_type": "code",
   "execution_count": 55,
   "metadata": {},
   "outputs": [],
   "source": [
    "soup = bs(driver.page_source, 'lxml')\n",
    "title = soup.select('.deal_tit')\n",
    "price = soup.select('.sale_price .num')\n",
    "origin = soup.select('.origin p')"
   ]
  },
  {
   "cell_type": "code",
   "execution_count": null,
   "metadata": {},
   "outputs": [],
   "source": [
    "driver.back()"
   ]
  },
  {
   "cell_type": "code",
   "execution_count": null,
   "metadata": {},
   "outputs": [],
   "source": []
  },
  {
   "cell_type": "markdown",
   "metadata": {},
   "source": [
    "## 반복문 정리"
   ]
  },
  {
   "cell_type": "code",
   "execution_count": 68,
   "metadata": {},
   "outputs": [],
   "source": [
    "url = 'https://front.wemakeprice.com/best'\n",
    "driver = wb.Chrome()\n",
    "driver.get(url)"
   ]
  },
  {
   "cell_type": "code",
   "execution_count": 69,
   "metadata": {},
   "outputs": [
    {
     "name": "stderr",
     "output_type": "stream",
     "text": [
      "<ipython-input-69-197660e661a7>:5: TqdmDeprecationWarning: This function will be removed in tqdm==5.0.0\n",
      "Please use `tqdm.notebook.tqdm` instead of `tqdm.tqdm_notebook`\n",
      "  for index in tqdm_notebook(range(10)):\n"
     ]
    },
    {
     "data": {
      "application/vnd.jupyter.widget-view+json": {
       "model_id": "7622aaf78864440680661a5042bb6810",
       "version_major": 2,
       "version_minor": 0
      },
      "text/plain": [
       "HBox(children=(FloatProgress(value=0.0, max=10.0), HTML(value='')))"
      ]
     },
     "metadata": {},
     "output_type": "display_data"
    },
    {
     "name": "stdout",
     "output_type": "stream",
     "text": [
      "\n"
     ]
    }
   ],
   "source": [
    "title_list=[]\n",
    "price_list=[]\n",
    "origin_list=[]\n",
    "\n",
    "for index in tqdm_notebook(range(10)):\n",
    "    img_list = driver.find_elements_by_css_selector('div.flag_wrap')\n",
    "    img_list[index].click() #n번째 이미지 클릭\n",
    "    time.sleep(2)\n",
    "    soup = bs(driver.page_source, 'lxml') #클릭한 페이지 정보 파싱\n",
    "    \n",
    "    try:\n",
    "        title_list.append(soup.select('.deal_tit')[0].text) \n",
    "        price_list.append(soup.select('.sale_price .num')[0].text)\n",
    "        origin_list.append(soup.select('.origin p')[0].text.strip())\n",
    "        # select로 가져오면 리스트형이라 인덱스 표시해줘야 오류 안뜸\n",
    "        # 가져오는 값이 하나라 그냥 [0]으로 표시\n",
    "    except:\n",
    "        origin_list.append(\"원산지 없음\") #원산지 없는 부분 예외처리\n",
    "        \n",
    "    driver.back()\n",
    "    time.sleep(2)"
   ]
  },
  {
   "cell_type": "code",
   "execution_count": 75,
   "metadata": {},
   "outputs": [],
   "source": [
    "wmp_dic={\"title\":title_list, \"price\":price_list, \"origin\":origin_list}"
   ]
  },
  {
   "cell_type": "code",
   "execution_count": 82,
   "metadata": {},
   "outputs": [],
   "source": [
    "rank_list=[]\n",
    "\n",
    "for i in range(1,11):\n",
    "    rank_list.append(i)"
   ]
  },
  {
   "cell_type": "code",
   "execution_count": 83,
   "metadata": {},
   "outputs": [],
   "source": [
    "wmp_df=pd.DataFrame(wmp_dic, index=rank_list)"
   ]
  },
  {
   "cell_type": "code",
   "execution_count": 84,
   "metadata": {},
   "outputs": [
    {
     "data": {
      "text/html": [
       "<div>\n",
       "<style scoped>\n",
       "    .dataframe tbody tr th:only-of-type {\n",
       "        vertical-align: middle;\n",
       "    }\n",
       "\n",
       "    .dataframe tbody tr th {\n",
       "        vertical-align: top;\n",
       "    }\n",
       "\n",
       "    .dataframe thead th {\n",
       "        text-align: right;\n",
       "    }\n",
       "</style>\n",
       "<table border=\"1\" class=\"dataframe\">\n",
       "  <thead>\n",
       "    <tr style=\"text-align: right;\">\n",
       "      <th></th>\n",
       "      <th>title</th>\n",
       "      <th>price</th>\n",
       "      <th>origin</th>\n",
       "    </tr>\n",
       "  </thead>\n",
       "  <tbody>\n",
       "    <tr>\n",
       "      <th>1</th>\n",
       "      <td>15%쿠폰/마이셰프 보니따 리꼬 스테이크 / 신제품 단독판매</td>\n",
       "      <td>9,900</td>\n",
       "      <td>원산지 : 상세설명참조</td>\n",
       "    </tr>\n",
       "    <tr>\n",
       "      <th>2</th>\n",
       "      <td>맛있는 오뚜기밥 210gX48 외 오뚜기BEST</td>\n",
       "      <td>44,500</td>\n",
       "      <td>원산지 : 상세설명참조</td>\n",
       "    </tr>\n",
       "    <tr>\n",
       "      <th>3</th>\n",
       "      <td>[위메프데이]그린핑거 최초런칭행사 대용량 키즈 수분촉촉크림 외 모음전</td>\n",
       "      <td>12,900</td>\n",
       "      <td>원산지 없음</td>\n",
       "    </tr>\n",
       "    <tr>\n",
       "      <th>4</th>\n",
       "      <td>[위메프데이]베베숲 시그니처 블루 70매 캡 20팩 외 물티슈 모음전</td>\n",
       "      <td>40,900</td>\n",
       "      <td>원산지 없음</td>\n",
       "    </tr>\n",
       "    <tr>\n",
       "      <th>5</th>\n",
       "      <td>6시까지 긴급추가/난닝구 24시간 역대급 블프SALE</td>\n",
       "      <td>9,900</td>\n",
       "      <td>원산지 없음</td>\n",
       "    </tr>\n",
       "    <tr>\n",
       "      <th>6</th>\n",
       "      <td>셀퓨전씨 더마 선/스킨케어 브랜드데이 선착순 체험팩</td>\n",
       "      <td>8,500</td>\n",
       "      <td>원산지 없음</td>\n",
       "    </tr>\n",
       "    <tr>\n",
       "      <th>7</th>\n",
       "      <td>한정수량300개/최대63%/마더케이 새지않는 빨대컵 210ml 1+1 ★스낵캡 증정★</td>\n",
       "      <td>16,500</td>\n",
       "      <td>원산지 없음</td>\n",
       "    </tr>\n",
       "    <tr>\n",
       "      <th>8</th>\n",
       "      <td>[위메프데이]최대35% / 테크 세제 대용량 8L 외 섬유유연제, 샴푸</td>\n",
       "      <td>11,900</td>\n",
       "      <td>원산지 없음</td>\n",
       "    </tr>\n",
       "    <tr>\n",
       "      <th>9</th>\n",
       "      <td>[위메프데이]장당189원_100%국산 KF94 대형/소형/새부리형/블랙 외 마스크 모음전</td>\n",
       "      <td>22,900</td>\n",
       "      <td>원산지 : 상세설명참조</td>\n",
       "    </tr>\n",
       "    <tr>\n",
       "      <th>10</th>\n",
       "      <td>3분 쇠고기짜장 200Gx9+3분 쇠고기카레x9</td>\n",
       "      <td>14,900</td>\n",
       "      <td>원산지 : 상세설명참조</td>\n",
       "    </tr>\n",
       "  </tbody>\n",
       "</table>\n",
       "</div>"
      ],
      "text/plain": [
       "                                                title   price        origin\n",
       "1                   15%쿠폰/마이셰프 보니따 리꼬 스테이크 / 신제품 단독판매   9,900  원산지 : 상세설명참조\n",
       "2                          맛있는 오뚜기밥 210gX48 외 오뚜기BEST  44,500  원산지 : 상세설명참조\n",
       "3              [위메프데이]그린핑거 최초런칭행사 대용량 키즈 수분촉촉크림 외 모음전  12,900        원산지 없음\n",
       "4              [위메프데이]베베숲 시그니처 블루 70매 캡 20팩 외 물티슈 모음전  40,900        원산지 없음\n",
       "5                       6시까지 긴급추가/난닝구 24시간 역대급 블프SALE   9,900        원산지 없음\n",
       "6                       셀퓨전씨 더마 선/스킨케어 브랜드데이 선착순 체험팩    8,500        원산지 없음\n",
       "7     한정수량300개/최대63%/마더케이 새지않는 빨대컵 210ml 1+1 ★스낵캡 증정★  16,500        원산지 없음\n",
       "8             [위메프데이]최대35% / 테크 세제 대용량 8L 외 섬유유연제, 샴푸  11,900        원산지 없음\n",
       "9   [위메프데이]장당189원_100%국산 KF94 대형/소형/새부리형/블랙 외 마스크 모음전  22,900  원산지 : 상세설명참조\n",
       "10                         3분 쇠고기짜장 200Gx9+3분 쇠고기카레x9  14,900  원산지 : 상세설명참조"
      ]
     },
     "execution_count": 84,
     "metadata": {},
     "output_type": "execute_result"
    }
   ],
   "source": [
    "wmp_df"
   ]
  },
  {
   "cell_type": "code",
   "execution_count": 85,
   "metadata": {},
   "outputs": [],
   "source": [
    "wmp_df.to_csv(\"위메프베스트_정답.csv\", encoding='euc-kr')"
   ]
  },
  {
   "cell_type": "code",
   "execution_count": null,
   "metadata": {},
   "outputs": [],
   "source": []
  },
  {
   "cell_type": "markdown",
   "metadata": {},
   "source": [
    "#### 원산지 없이 내가 푼 거"
   ]
  },
  {
   "cell_type": "code",
   "execution_count": 190,
   "metadata": {},
   "outputs": [],
   "source": [
    "title = weme.select('.text')"
   ]
  },
  {
   "cell_type": "code",
   "execution_count": 191,
   "metadata": {},
   "outputs": [],
   "source": [
    "price = weme.select('.price_info .num')"
   ]
  },
  {
   "cell_type": "code",
   "execution_count": 192,
   "metadata": {},
   "outputs": [],
   "source": [
    "title_list = []\n",
    "price_list = []\n",
    "seq_list = []\n",
    "\n",
    "for i in range(len(title)):\n",
    "    title_list.append(title[i].text)\n",
    "    price_list.append(price[i].text)\n",
    "    seq_list.append(i+1)"
   ]
  },
  {
   "cell_type": "code",
   "execution_count": 193,
   "metadata": {},
   "outputs": [],
   "source": [
    "weme_dic={\"상품명\":title_list, \"가격\":price_list}"
   ]
  },
  {
   "cell_type": "code",
   "execution_count": 194,
   "metadata": {},
   "outputs": [],
   "source": [
    "weme_df=pd.DataFrame(weme_dic, index=seq_list)"
   ]
  },
  {
   "cell_type": "code",
   "execution_count": 195,
   "metadata": {
    "scrolled": true
   },
   "outputs": [
    {
     "data": {
      "text/html": [
       "<div>\n",
       "<style scoped>\n",
       "    .dataframe tbody tr th:only-of-type {\n",
       "        vertical-align: middle;\n",
       "    }\n",
       "\n",
       "    .dataframe tbody tr th {\n",
       "        vertical-align: top;\n",
       "    }\n",
       "\n",
       "    .dataframe thead th {\n",
       "        text-align: right;\n",
       "    }\n",
       "</style>\n",
       "<table border=\"1\" class=\"dataframe\">\n",
       "  <thead>\n",
       "    <tr style=\"text-align: right;\">\n",
       "      <th></th>\n",
       "      <th>상품명</th>\n",
       "      <th>가격</th>\n",
       "    </tr>\n",
       "  </thead>\n",
       "  <tbody>\n",
       "    <tr>\n",
       "      <th>1</th>\n",
       "      <td>장당179원_강블리라이프 KF94 마스크 100매 외 모음전</td>\n",
       "      <td>15,900</td>\n",
       "    </tr>\n",
       "    <tr>\n",
       "      <th>2</th>\n",
       "      <td>최대30%쿠폰/다우니 실내건조 섬유유연제 1L 6개+세탁세제 폼 ...</td>\n",
       "      <td>19,880</td>\n",
       "    </tr>\n",
       "    <tr>\n",
       "      <th>3</th>\n",
       "      <td>3000개한정/ 2021년 일력 + 봉지라면 세트 /밤10시까지 ...</td>\n",
       "      <td>7,650</td>\n",
       "    </tr>\n",
       "    <tr>\n",
       "      <th>4</th>\n",
       "      <td>베베숲 시그니처 블루 70매 캡 20팩 외 전품목 모음</td>\n",
       "      <td>26,950</td>\n",
       "    </tr>\n",
       "    <tr>\n",
       "      <th>5</th>\n",
       "      <td>안전한 블루나 KF94 소형마스크 60매입(개별포장) 외 블랙마스...</td>\n",
       "      <td>19,900</td>\n",
       "    </tr>\n",
       "    <tr>\n",
       "      <th>...</th>\n",
       "      <td>...</td>\n",
       "      <td>...</td>\n",
       "    </tr>\n",
       "    <tr>\n",
       "      <th>96</th>\n",
       "      <td>퍼니트 남성지구력 증진 나이아가라 쏘팔메토 옥타코사놀 60캡슐 2...</td>\n",
       "      <td>9,810</td>\n",
       "    </tr>\n",
       "    <tr>\n",
       "      <th>97</th>\n",
       "      <td>퍼니트 급찐급빠엔 리얼 가르시니아 900 8주분외 다이어트</td>\n",
       "      <td>8,910</td>\n",
       "    </tr>\n",
       "    <tr>\n",
       "      <th>98</th>\n",
       "      <td>더플로레 피로회복 홍경천 알파 30정</td>\n",
       "      <td>11,610</td>\n",
       "    </tr>\n",
       "    <tr>\n",
       "      <th>99</th>\n",
       "      <td>퍼니트 몽모랑시 타트체리 주스 파우치 30포외 건강식품</td>\n",
       "      <td>15,210</td>\n",
       "    </tr>\n",
       "    <tr>\n",
       "      <th>100</th>\n",
       "      <td>퍼니트 락추로스 프리+프로바이오틱스 유산균  2통 60포외</td>\n",
       "      <td>15,210</td>\n",
       "    </tr>\n",
       "  </tbody>\n",
       "</table>\n",
       "<p>100 rows × 2 columns</p>\n",
       "</div>"
      ],
      "text/plain": [
       "                                         상품명      가격\n",
       "1          장당179원_강블리라이프 KF94 마스크 100매 외 모음전  15,900\n",
       "2    최대30%쿠폰/다우니 실내건조 섬유유연제 1L 6개+세탁세제 폼 ...  19,880\n",
       "3    3000개한정/ 2021년 일력 + 봉지라면 세트 /밤10시까지 ...   7,650\n",
       "4            베베숲 시그니처 블루 70매 캡 20팩 외 전품목 모음   26,950\n",
       "5    안전한 블루나 KF94 소형마스크 60매입(개별포장) 외 블랙마스...  19,900\n",
       "..                                       ...     ...\n",
       "96   퍼니트 남성지구력 증진 나이아가라 쏘팔메토 옥타코사놀 60캡슐 2...   9,810\n",
       "97          퍼니트 급찐급빠엔 리얼 가르시니아 900 8주분외 다이어트   8,910\n",
       "98                      더플로레 피로회복 홍경천 알파 30정  11,610\n",
       "99            퍼니트 몽모랑시 타트체리 주스 파우치 30포외 건강식품  15,210\n",
       "100         퍼니트 락추로스 프리+프로바이오틱스 유산균  2통 60포외  15,210\n",
       "\n",
       "[100 rows x 2 columns]"
      ]
     },
     "execution_count": 195,
     "metadata": {},
     "output_type": "execute_result"
    }
   ],
   "source": [
    "weme_df"
   ]
  },
  {
   "cell_type": "code",
   "execution_count": 186,
   "metadata": {},
   "outputs": [],
   "source": [
    "weme_df.to_csv(\"K디지털_김혜선_위메프베스트.csv\", encoding='utf-16')"
   ]
  },
  {
   "cell_type": "markdown",
   "metadata": {},
   "source": [
    "## Q4\n",
    "### 문제 2"
   ]
  },
  {
   "cell_type": "code",
   "execution_count": 42,
   "metadata": {},
   "outputs": [],
   "source": [
    "url = 'https://sports.news.naver.com/kbaseball/record/index.nhn?category=kbo'\n",
    "res= req.get(url)\n",
    "soup = bs(res.text, 'lxml')"
   ]
  },
  {
   "cell_type": "code",
   "execution_count": 45,
   "metadata": {},
   "outputs": [],
   "source": [
    "rank=soup.select('td')"
   ]
  },
  {
   "cell_type": "code",
   "execution_count": 62,
   "metadata": {},
   "outputs": [
    {
     "name": "stdout",
     "output_type": "stream",
     "text": [
      "[1, 2, 3, 4, 5, 6, 7, 8, 9, 10]\n"
     ]
    }
   ],
   "source": [
    "seq_list=[]\n",
    "for i in range(10):\n",
    "    seq_list.append(i+1)\n",
    "print(seq_list)"
   ]
  },
  {
   "cell_type": "code",
   "execution_count": 57,
   "metadata": {},
   "outputs": [],
   "source": [
    "list=[]\n",
    "for i in rank:\n",
    "    list.append(i.text.strip())"
   ]
  },
  {
   "cell_type": "code",
   "execution_count": 58,
   "metadata": {},
   "outputs": [],
   "source": [
    "list=list[:110]"
   ]
  },
  {
   "cell_type": "code",
   "execution_count": 59,
   "metadata": {},
   "outputs": [],
   "source": [
    "a=np.array(list).reshape(-1,11)"
   ]
  },
  {
   "cell_type": "code",
   "execution_count": 81,
   "metadata": {},
   "outputs": [],
   "source": [
    "a_df=pd.DataFrame(a, index=seq_list)"
   ]
  },
  {
   "cell_type": "code",
   "execution_count": 82,
   "metadata": {},
   "outputs": [],
   "source": [
    "base=a_df.T.iloc[:6]"
   ]
  },
  {
   "cell_type": "code",
   "execution_count": 87,
   "metadata": {},
   "outputs": [],
   "source": [
    "base.index=['팀','경기','승','패','무','승률']"
   ]
  },
  {
   "cell_type": "code",
   "execution_count": 89,
   "metadata": {},
   "outputs": [
    {
     "data": {
      "text/html": [
       "<div>\n",
       "<style scoped>\n",
       "    .dataframe tbody tr th:only-of-type {\n",
       "        vertical-align: middle;\n",
       "    }\n",
       "\n",
       "    .dataframe tbody tr th {\n",
       "        vertical-align: top;\n",
       "    }\n",
       "\n",
       "    .dataframe thead th {\n",
       "        text-align: right;\n",
       "    }\n",
       "</style>\n",
       "<table border=\"1\" class=\"dataframe\">\n",
       "  <thead>\n",
       "    <tr style=\"text-align: right;\">\n",
       "      <th></th>\n",
       "      <th>1</th>\n",
       "      <th>2</th>\n",
       "      <th>3</th>\n",
       "      <th>4</th>\n",
       "      <th>5</th>\n",
       "      <th>6</th>\n",
       "      <th>7</th>\n",
       "      <th>8</th>\n",
       "      <th>9</th>\n",
       "      <th>10</th>\n",
       "    </tr>\n",
       "  </thead>\n",
       "  <tbody>\n",
       "    <tr>\n",
       "      <th>팀</th>\n",
       "      <td>NC</td>\n",
       "      <td>두산</td>\n",
       "      <td>KT</td>\n",
       "      <td>LG</td>\n",
       "      <td>키움</td>\n",
       "      <td>KIA</td>\n",
       "      <td>롯데</td>\n",
       "      <td>삼성</td>\n",
       "      <td>SK</td>\n",
       "      <td>한화</td>\n",
       "    </tr>\n",
       "    <tr>\n",
       "      <th>경기</th>\n",
       "      <td>144</td>\n",
       "      <td>144</td>\n",
       "      <td>144</td>\n",
       "      <td>144</td>\n",
       "      <td>144</td>\n",
       "      <td>144</td>\n",
       "      <td>144</td>\n",
       "      <td>144</td>\n",
       "      <td>144</td>\n",
       "      <td>144</td>\n",
       "    </tr>\n",
       "    <tr>\n",
       "      <th>승</th>\n",
       "      <td>83</td>\n",
       "      <td>79</td>\n",
       "      <td>81</td>\n",
       "      <td>79</td>\n",
       "      <td>80</td>\n",
       "      <td>73</td>\n",
       "      <td>71</td>\n",
       "      <td>64</td>\n",
       "      <td>51</td>\n",
       "      <td>46</td>\n",
       "    </tr>\n",
       "    <tr>\n",
       "      <th>패</th>\n",
       "      <td>55</td>\n",
       "      <td>61</td>\n",
       "      <td>62</td>\n",
       "      <td>61</td>\n",
       "      <td>63</td>\n",
       "      <td>71</td>\n",
       "      <td>72</td>\n",
       "      <td>75</td>\n",
       "      <td>92</td>\n",
       "      <td>95</td>\n",
       "    </tr>\n",
       "    <tr>\n",
       "      <th>무</th>\n",
       "      <td>6</td>\n",
       "      <td>4</td>\n",
       "      <td>1</td>\n",
       "      <td>4</td>\n",
       "      <td>1</td>\n",
       "      <td>0</td>\n",
       "      <td>1</td>\n",
       "      <td>5</td>\n",
       "      <td>1</td>\n",
       "      <td>3</td>\n",
       "    </tr>\n",
       "    <tr>\n",
       "      <th>승률</th>\n",
       "      <td>0.601</td>\n",
       "      <td>0.564</td>\n",
       "      <td>0.566</td>\n",
       "      <td>0.564</td>\n",
       "      <td>0.559</td>\n",
       "      <td>0.507</td>\n",
       "      <td>0.497</td>\n",
       "      <td>0.460</td>\n",
       "      <td>0.357</td>\n",
       "      <td>0.326</td>\n",
       "    </tr>\n",
       "  </tbody>\n",
       "</table>\n",
       "</div>"
      ],
      "text/plain": [
       "       1      2      3      4      5      6      7      8      9      10\n",
       "팀      NC     두산     KT     LG     키움    KIA     롯데     삼성     SK     한화\n",
       "경기    144    144    144    144    144    144    144    144    144    144\n",
       "승      83     79     81     79     80     73     71     64     51     46\n",
       "패      55     61     62     61     63     71     72     75     92     95\n",
       "무       6      4      1      4      1      0      1      5      1      3\n",
       "승률  0.601  0.564  0.566  0.564  0.559  0.507  0.497  0.460  0.357  0.326"
      ]
     },
     "execution_count": 89,
     "metadata": {},
     "output_type": "execute_result"
    }
   ],
   "source": [
    "base"
   ]
  },
  {
   "cell_type": "code",
   "execution_count": 100,
   "metadata": {
    "scrolled": true
   },
   "outputs": [],
   "source": [
    "base.loc['순위']=seq_list"
   ]
  },
  {
   "cell_type": "code",
   "execution_count": 101,
   "metadata": {},
   "outputs": [],
   "source": [
    "final=base.T"
   ]
  },
  {
   "cell_type": "code",
   "execution_count": 104,
   "metadata": {
    "scrolled": true
   },
   "outputs": [],
   "source": [
    "final.set_index('순위', inplace=True)"
   ]
  },
  {
   "cell_type": "code",
   "execution_count": 105,
   "metadata": {
    "scrolled": true
   },
   "outputs": [
    {
     "data": {
      "text/html": [
       "<div>\n",
       "<style scoped>\n",
       "    .dataframe tbody tr th:only-of-type {\n",
       "        vertical-align: middle;\n",
       "    }\n",
       "\n",
       "    .dataframe tbody tr th {\n",
       "        vertical-align: top;\n",
       "    }\n",
       "\n",
       "    .dataframe thead th {\n",
       "        text-align: right;\n",
       "    }\n",
       "</style>\n",
       "<table border=\"1\" class=\"dataframe\">\n",
       "  <thead>\n",
       "    <tr style=\"text-align: right;\">\n",
       "      <th></th>\n",
       "      <th>팀</th>\n",
       "      <th>경기</th>\n",
       "      <th>승</th>\n",
       "      <th>패</th>\n",
       "      <th>무</th>\n",
       "      <th>승률</th>\n",
       "    </tr>\n",
       "    <tr>\n",
       "      <th>순위</th>\n",
       "      <th></th>\n",
       "      <th></th>\n",
       "      <th></th>\n",
       "      <th></th>\n",
       "      <th></th>\n",
       "      <th></th>\n",
       "    </tr>\n",
       "  </thead>\n",
       "  <tbody>\n",
       "    <tr>\n",
       "      <th>1</th>\n",
       "      <td>NC</td>\n",
       "      <td>144</td>\n",
       "      <td>83</td>\n",
       "      <td>55</td>\n",
       "      <td>6</td>\n",
       "      <td>0.601</td>\n",
       "    </tr>\n",
       "    <tr>\n",
       "      <th>2</th>\n",
       "      <td>두산</td>\n",
       "      <td>144</td>\n",
       "      <td>79</td>\n",
       "      <td>61</td>\n",
       "      <td>4</td>\n",
       "      <td>0.564</td>\n",
       "    </tr>\n",
       "    <tr>\n",
       "      <th>3</th>\n",
       "      <td>KT</td>\n",
       "      <td>144</td>\n",
       "      <td>81</td>\n",
       "      <td>62</td>\n",
       "      <td>1</td>\n",
       "      <td>0.566</td>\n",
       "    </tr>\n",
       "    <tr>\n",
       "      <th>4</th>\n",
       "      <td>LG</td>\n",
       "      <td>144</td>\n",
       "      <td>79</td>\n",
       "      <td>61</td>\n",
       "      <td>4</td>\n",
       "      <td>0.564</td>\n",
       "    </tr>\n",
       "    <tr>\n",
       "      <th>5</th>\n",
       "      <td>키움</td>\n",
       "      <td>144</td>\n",
       "      <td>80</td>\n",
       "      <td>63</td>\n",
       "      <td>1</td>\n",
       "      <td>0.559</td>\n",
       "    </tr>\n",
       "    <tr>\n",
       "      <th>6</th>\n",
       "      <td>KIA</td>\n",
       "      <td>144</td>\n",
       "      <td>73</td>\n",
       "      <td>71</td>\n",
       "      <td>0</td>\n",
       "      <td>0.507</td>\n",
       "    </tr>\n",
       "    <tr>\n",
       "      <th>7</th>\n",
       "      <td>롯데</td>\n",
       "      <td>144</td>\n",
       "      <td>71</td>\n",
       "      <td>72</td>\n",
       "      <td>1</td>\n",
       "      <td>0.497</td>\n",
       "    </tr>\n",
       "    <tr>\n",
       "      <th>8</th>\n",
       "      <td>삼성</td>\n",
       "      <td>144</td>\n",
       "      <td>64</td>\n",
       "      <td>75</td>\n",
       "      <td>5</td>\n",
       "      <td>0.460</td>\n",
       "    </tr>\n",
       "    <tr>\n",
       "      <th>9</th>\n",
       "      <td>SK</td>\n",
       "      <td>144</td>\n",
       "      <td>51</td>\n",
       "      <td>92</td>\n",
       "      <td>1</td>\n",
       "      <td>0.357</td>\n",
       "    </tr>\n",
       "    <tr>\n",
       "      <th>10</th>\n",
       "      <td>한화</td>\n",
       "      <td>144</td>\n",
       "      <td>46</td>\n",
       "      <td>95</td>\n",
       "      <td>3</td>\n",
       "      <td>0.326</td>\n",
       "    </tr>\n",
       "  </tbody>\n",
       "</table>\n",
       "</div>"
      ],
      "text/plain": [
       "      팀   경기   승   패  무     승률\n",
       "순위                            \n",
       "1    NC  144  83  55  6  0.601\n",
       "2    두산  144  79  61  4  0.564\n",
       "3    KT  144  81  62  1  0.566\n",
       "4    LG  144  79  61  4  0.564\n",
       "5    키움  144  80  63  1  0.559\n",
       "6   KIA  144  73  71  0  0.507\n",
       "7    롯데  144  71  72  1  0.497\n",
       "8    삼성  144  64  75  5  0.460\n",
       "9    SK  144  51  92  1  0.357\n",
       "10   한화  144  46  95  3  0.326"
      ]
     },
     "execution_count": 105,
     "metadata": {},
     "output_type": "execute_result"
    }
   ],
   "source": [
    "final"
   ]
  },
  {
   "cell_type": "code",
   "execution_count": 106,
   "metadata": {},
   "outputs": [],
   "source": [
    "final.to_csv(\"K디지털_김혜선_야구순위.csv\", encoding='euc-kr')"
   ]
  },
  {
   "cell_type": "markdown",
   "metadata": {},
   "source": [
    "### KBO사이트"
   ]
  },
  {
   "cell_type": "code",
   "execution_count": 86,
   "metadata": {},
   "outputs": [],
   "source": [
    "url = 'https://www.koreabaseball.com/TeamRank/TeamRank.aspx'\n",
    "res=req.get(url)\n",
    "soup=bs(res.text, 'lxml')"
   ]
  },
  {
   "cell_type": "code",
   "execution_count": 92,
   "metadata": {},
   "outputs": [],
   "source": [
    "x=soup.select('td')"
   ]
  },
  {
   "cell_type": "code",
   "execution_count": 106,
   "metadata": {},
   "outputs": [],
   "source": [
    "x=x[:120]"
   ]
  },
  {
   "cell_type": "code",
   "execution_count": 110,
   "metadata": {},
   "outputs": [],
   "source": [
    "data_list=[]\n",
    "for i in x:\n",
    "    data_list.append(i.text)"
   ]
  },
  {
   "cell_type": "code",
   "execution_count": 111,
   "metadata": {},
   "outputs": [],
   "source": [
    "import numpy as np"
   ]
  },
  {
   "cell_type": "code",
   "execution_count": 118,
   "metadata": {},
   "outputs": [],
   "source": [
    "final=np.array(data_list).reshape(10,12)"
   ]
  },
  {
   "cell_type": "code",
   "execution_count": 119,
   "metadata": {},
   "outputs": [
    {
     "data": {
      "text/plain": [
       "array([['1', 'NC', '144', '83', '55', '6', '0.601', '0', '4승2무4패', '1패',\n",
       "        '45-3-24', '38-3-31'],\n",
       "       ['2', '두산', '144', '79', '61', '4', '0.564', '5', '6승0무4패', '4승',\n",
       "        '41-2-29', '38-2-32'],\n",
       "       ['3', 'KT', '144', '81', '62', '1', '0.566', '4.5', '7승0무3패',\n",
       "        '1패', '44-0-28', '37-1-34'],\n",
       "       ['4', 'LG', '144', '79', '61', '4', '0.564', '5', '5승1무4패', '2패',\n",
       "        '39-3-30', '40-1-31'],\n",
       "       ['5', '키움', '144', '80', '63', '1', '0.559', '5.5', '6승0무4패',\n",
       "        '1패', '41-1-30', '39-0-33'],\n",
       "       ['6', 'KIA', '144', '73', '71', '0', '0.507', '13', '4승0무6패',\n",
       "        '1승', '37-0-35', '36-0-36'],\n",
       "       ['7', '롯데', '144', '71', '72', '1', '0.497', '14.5', '3승0무7패',\n",
       "        '1승', '41-0-31', '30-1-41'],\n",
       "       ['8', '삼성', '144', '64', '75', '5', '0.460', '19.5', '6승2무2패',\n",
       "        '1승', '33-2-37', '31-3-38'],\n",
       "       ['9', 'SK', '144', '51', '92', '1', '0.357', '34.5', '5승0무5패',\n",
       "        '1승', '28-0-44', '23-1-48'],\n",
       "       ['10', '한화', '144', '46', '95', '3', '0.326', '38.5', '3승1무6패',\n",
       "        '1승', '25-2-45', '21-1-50']], dtype='<U7')"
      ]
     },
     "execution_count": 119,
     "metadata": {},
     "output_type": "execute_result"
    }
   ],
   "source": [
    "final"
   ]
  },
  {
   "cell_type": "code",
   "execution_count": 122,
   "metadata": {},
   "outputs": [],
   "source": [
    "x=pd.DataFrame(final, columns= ['순위','팀명','경기수','승','패','무','승률','게임차','최근10경기','연속','홈','방문'])\n",
    "# columns 칼럼명 지정\n",
    "# 너무 길면 따로 변수처리해줘도 됨."
   ]
  },
  {
   "cell_type": "code",
   "execution_count": 124,
   "metadata": {},
   "outputs": [],
   "source": [
    "x=x.set_index(\"순위\")"
   ]
  },
  {
   "cell_type": "code",
   "execution_count": 126,
   "metadata": {},
   "outputs": [],
   "source": [
    "final=x.iloc[:,0:6]\n",
    "# 앞은 행을 자르니까 콤마로 구분해서 앞은 전부다 가져오고 뒷부분은 열을 자른다."
   ]
  },
  {
   "cell_type": "code",
   "execution_count": 127,
   "metadata": {},
   "outputs": [
    {
     "data": {
      "text/html": [
       "<div>\n",
       "<style scoped>\n",
       "    .dataframe tbody tr th:only-of-type {\n",
       "        vertical-align: middle;\n",
       "    }\n",
       "\n",
       "    .dataframe tbody tr th {\n",
       "        vertical-align: top;\n",
       "    }\n",
       "\n",
       "    .dataframe thead th {\n",
       "        text-align: right;\n",
       "    }\n",
       "</style>\n",
       "<table border=\"1\" class=\"dataframe\">\n",
       "  <thead>\n",
       "    <tr style=\"text-align: right;\">\n",
       "      <th></th>\n",
       "      <th>팀명</th>\n",
       "      <th>경기수</th>\n",
       "      <th>승</th>\n",
       "      <th>패</th>\n",
       "      <th>무</th>\n",
       "      <th>승률</th>\n",
       "    </tr>\n",
       "    <tr>\n",
       "      <th>순위</th>\n",
       "      <th></th>\n",
       "      <th></th>\n",
       "      <th></th>\n",
       "      <th></th>\n",
       "      <th></th>\n",
       "      <th></th>\n",
       "    </tr>\n",
       "  </thead>\n",
       "  <tbody>\n",
       "    <tr>\n",
       "      <th>1</th>\n",
       "      <td>NC</td>\n",
       "      <td>144</td>\n",
       "      <td>83</td>\n",
       "      <td>55</td>\n",
       "      <td>6</td>\n",
       "      <td>0.601</td>\n",
       "    </tr>\n",
       "    <tr>\n",
       "      <th>2</th>\n",
       "      <td>두산</td>\n",
       "      <td>144</td>\n",
       "      <td>79</td>\n",
       "      <td>61</td>\n",
       "      <td>4</td>\n",
       "      <td>0.564</td>\n",
       "    </tr>\n",
       "    <tr>\n",
       "      <th>3</th>\n",
       "      <td>KT</td>\n",
       "      <td>144</td>\n",
       "      <td>81</td>\n",
       "      <td>62</td>\n",
       "      <td>1</td>\n",
       "      <td>0.566</td>\n",
       "    </tr>\n",
       "    <tr>\n",
       "      <th>4</th>\n",
       "      <td>LG</td>\n",
       "      <td>144</td>\n",
       "      <td>79</td>\n",
       "      <td>61</td>\n",
       "      <td>4</td>\n",
       "      <td>0.564</td>\n",
       "    </tr>\n",
       "    <tr>\n",
       "      <th>5</th>\n",
       "      <td>키움</td>\n",
       "      <td>144</td>\n",
       "      <td>80</td>\n",
       "      <td>63</td>\n",
       "      <td>1</td>\n",
       "      <td>0.559</td>\n",
       "    </tr>\n",
       "    <tr>\n",
       "      <th>6</th>\n",
       "      <td>KIA</td>\n",
       "      <td>144</td>\n",
       "      <td>73</td>\n",
       "      <td>71</td>\n",
       "      <td>0</td>\n",
       "      <td>0.507</td>\n",
       "    </tr>\n",
       "    <tr>\n",
       "      <th>7</th>\n",
       "      <td>롯데</td>\n",
       "      <td>144</td>\n",
       "      <td>71</td>\n",
       "      <td>72</td>\n",
       "      <td>1</td>\n",
       "      <td>0.497</td>\n",
       "    </tr>\n",
       "    <tr>\n",
       "      <th>8</th>\n",
       "      <td>삼성</td>\n",
       "      <td>144</td>\n",
       "      <td>64</td>\n",
       "      <td>75</td>\n",
       "      <td>5</td>\n",
       "      <td>0.460</td>\n",
       "    </tr>\n",
       "    <tr>\n",
       "      <th>9</th>\n",
       "      <td>SK</td>\n",
       "      <td>144</td>\n",
       "      <td>51</td>\n",
       "      <td>92</td>\n",
       "      <td>1</td>\n",
       "      <td>0.357</td>\n",
       "    </tr>\n",
       "    <tr>\n",
       "      <th>10</th>\n",
       "      <td>한화</td>\n",
       "      <td>144</td>\n",
       "      <td>46</td>\n",
       "      <td>95</td>\n",
       "      <td>3</td>\n",
       "      <td>0.326</td>\n",
       "    </tr>\n",
       "  </tbody>\n",
       "</table>\n",
       "</div>"
      ],
      "text/plain": [
       "     팀명  경기수   승   패  무     승률\n",
       "순위                            \n",
       "1    NC  144  83  55  6  0.601\n",
       "2    두산  144  79  61  4  0.564\n",
       "3    KT  144  81  62  1  0.566\n",
       "4    LG  144  79  61  4  0.564\n",
       "5    키움  144  80  63  1  0.559\n",
       "6   KIA  144  73  71  0  0.507\n",
       "7    롯데  144  71  72  1  0.497\n",
       "8    삼성  144  64  75  5  0.460\n",
       "9    SK  144  51  92  1  0.357\n",
       "10   한화  144  46  95  3  0.326"
      ]
     },
     "execution_count": 127,
     "metadata": {},
     "output_type": "execute_result"
    }
   ],
   "source": [
    "final"
   ]
  },
  {
   "cell_type": "code",
   "execution_count": null,
   "metadata": {},
   "outputs": [],
   "source": []
  }
 ],
 "metadata": {
  "kernelspec": {
   "display_name": "Python 3",
   "language": "python",
   "name": "python3"
  },
  "language_info": {
   "codemirror_mode": {
    "name": "ipython",
    "version": 3
   },
   "file_extension": ".py",
   "mimetype": "text/x-python",
   "name": "python",
   "nbconvert_exporter": "python",
   "pygments_lexer": "ipython3",
   "version": "3.8.3"
  }
 },
 "nbformat": 4,
 "nbformat_minor": 4
}

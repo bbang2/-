{
 "cells": [
  {
   "cell_type": "code",
   "execution_count": 4,
   "metadata": {},
   "outputs": [],
   "source": [
    "import numpy as np\n",
    "import pandas as pd\n",
    "import requests as req\n",
    "from bs4 import BeautifulSoup as bs"
   ]
  },
  {
   "cell_type": "code",
   "execution_count": 32,
   "metadata": {},
   "outputs": [],
   "source": [
    "url = 'https://entertain.naver.com/home'\n",
    "res= req.get(url)\n",
    "text= res.text\n",
    "soup = bs(text, 'lxml')"
   ]
  },
  {
   "cell_type": "code",
   "execution_count": 116,
   "metadata": {},
   "outputs": [
    {
     "data": {
      "text/plain": [
       "[<em class=\"num no1\"><span class=\"blind\">1</span></em>,\n",
       " <em class=\"num no2\"><span class=\"blind\">2</span></em>,\n",
       " <em class=\"num no3\"><span class=\"blind\">3</span></em>,\n",
       " <em class=\"num no4\"><span class=\"blind\">4</span></em>,\n",
       " <em class=\"num no5\"><span class=\"blind\">5</span></em>,\n",
       " <em class=\"num no6\"><span class=\"blind\">6</span></em>,\n",
       " <em class=\"num no7\"><span class=\"blind\">7</span></em>,\n",
       " <em class=\"num no8\"><span class=\"blind\">8</span></em>,\n",
       " <em class=\"num no9\"><span class=\"blind\">9</span></em>,\n",
       " <em class=\"num no10\"><span class=\"blind\">10</span></em>]"
      ]
     },
     "execution_count": 116,
     "metadata": {},
     "output_type": "execute_result"
    }
   ],
   "source": [
    "title1=soup.select('.rank_lst a>.num')\n",
    "title1"
   ]
  },
  {
   "cell_type": "code",
   "execution_count": 113,
   "metadata": {},
   "outputs": [
    {
     "data": {
      "text/plain": [
       "[<a href=\"/ranking/read?oid=109&amp;aid=0004318120\" onclick=\"nclk(this, 'com.relist', '', '');\"><em class=\"num no1\"><span class=\"blind\">1</span></em>\"결혼+임신 요구=성폭력\"..사유리 부모가 미혼모 된 딸에게 한 말 [종합]</a>,\n",
       " <a href=\"/ranking/read?oid=109&amp;aid=0004318062\" onclick=\"nclk(this, 'com.relist', '', '');\"><em class=\"num no2\"><span class=\"blind\">2</span></em>배동성 딸 배수진 \"이혼 6개월·돌싱맘, 임현준과 한번 싸우면 바닥을 봤다\"(우이혼)[종합]</a>,\n",
       " <a href=\"/ranking/read?oid=112&amp;aid=0003371049\" onclick=\"nclk(this, 'com.relist', '', '');\"><em class=\"num no3\"><span class=\"blind\">3</span></em>[어게인TV]'우이혼' 배동성 딸 나탈리, 이혼 6개월차 \"성격 많이 바뀌어…부모님도 이혼\"</a>,\n",
       " <a href=\"/ranking/read?oid=109&amp;aid=0004317976\" onclick=\"nclk(this, 'com.relist', '', '');\"><em class=\"num no4\"><span class=\"blind\">4</span></em>'YG行' 진경, 매니저 손가락 사진에 팬들이 도배한 댓글은? [★SHOT!]</a>,\n",
       " <a href=\"/ranking/read?oid=015&amp;aid=0004457733\" onclick=\"nclk(this, 'com.relist', '', '');\"><em class=\"num no5\"><span class=\"blind\">5</span></em>배동성 딸 배수진 '우리 이혼했어요' 출연 \"나도 돌싱\"</a>,\n",
       " <a href=\"/ranking/read?oid=382&amp;aid=0000874461\" onclick=\"nclk(this, 'com.relist', '', '');\"><em class=\"num no6\"><span class=\"blind\">6</span></em>[DAY컷] ‘스타트업’ 배수지♥남주혁, 3년만에 재회…묘한 설렘</a>,\n",
       " <a href=\"/ranking/read?oid=052&amp;aid=0001519280\" onclick=\"nclk(this, 'com.relist', '', '');\"><em class=\"num no7\"><span class=\"blind\">7</span></em>'편스토랑' 변정수 \"갑상선암 투병 중 리마인드 웨딩\" 영상 공개</a>,\n",
       " <a href=\"/ranking/read?oid=003&amp;aid=0010211419\" onclick=\"nclk(this, 'com.relist', '', '');\"><em class=\"num no8\"><span class=\"blind\">8</span></em>'배동성 딸' 배수진 \"나도 돌싱\"…'우리 이혼했어요'</a>,\n",
       " <a href=\"/ranking/read?oid=311&amp;aid=0001233812\" onclick=\"nclk(this, 'com.relist', '', '');\"><em class=\"num no9\"><span class=\"blind\">9</span></em>류지광 \"母 보증 잘못 서 4억 빚…23년째 목동 다세대 주택 생활\" (쩐당포)</a>,\n",
       " <a href=\"/ranking/read?oid=081&amp;aid=0003143442\" onclick=\"nclk(this, 'com.relist', '', '');\"><em class=\"num no10\"><span class=\"blind\">10</span></em>사유리 “아기 싫다는 남자에 임신 요구는 성폭력”</a>]"
      ]
     },
     "execution_count": 113,
     "metadata": {},
     "output_type": "execute_result"
    }
   ],
   "source": [
    "title=soup.select('.rank_lst a')\n",
    "title"
   ]
  },
  {
   "cell_type": "code",
   "execution_count": 70,
   "metadata": {},
   "outputs": [
    {
     "data": {
      "text/plain": [
       "10"
      ]
     },
     "execution_count": 70,
     "metadata": {},
     "output_type": "execute_result"
    }
   ],
   "source": []
  },
  {
   "cell_type": "code",
   "execution_count": 76,
   "metadata": {},
   "outputs": [],
   "source": [
    "result_list=[]\n",
    "seq_list=[]\n",
    "\n",
    "for i in range (len(title)):\n",
    "    result_list.append(title[i].text.strip())\n",
    "    seq_list.append(i+1)"
   ]
  },
  {
   "cell_type": "code",
   "execution_count": 117,
   "metadata": {},
   "outputs": [],
   "source": [
    "title_dic={\"순위\":seq_list, \"제목\":result_list}"
   ]
  },
  {
   "cell_type": "code",
   "execution_count": 118,
   "metadata": {},
   "outputs": [],
   "source": [
    "title_df=pd.DataFrame(title_dic)"
   ]
  },
  {
   "cell_type": "code",
   "execution_count": null,
   "metadata": {},
   "outputs": [],
   "source": [
    "title_df"
   ]
  },
  {
   "cell_type": "code",
   "execution_count": 119,
   "metadata": {},
   "outputs": [],
   "source": [
    "title_df.set_index(\"순위\", inplace=True)"
   ]
  },
  {
   "cell_type": "code",
   "execution_count": 120,
   "metadata": {},
   "outputs": [
    {
     "data": {
      "text/html": [
       "<div>\n",
       "<style scoped>\n",
       "    .dataframe tbody tr th:only-of-type {\n",
       "        vertical-align: middle;\n",
       "    }\n",
       "\n",
       "    .dataframe tbody tr th {\n",
       "        vertical-align: top;\n",
       "    }\n",
       "\n",
       "    .dataframe thead th {\n",
       "        text-align: right;\n",
       "    }\n",
       "</style>\n",
       "<table border=\"1\" class=\"dataframe\">\n",
       "  <thead>\n",
       "    <tr style=\"text-align: right;\">\n",
       "      <th></th>\n",
       "      <th>제목</th>\n",
       "    </tr>\n",
       "    <tr>\n",
       "      <th>순위</th>\n",
       "      <th></th>\n",
       "    </tr>\n",
       "  </thead>\n",
       "  <tbody>\n",
       "    <tr>\n",
       "      <th>1</th>\n",
       "      <td>1\"결혼+임신 요구=성폭력\"..사유리 부모가 미혼모 된 딸에게 한 말 [종합]</td>\n",
       "    </tr>\n",
       "    <tr>\n",
       "      <th>2</th>\n",
       "      <td>2배동성 딸 배수진 \"이혼 6개월·돌싱맘, 임현준과 한번 싸우면 바닥을 봤다\"(우이...</td>\n",
       "    </tr>\n",
       "    <tr>\n",
       "      <th>3</th>\n",
       "      <td>3[어게인TV]'우이혼' 배동성 딸 나탈리, 이혼 6개월차 \"성격 많이 바뀌어…부모...</td>\n",
       "    </tr>\n",
       "    <tr>\n",
       "      <th>4</th>\n",
       "      <td>4'YG行' 진경, 매니저 손가락 사진에 팬들이 도배한 댓글은? [★SHOT!]</td>\n",
       "    </tr>\n",
       "    <tr>\n",
       "      <th>5</th>\n",
       "      <td>5배동성 딸 배수진 '우리 이혼했어요' 출연 \"나도 돌싱\"</td>\n",
       "    </tr>\n",
       "    <tr>\n",
       "      <th>6</th>\n",
       "      <td>6[DAY컷] ‘스타트업’ 배수지♥남주혁, 3년만에 재회…묘한 설렘</td>\n",
       "    </tr>\n",
       "    <tr>\n",
       "      <th>7</th>\n",
       "      <td>7'편스토랑' 변정수 \"갑상선암 투병 중 리마인드 웨딩\" 영상 공개</td>\n",
       "    </tr>\n",
       "    <tr>\n",
       "      <th>8</th>\n",
       "      <td>8'배동성 딸' 배수진 \"나도 돌싱\"…'우리 이혼했어요'</td>\n",
       "    </tr>\n",
       "    <tr>\n",
       "      <th>9</th>\n",
       "      <td>9류지광 \"母 보증 잘못 서 4억 빚…23년째 목동 다세대 주택 생활\" (쩐당포)</td>\n",
       "    </tr>\n",
       "    <tr>\n",
       "      <th>10</th>\n",
       "      <td>10사유리 “아기 싫다는 남자에 임신 요구는 성폭력”</td>\n",
       "    </tr>\n",
       "  </tbody>\n",
       "</table>\n",
       "</div>"
      ],
      "text/plain": [
       "                                                   제목\n",
       "순위                                                   \n",
       "1         1\"결혼+임신 요구=성폭력\"..사유리 부모가 미혼모 된 딸에게 한 말 [종합]\n",
       "2   2배동성 딸 배수진 \"이혼 6개월·돌싱맘, 임현준과 한번 싸우면 바닥을 봤다\"(우이...\n",
       "3   3[어게인TV]'우이혼' 배동성 딸 나탈리, 이혼 6개월차 \"성격 많이 바뀌어…부모...\n",
       "4        4'YG行' 진경, 매니저 손가락 사진에 팬들이 도배한 댓글은? [★SHOT!]\n",
       "5                    5배동성 딸 배수진 '우리 이혼했어요' 출연 \"나도 돌싱\"\n",
       "6               6[DAY컷] ‘스타트업’ 배수지♥남주혁, 3년만에 재회…묘한 설렘\n",
       "7               7'편스토랑' 변정수 \"갑상선암 투병 중 리마인드 웨딩\" 영상 공개\n",
       "8                     8'배동성 딸' 배수진 \"나도 돌싱\"…'우리 이혼했어요'\n",
       "9       9류지광 \"母 보증 잘못 서 4억 빚…23년째 목동 다세대 주택 생활\" (쩐당포)\n",
       "10                      10사유리 “아기 싫다는 남자에 임신 요구는 성폭력”"
      ]
     },
     "execution_count": 120,
     "metadata": {},
     "output_type": "execute_result"
    }
   ],
   "source": [
    "title_df"
   ]
  },
  {
   "cell_type": "code",
   "execution_count": 121,
   "metadata": {},
   "outputs": [],
   "source": [
    "import os"
   ]
  },
  {
   "cell_type": "code",
   "execution_count": 122,
   "metadata": {},
   "outputs": [
    {
     "name": "stdout",
     "output_type": "stream",
     "text": [
      "폴더생성\n"
     ]
    }
   ],
   "source": [
    "if not os.path.isdir('./실습CSV'):\n",
    "    os.mkdir('./실습CSV')\n",
    "    print(\"폴더생성\")\n",
    "else:\n",
    "    print(\"폴더있음\")"
   ]
  },
  {
   "cell_type": "code",
   "execution_count": null,
   "metadata": {},
   "outputs": [],
   "source": []
  },
  {
   "cell_type": "code",
   "execution_count": 123,
   "metadata": {},
   "outputs": [],
   "source": [
    "title_df.to_csv(\"네이버 연예뉴스 랭킹.csv\", encoding='euc-kr')"
   ]
  },
  {
   "cell_type": "code",
   "execution_count": null,
   "metadata": {},
   "outputs": [],
   "source": []
  },
  {
   "cell_type": "markdown",
   "metadata": {},
   "source": [
    "## 셀레니움 모듈"
   ]
  },
  {
   "cell_type": "code",
   "execution_count": 148,
   "metadata": {},
   "outputs": [],
   "source": [
    "from selenium import webdriver as wb\n",
    "from selenium.webdriver.common.keys import Keys\n",
    "import time"
   ]
  },
  {
   "cell_type": "markdown",
   "metadata": {},
   "source": [
    "### url 가져오기"
   ]
  },
  {
   "cell_type": "code",
   "execution_count": 127,
   "metadata": {},
   "outputs": [],
   "source": [
    "driver = wb.Chrome()\n",
    "url ='https://www.tlj.co.kr:7008/product/list.asp?ref=2'\n",
    "res = driver.get(url)"
   ]
  },
  {
   "cell_type": "code",
   "execution_count": 158,
   "metadata": {},
   "outputs": [],
   "source": [
    "soup = bs(driver.page_source, 'lxml')"
   ]
  },
  {
   "cell_type": "markdown",
   "metadata": {},
   "source": [
    "### 페이지 내리기"
   ]
  },
  {
   "cell_type": "code",
   "execution_count": 159,
   "metadata": {},
   "outputs": [],
   "source": [
    "body = driver.find_element_by_tag_name(\"body\")"
   ]
  },
  {
   "cell_type": "code",
   "execution_count": 160,
   "metadata": {},
   "outputs": [],
   "source": [
    "try:\n",
    "    for i in range(30):\n",
    "        body.send_keys(Keys.END)\n",
    "        time.sleep(1)\n",
    "except:\n",
    "    print(i)"
   ]
  },
  {
   "cell_type": "markdown",
   "metadata": {},
   "source": [
    "### 페이지 내린거 파싱"
   ]
  },
  {
   "cell_type": "code",
   "execution_count": 161,
   "metadata": {},
   "outputs": [],
   "source": [
    "soup = bs(driver.page_source, 'lxml')"
   ]
  },
  {
   "cell_type": "markdown",
   "metadata": {},
   "source": [
    "### 추천메뉴에 중복있어서 정확히 경로 지정"
   ]
  },
  {
   "cell_type": "code",
   "execution_count": 198,
   "metadata": {},
   "outputs": [],
   "source": [
    "menu = soup.select('.over .name')\n",
    "desc=soup.select('.info+.desc')"
   ]
  },
  {
   "cell_type": "markdown",
   "metadata": {},
   "source": [
    "### 길이 똑같은지 확인"
   ]
  },
  {
   "cell_type": "code",
   "execution_count": 200,
   "metadata": {},
   "outputs": [
    {
     "data": {
      "text/plain": [
       "189"
      ]
     },
     "execution_count": 200,
     "metadata": {},
     "output_type": "execute_result"
    }
   ],
   "source": [
    "len(desc)"
   ]
  },
  {
   "cell_type": "code",
   "execution_count": 186,
   "metadata": {},
   "outputs": [
    {
     "data": {
      "text/plain": [
       "189"
      ]
     },
     "execution_count": 186,
     "metadata": {},
     "output_type": "execute_result"
    }
   ],
   "source": [
    "len(menu)"
   ]
  },
  {
   "cell_type": "markdown",
   "metadata": {},
   "source": [
    "### 리스트에 다 넣어주기 (개행 있으면 제거)"
   ]
  },
  {
   "cell_type": "code",
   "execution_count": 205,
   "metadata": {},
   "outputs": [],
   "source": [
    "menu_list=[]\n",
    "desc_list =[]\n",
    "seq_list=[]\n",
    "\n",
    "for i in range(len(menu)):\n",
    "    menu_list.append(menu[i].text)\n",
    "    desc_list.append(desc[i].text.strip())\n",
    "    seq_list.append(i+1)\n",
    "    "
   ]
  },
  {
   "cell_type": "markdown",
   "metadata": {},
   "source": [
    "### 딕셔너리형태로 바꿔주기"
   ]
  },
  {
   "cell_type": "code",
   "execution_count": 206,
   "metadata": {},
   "outputs": [],
   "source": [
    "ddu_dic={\"메뉴\":menu_list, \"설명\":desc_list}"
   ]
  },
  {
   "cell_type": "markdown",
   "metadata": {},
   "source": [
    "### 데이터프레임 생성+인덱스 바꿔주기"
   ]
  },
  {
   "cell_type": "code",
   "execution_count": 207,
   "metadata": {},
   "outputs": [],
   "source": [
    "ddu_df=pd.DataFrame(ddu_dic, index=seq_list)"
   ]
  },
  {
   "cell_type": "code",
   "execution_count": 208,
   "metadata": {},
   "outputs": [
    {
     "data": {
      "text/html": [
       "<div>\n",
       "<style scoped>\n",
       "    .dataframe tbody tr th:only-of-type {\n",
       "        vertical-align: middle;\n",
       "    }\n",
       "\n",
       "    .dataframe tbody tr th {\n",
       "        vertical-align: top;\n",
       "    }\n",
       "\n",
       "    .dataframe thead th {\n",
       "        text-align: right;\n",
       "    }\n",
       "</style>\n",
       "<table border=\"1\" class=\"dataframe\">\n",
       "  <thead>\n",
       "    <tr style=\"text-align: right;\">\n",
       "      <th></th>\n",
       "      <th>메뉴</th>\n",
       "      <th>설명</th>\n",
       "    </tr>\n",
       "  </thead>\n",
       "  <tbody>\n",
       "    <tr>\n",
       "      <th>1</th>\n",
       "      <td>눈 내린 딸기 몽블랑</td>\n",
       "      <td>촉촉한 몽블랑에 연유 생크림과 딸기를 더해 더욱 상큼 달콤한 제품</td>\n",
       "    </tr>\n",
       "    <tr>\n",
       "      <th>2</th>\n",
       "      <td>눈 내린 초코 몽블랑</td>\n",
       "      <td>촉촉한 몽블랑에 초코 생크림과 초콜릿 코팅을 입혀 달콤함이 한 층 더 진한 제품</td>\n",
       "    </tr>\n",
       "    <tr>\n",
       "      <th>3</th>\n",
       "      <td>빨간코 루돌프</td>\n",
       "      <td>귀여운 모양에 한 번, 진한 바닐라 우유크림의 달콤한 맛에 두번 반하는 제품</td>\n",
       "    </tr>\n",
       "    <tr>\n",
       "      <th>4</th>\n",
       "      <td>크리스마스 브레드</td>\n",
       "      <td>크림치즈와 곡물빵의 조화로 달콤 고소한 크리스마스 리스 모양의 제품</td>\n",
       "    </tr>\n",
       "    <tr>\n",
       "      <th>5</th>\n",
       "      <td>마담 얼그레이 크림번</td>\n",
       "      <td>부드러운 생크림과 얼그레이 토핑을 더한 빵이 은은하게 어우러져 향긋한 홍차향을 느낄...</td>\n",
       "    </tr>\n",
       "    <tr>\n",
       "      <th>...</th>\n",
       "      <td>...</td>\n",
       "      <td>...</td>\n",
       "    </tr>\n",
       "    <tr>\n",
       "      <th>185</th>\n",
       "      <td>추억의 사라다 고로케</td>\n",
       "      <td>바삭한 고로케속에 아삭아삭 맛있는 야채 사라다가 듬뿍 들어간 든든한 식사 대용 빵</td>\n",
       "    </tr>\n",
       "    <tr>\n",
       "      <th>186</th>\n",
       "      <td>미니햄치즈롤(봉)</td>\n",
       "      <td>체다치즈와 햄이 미니롤 속에~ 맛있는 미니 조리빵</td>\n",
       "    </tr>\n",
       "    <tr>\n",
       "      <th>187</th>\n",
       "      <td>트윈에그브레드</td>\n",
       "      <td>삶은 계란이 빵 속에 통째로 쏙~ 맛있는 쌍둥이 모양의 계란빵</td>\n",
       "    </tr>\n",
       "    <tr>\n",
       "      <th>188</th>\n",
       "      <td>피자토스트</td>\n",
       "      <td>맛있는 피자 토핑을 식빵에 올려 구워낸 피자 토스트</td>\n",
       "    </tr>\n",
       "    <tr>\n",
       "      <th>189</th>\n",
       "      <td>폭신폭신모닝롤</td>\n",
       "      <td>보들보들한 빵 결 속 풍부한 버터 향 가득!\\n담백하고 부드러운 모닝롤</td>\n",
       "    </tr>\n",
       "  </tbody>\n",
       "</table>\n",
       "<p>189 rows × 2 columns</p>\n",
       "</div>"
      ],
      "text/plain": [
       "              메뉴                                                 설명\n",
       "1    눈 내린 딸기 몽블랑               촉촉한 몽블랑에 연유 생크림과 딸기를 더해 더욱 상큼 달콤한 제품\n",
       "2    눈 내린 초코 몽블랑       촉촉한 몽블랑에 초코 생크림과 초콜릿 코팅을 입혀 달콤함이 한 층 더 진한 제품\n",
       "3        빨간코 루돌프         귀여운 모양에 한 번, 진한 바닐라 우유크림의 달콤한 맛에 두번 반하는 제품\n",
       "4      크리스마스 브레드              크림치즈와 곡물빵의 조화로 달콤 고소한 크리스마스 리스 모양의 제품\n",
       "5    마담 얼그레이 크림번  부드러운 생크림과 얼그레이 토핑을 더한 빵이 은은하게 어우러져 향긋한 홍차향을 느낄...\n",
       "..           ...                                                ...\n",
       "185  추억의 사라다 고로케      바삭한 고로케속에 아삭아삭 맛있는 야채 사라다가 듬뿍 들어간 든든한 식사 대용 빵\n",
       "186    미니햄치즈롤(봉)                        체다치즈와 햄이 미니롤 속에~ 맛있는 미니 조리빵\n",
       "187      트윈에그브레드                 삶은 계란이 빵 속에 통째로 쏙~ 맛있는 쌍둥이 모양의 계란빵\n",
       "188        피자토스트                       맛있는 피자 토핑을 식빵에 올려 구워낸 피자 토스트\n",
       "189      폭신폭신모닝롤            보들보들한 빵 결 속 풍부한 버터 향 가득!\\n담백하고 부드러운 모닝롤\n",
       "\n",
       "[189 rows x 2 columns]"
      ]
     },
     "execution_count": 208,
     "metadata": {},
     "output_type": "execute_result"
    }
   ],
   "source": [
    "ddu_df"
   ]
  },
  {
   "cell_type": "markdown",
   "metadata": {},
   "source": [
    "### CSV 파일 저장(실패)"
   ]
  },
  {
   "cell_type": "code",
   "execution_count": 209,
   "metadata": {
    "scrolled": true
   },
   "outputs": [
    {
     "ename": "UnicodeEncodeError",
     "evalue": "'euc_kr' codec can't encode character '\\xa0' in position 19: illegal multibyte sequence",
     "output_type": "error",
     "traceback": [
      "\u001b[1;31m---------------------------------------------------------------------------\u001b[0m",
      "\u001b[1;31mUnicodeEncodeError\u001b[0m                        Traceback (most recent call last)",
      "\u001b[1;32m<ipython-input-209-577882d0803c>\u001b[0m in \u001b[0;36m<module>\u001b[1;34m\u001b[0m\n\u001b[1;32m----> 1\u001b[1;33m \u001b[0mddu_df\u001b[0m\u001b[1;33m.\u001b[0m\u001b[0mto_csv\u001b[0m\u001b[1;33m(\u001b[0m\u001b[1;34m\"뚜레주르 메뉴리스트.csv\"\u001b[0m\u001b[1;33m,\u001b[0m \u001b[0mencoding\u001b[0m\u001b[1;33m=\u001b[0m\u001b[1;34m'euc-kr'\u001b[0m\u001b[1;33m)\u001b[0m\u001b[1;33m\u001b[0m\u001b[1;33m\u001b[0m\u001b[0m\n\u001b[0m",
      "\u001b[1;32m~\\Anaconda3\\lib\\site-packages\\pandas\\core\\generic.py\u001b[0m in \u001b[0;36mto_csv\u001b[1;34m(self, path_or_buf, sep, na_rep, float_format, columns, header, index, index_label, mode, encoding, compression, quoting, quotechar, line_terminator, chunksize, date_format, doublequote, escapechar, decimal)\u001b[0m\n\u001b[0;32m   3202\u001b[0m             \u001b[0mdecimal\u001b[0m\u001b[1;33m=\u001b[0m\u001b[0mdecimal\u001b[0m\u001b[1;33m,\u001b[0m\u001b[1;33m\u001b[0m\u001b[1;33m\u001b[0m\u001b[0m\n\u001b[0;32m   3203\u001b[0m         )\n\u001b[1;32m-> 3204\u001b[1;33m         \u001b[0mformatter\u001b[0m\u001b[1;33m.\u001b[0m\u001b[0msave\u001b[0m\u001b[1;33m(\u001b[0m\u001b[1;33m)\u001b[0m\u001b[1;33m\u001b[0m\u001b[1;33m\u001b[0m\u001b[0m\n\u001b[0m\u001b[0;32m   3205\u001b[0m \u001b[1;33m\u001b[0m\u001b[0m\n\u001b[0;32m   3206\u001b[0m         \u001b[1;32mif\u001b[0m \u001b[0mpath_or_buf\u001b[0m \u001b[1;32mis\u001b[0m \u001b[1;32mNone\u001b[0m\u001b[1;33m:\u001b[0m\u001b[1;33m\u001b[0m\u001b[1;33m\u001b[0m\u001b[0m\n",
      "\u001b[1;32m~\\Anaconda3\\lib\\site-packages\\pandas\\io\\formats\\csvs.py\u001b[0m in \u001b[0;36msave\u001b[1;34m(self)\u001b[0m\n\u001b[0;32m    202\u001b[0m             )\n\u001b[0;32m    203\u001b[0m \u001b[1;33m\u001b[0m\u001b[0m\n\u001b[1;32m--> 204\u001b[1;33m             \u001b[0mself\u001b[0m\u001b[1;33m.\u001b[0m\u001b[0m_save\u001b[0m\u001b[1;33m(\u001b[0m\u001b[1;33m)\u001b[0m\u001b[1;33m\u001b[0m\u001b[1;33m\u001b[0m\u001b[0m\n\u001b[0m\u001b[0;32m    205\u001b[0m \u001b[1;33m\u001b[0m\u001b[0m\n\u001b[0;32m    206\u001b[0m         \u001b[1;32mfinally\u001b[0m\u001b[1;33m:\u001b[0m\u001b[1;33m\u001b[0m\u001b[1;33m\u001b[0m\u001b[0m\n",
      "\u001b[1;32m~\\Anaconda3\\lib\\site-packages\\pandas\\io\\formats\\csvs.py\u001b[0m in \u001b[0;36m_save\u001b[1;34m(self)\u001b[0m\n\u001b[0;32m    323\u001b[0m                 \u001b[1;32mbreak\u001b[0m\u001b[1;33m\u001b[0m\u001b[1;33m\u001b[0m\u001b[0m\n\u001b[0;32m    324\u001b[0m \u001b[1;33m\u001b[0m\u001b[0m\n\u001b[1;32m--> 325\u001b[1;33m             \u001b[0mself\u001b[0m\u001b[1;33m.\u001b[0m\u001b[0m_save_chunk\u001b[0m\u001b[1;33m(\u001b[0m\u001b[0mstart_i\u001b[0m\u001b[1;33m,\u001b[0m \u001b[0mend_i\u001b[0m\u001b[1;33m)\u001b[0m\u001b[1;33m\u001b[0m\u001b[1;33m\u001b[0m\u001b[0m\n\u001b[0m\u001b[0;32m    326\u001b[0m \u001b[1;33m\u001b[0m\u001b[0m\n\u001b[0;32m    327\u001b[0m     \u001b[1;32mdef\u001b[0m \u001b[0m_save_chunk\u001b[0m\u001b[1;33m(\u001b[0m\u001b[0mself\u001b[0m\u001b[1;33m,\u001b[0m \u001b[0mstart_i\u001b[0m\u001b[1;33m:\u001b[0m \u001b[0mint\u001b[0m\u001b[1;33m,\u001b[0m \u001b[0mend_i\u001b[0m\u001b[1;33m:\u001b[0m \u001b[0mint\u001b[0m\u001b[1;33m)\u001b[0m \u001b[1;33m->\u001b[0m \u001b[1;32mNone\u001b[0m\u001b[1;33m:\u001b[0m\u001b[1;33m\u001b[0m\u001b[1;33m\u001b[0m\u001b[0m\n",
      "\u001b[1;32m~\\Anaconda3\\lib\\site-packages\\pandas\\io\\formats\\csvs.py\u001b[0m in \u001b[0;36m_save_chunk\u001b[1;34m(self, start_i, end_i)\u001b[0m\n\u001b[0;32m    354\u001b[0m         )\n\u001b[0;32m    355\u001b[0m \u001b[1;33m\u001b[0m\u001b[0m\n\u001b[1;32m--> 356\u001b[1;33m         \u001b[0mlibwriters\u001b[0m\u001b[1;33m.\u001b[0m\u001b[0mwrite_csv_rows\u001b[0m\u001b[1;33m(\u001b[0m\u001b[0mself\u001b[0m\u001b[1;33m.\u001b[0m\u001b[0mdata\u001b[0m\u001b[1;33m,\u001b[0m \u001b[0mix\u001b[0m\u001b[1;33m,\u001b[0m \u001b[0mself\u001b[0m\u001b[1;33m.\u001b[0m\u001b[0mnlevels\u001b[0m\u001b[1;33m,\u001b[0m \u001b[0mself\u001b[0m\u001b[1;33m.\u001b[0m\u001b[0mcols\u001b[0m\u001b[1;33m,\u001b[0m \u001b[0mself\u001b[0m\u001b[1;33m.\u001b[0m\u001b[0mwriter\u001b[0m\u001b[1;33m)\u001b[0m\u001b[1;33m\u001b[0m\u001b[1;33m\u001b[0m\u001b[0m\n\u001b[0m",
      "\u001b[1;32mpandas\\_libs\\writers.pyx\u001b[0m in \u001b[0;36mpandas._libs.writers.write_csv_rows\u001b[1;34m()\u001b[0m\n",
      "\u001b[1;31mUnicodeEncodeError\u001b[0m: 'euc_kr' codec can't encode character '\\xa0' in position 19: illegal multibyte sequence"
     ]
    }
   ],
   "source": [
    "ddu_df.to_csv(\"뚜레주르 메뉴리스트.csv\", encoding='euc-kr')"
   ]
  },
  {
   "cell_type": "code",
   "execution_count": null,
   "metadata": {},
   "outputs": [],
   "source": []
  },
  {
   "cell_type": "markdown",
   "metadata": {},
   "source": [
    "## 이미지 크롤링"
   ]
  },
  {
   "cell_type": "code",
   "execution_count": 210,
   "metadata": {},
   "outputs": [],
   "source": [
    "import os\n",
    "from urllib.request import urlretrieve"
   ]
  },
  {
   "cell_type": "markdown",
   "metadata": {},
   "source": [
    "### 있으면 이미지폴더 만들기"
   ]
  },
  {
   "cell_type": "code",
   "execution_count": 211,
   "metadata": {},
   "outputs": [
    {
     "name": "stdout",
     "output_type": "stream",
     "text": [
      "폴더있음\n"
     ]
    }
   ],
   "source": [
    "if not os.path.isdir('./이미지'):\n",
    "    os.mkdir('./이미지')\n",
    "    print(\"폴더생성\")\n",
    "else:\n",
    "    print('폴더있음')"
   ]
  },
  {
   "cell_type": "markdown",
   "metadata": {},
   "source": [
    "### url 가져오기"
   ]
  },
  {
   "cell_type": "code",
   "execution_count": 212,
   "metadata": {},
   "outputs": [],
   "source": [
    "url = 'https://search.naver.com/search.naver?where=image&sm=tab_jum&query=%ED%95%98%EC%A0%95%EC%9A%B0'"
   ]
  },
  {
   "cell_type": "code",
   "execution_count": 213,
   "metadata": {},
   "outputs": [],
   "source": [
    "driver = wb.Chrome()\n",
    "driver.get(url)"
   ]
  },
  {
   "cell_type": "code",
   "execution_count": 214,
   "metadata": {},
   "outputs": [],
   "source": [
    "soup=bs(driver.page_source, 'lxml')"
   ]
  },
  {
   "cell_type": "code",
   "execution_count": 215,
   "metadata": {},
   "outputs": [],
   "source": [
    "img = soup.select('._img')"
   ]
  },
  {
   "cell_type": "markdown",
   "metadata": {},
   "source": [
    "### src속성으로 먼저 for문돌리고 이미지깨지는 파일찾아서\n",
    "### 그부분은 if로 data-source로 cnt걸어서 다시 for문 돌리기"
   ]
  },
  {
   "cell_type": "code",
   "execution_count": 220,
   "metadata": {},
   "outputs": [],
   "source": [
    "img_list=[]\n",
    "cnt = 0\n",
    "\n",
    "for i in img:\n",
    "    \n",
    "    if (cnt>=39):\n",
    "        img_list.append(i['data-source'])\n",
    "        #src속성이 아닌 것 몇번째인지 확인해서 변환함. \n",
    "    else:\n",
    "        img_list.append(i['src']) \n",
    "        # 이미지가 저장된 src를 가져오기 위함이기 때문에 []로 속성부여\n",
    "    cnt+=1"
   ]
  },
  {
   "cell_type": "markdown",
   "metadata": {},
   "source": [
    "### 이미지 저장(시험볼 땐 출력시 cnt 손보기"
   ]
  },
  {
   "cell_type": "code",
   "execution_count": 221,
   "metadata": {},
   "outputs": [
    {
     "name": "stdout",
     "output_type": "stream",
     "text": [
      "2 번째 이미지가 저장중입니다.\n",
      "3 번째 이미지가 저장중입니다.\n",
      "4 번째 이미지가 저장중입니다.\n",
      "5 번째 이미지가 저장중입니다.\n",
      "6 번째 이미지가 저장중입니다.\n",
      "7 번째 이미지가 저장중입니다.\n",
      "8 번째 이미지가 저장중입니다.\n",
      "9 번째 이미지가 저장중입니다.\n",
      "10 번째 이미지가 저장중입니다.\n",
      "11 번째 이미지가 저장중입니다.\n",
      "12 번째 이미지가 저장중입니다.\n",
      "13 번째 이미지가 저장중입니다.\n",
      "14 번째 이미지가 저장중입니다.\n",
      "15 번째 이미지가 저장중입니다.\n",
      "16 번째 이미지가 저장중입니다.\n",
      "17 번째 이미지가 저장중입니다.\n",
      "18 번째 이미지가 저장중입니다.\n",
      "19 번째 이미지가 저장중입니다.\n",
      "20 번째 이미지가 저장중입니다.\n",
      "21 번째 이미지가 저장중입니다.\n",
      "22 번째 이미지가 저장중입니다.\n",
      "23 번째 이미지가 저장중입니다.\n",
      "24 번째 이미지가 저장중입니다.\n",
      "25 번째 이미지가 저장중입니다.\n",
      "26 번째 이미지가 저장중입니다.\n",
      "27 번째 이미지가 저장중입니다.\n",
      "28 번째 이미지가 저장중입니다.\n",
      "29 번째 이미지가 저장중입니다.\n",
      "30 번째 이미지가 저장중입니다.\n",
      "31 번째 이미지가 저장중입니다.\n",
      "32 번째 이미지가 저장중입니다.\n",
      "33 번째 이미지가 저장중입니다.\n",
      "34 번째 이미지가 저장중입니다.\n",
      "35 번째 이미지가 저장중입니다.\n",
      "36 번째 이미지가 저장중입니다.\n",
      "37 번째 이미지가 저장중입니다.\n",
      "38 번째 이미지가 저장중입니다.\n",
      "39 번째 이미지가 저장중입니다.\n",
      "40 번째 이미지가 저장중입니다.\n",
      "41 번째 이미지가 저장중입니다.\n",
      "42 번째 이미지가 저장중입니다.\n",
      "43 번째 이미지가 저장중입니다.\n",
      "44 번째 이미지가 저장중입니다.\n",
      "45 번째 이미지가 저장중입니다.\n",
      "46 번째 이미지가 저장중입니다.\n",
      "47 번째 이미지가 저장중입니다.\n",
      "48 번째 이미지가 저장중입니다.\n",
      "49 번째 이미지가 저장중입니다.\n",
      "50 번째 이미지가 저장중입니다.\n",
      "51 번째 이미지가 저장중입니다.\n"
     ]
    }
   ],
   "source": [
    "cnt = 0\n",
    "#urlretrieve 이미지저장 (이미지주소, 저장시킬파일경로)\n",
    "\n",
    "for i in img_list:\n",
    "    urlretrieve(i,'./이미지/'+str(cnt)+'.jpg')\n",
    "    cnt+=1\n",
    "    \n",
    "    time.sleep(2)\n",
    "    \n",
    "    print(cnt+1, \"번째 이미지가 저장중입니다.\")"
   ]
  },
  {
   "cell_type": "code",
   "execution_count": null,
   "metadata": {},
   "outputs": [],
   "source": []
  },
  {
   "cell_type": "code",
   "execution_count": null,
   "metadata": {},
   "outputs": [],
   "source": []
  }
 ],
 "metadata": {
  "kernelspec": {
   "display_name": "Python 3",
   "language": "python",
   "name": "python3"
  },
  "language_info": {
   "codemirror_mode": {
    "name": "ipython",
    "version": 3
   },
   "file_extension": ".py",
   "mimetype": "text/x-python",
   "name": "python",
   "nbconvert_exporter": "python",
   "pygments_lexer": "ipython3",
   "version": "3.8.3"
  }
 },
 "nbformat": 4,
 "nbformat_minor": 4
}

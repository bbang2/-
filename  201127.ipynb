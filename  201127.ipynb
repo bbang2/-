{
 "cells": [
  {
   "cell_type": "code",
   "execution_count": 3,
   "metadata": {},
   "outputs": [],
   "source": [
    "import numpy as np\n",
    "import pandas as pd\n",
    "import requests as req\n",
    "from bs4 import BeautifulSoup as bs\n",
    "\n",
    "from selenium import webdriver as wb\n",
    "from selenium.webdriver.common.keys import Keys\n",
    "import time"
   ]
  },
  {
   "cell_type": "markdown",
   "metadata": {},
   "source": [
    "## 유튜브 크롤링"
   ]
  },
  {
   "cell_type": "code",
   "execution_count": 12,
   "metadata": {},
   "outputs": [],
   "source": [
    "url = \"https://www.youtube.com/results?search_query=%EC%AF%94%EC%96%91\""
   ]
  },
  {
   "cell_type": "code",
   "execution_count": 13,
   "metadata": {},
   "outputs": [],
   "source": [
    "driver = wb.Chrome()\n",
    "driver.get(url)"
   ]
  },
  {
   "cell_type": "markdown",
   "metadata": {},
   "source": [
    "### 페이지 스크롤하기"
   ]
  },
  {
   "cell_type": "code",
   "execution_count": 10,
   "metadata": {},
   "outputs": [],
   "source": [
    "body = driver.find_element_by_tag_name(\"body\")"
   ]
  },
  {
   "cell_type": "code",
   "execution_count": 11,
   "metadata": {},
   "outputs": [],
   "source": [
    "for i in range(10):\n",
    "    body.send_keys(Keys.END)\n",
    "    ##Keys.PAGE_DOWN도 가능\n",
    "    time.sleep(1)"
   ]
  },
  {
   "cell_type": "markdown",
   "metadata": {},
   "source": [
    "### 영상 제목 가져오기"
   ]
  },
  {
   "cell_type": "code",
   "execution_count": 22,
   "metadata": {},
   "outputs": [],
   "source": [
    "soup=bs(driver.page_source, 'lxml')"
   ]
  },
  {
   "cell_type": "code",
   "execution_count": 33,
   "metadata": {},
   "outputs": [],
   "source": [
    "result=soup.select('#video-title')"
   ]
  },
  {
   "cell_type": "code",
   "execution_count": 35,
   "metadata": {},
   "outputs": [
    {
     "name": "stdout",
     "output_type": "stream",
     "text": [
      "라면20봉 먹방\n",
      "43년 전통 줄서서먹는 물쫄면! 조금 먹었는데 손님들 반응이... Korean mukbang eating show\n",
      "[마이 리틀 텔레비전 V2] 쯔양 짜최몇...?! ＂많이는 못 먹는데 ★7그릇★..ㅎㅎ＂\n",
      "[놀면 뭐하니?] 몰입감 300%!!! 빠져드는 쯔양의 치명적인 치킨 먹방! 20200411\n",
      "지코가 만들고 쯔양이 먹어보았습니다. 떡볶이x김치전=떡볶괴물?!｜지코 Vlog📹\n",
      "[놀면 뭐하니?] ＂왜 쯔양이에요?＂ 분량 위험 느낀 명수옹 갑자기 질문 세례를 이어가는데.. 20200425\n",
      "많이먹는 비결.. 사실은 세쌍둥이 입니다. 치킨,족발 피자 먹방 Korean mukbang eating show\n",
      "♡설특집♡대식가 며느리를 두면 일어나는 일,  채널2 오픈했어요! Korean mukbang eating show\n",
      "집안식량 다 털었습니다. 갑자기 찾아가서 밥해달라 했더니.. 집밥 먹방Korean mukbang eating show\n",
      "이사한 집 공개합니다.. 오션뷰,오픈카 이사한집에서 라면 먹방 Korean mukbang eating show\n",
      "유튜버 쯔양, 방송 은퇴 선언…'뒷광고'가 뭐길래? / JTBC 310 중계석\n",
      "스튜어디스 다섯 명이 쯔양을 이길 수 있을까? [달콤한 크루들이 간다]\n",
      "사장님 죄송합니다.. 쯔양 단골 무한리필 참치집! 1년전 비공개영상.. Korean mukbang eating show\n",
      "쯔양의 풀무원 얇은피꽉찬교자 먹방!\n",
      "욕지도3\n",
      "욕지도4\n",
      "먹방유튜버 쯔양이 복귀 첫 방송에서 벌어들인 수익\n",
      "미국가서 버거 왕창 먹었더니 외국인 반응이.. 맨해튼 쉑쉑버거 뉴욕1탄! Korean mukbang eating show\n",
      "욕지도1\n",
      "먹방요정 쯔양의 마라 단계별 먹방 (っ˘ڡ˘ς)  첫입에 안 맵다고 방심하지MARA,,,🔥🔥 | 오분식당⏱오분순삭\n",
      "뉴욕3탄) 3대 스테이크 70만원치 먹방! 회장님도 놀라시고 직원분들 박수까지..Korean mukbang eating show\n",
      "[마이 리틀 텔레비전 V2] '장영란의 티 톡~☕️'을 살릴 '쯔양'의 💰수입 大 공개💰\n",
      "[놀면 뭐하니? 선공개] 쯔양이 라이브로 전하는 🍗닭터유🍗 치킨의 맛은\n",
      "[엔강먹방] ※ 먹방대결※  줄리엔강vs쯔양 이탈리안 피자  MUKBANG!!\n"
     ]
    }
   ],
   "source": [
    "for i in range(len(result)):\n",
    "    print(result[i].text.strip())"
   ]
  },
  {
   "cell_type": "markdown",
   "metadata": {},
   "source": [
    "### 이미지 크롤링"
   ]
  },
  {
   "cell_type": "code",
   "execution_count": 52,
   "metadata": {},
   "outputs": [],
   "source": [
    "import os # 파일 시스템을 위한 라이브러리  ex)파일, 폴더를 생성,삭제, 존재여부 확인\n",
    "from urllib.request import urlretrieve  # 이미지경로를 파일로 저장"
   ]
  },
  {
   "cell_type": "code",
   "execution_count": 53,
   "metadata": {},
   "outputs": [
    {
     "name": "stdout",
     "output_type": "stream",
     "text": [
      "폴더있음\n"
     ]
    }
   ],
   "source": [
    "# os.path.isdir('파일명') : 폴더의 존재여부 파악\n",
    "# os.mkdir('파일명') : 파일생성\n",
    "\n",
    "# ../ : 상위 폴더   ./ : 현재 작업하는 폴더의 위치\n",
    "if not os.path.isdir('./이미지'):\n",
    "    os.mkdir('./이미지')\n",
    "    print(\"폴더생성\")\n",
    "else:\n",
    "    print('폴더있음')"
   ]
  },
  {
   "cell_type": "code",
   "execution_count": 54,
   "metadata": {},
   "outputs": [],
   "source": [
    "url = 'https://search.naver.com/search.naver?where=image&sm=tab_jum&query=%EC%9B%B0%EC%8B%9C%EC%BD%94%EA%B8%B0'"
   ]
  },
  {
   "cell_type": "code",
   "execution_count": 55,
   "metadata": {},
   "outputs": [],
   "source": [
    "driver = wb.Chrome()\n",
    "driver.get(url)"
   ]
  },
  {
   "cell_type": "code",
   "execution_count": 59,
   "metadata": {},
   "outputs": [],
   "source": [
    "soup=bs(driver.page_source, 'lxml')"
   ]
  },
  {
   "cell_type": "code",
   "execution_count": 60,
   "metadata": {},
   "outputs": [],
   "source": [
    "#이미지가 저장된 url을 가져오기 위해 _img클래스 가져옴\n",
    "img = soup.select('._img')"
   ]
  },
  {
   "cell_type": "code",
   "execution_count": 65,
   "metadata": {},
   "outputs": [],
   "source": [
    "img_list=[]\n",
    "cnt = 0\n",
    "\n",
    "for i in img:\n",
    "    \n",
    "    if (cnt>=36):\n",
    "        img_list.append(i['data-source'])\n",
    "        #src속성이 아닌 것 몇번째인지 확인해서 변환함. \n",
    "    else:\n",
    "        img_list.append(i['src']) \n",
    "        # 이미지가 저장된 src를 가져오기 위함이기 때문에 []로 속성부여\n",
    "    cnt+=1"
   ]
  },
  {
   "cell_type": "code",
   "execution_count": 66,
   "metadata": {},
   "outputs": [
    {
     "name": "stdout",
     "output_type": "stream",
     "text": [
      "https://search.pstatic.net/common/?src=http%3A%2F%2Fblogfiles.naver.net%2F20140813_187%2Fthepianosam_1407904736320g5Qyz_PNG%2F%25C0%25A3%25BD%25C3%25C4%25DA%25B1%25E2_3.png&type=b400\n",
      "https://search.pstatic.net/common/?src=http%3A%2F%2Fpost.phinf.naver.net%2FMjAxNzA1MDhfMjQw%2FMDAxNDk0MjMzMzg2Njgz.eWNug42OcJZALqtgw4s1VouQKU3hulFMMTpz1i5Q4iIg.XUlv8jQJNd6Mi8wKy38X3I8Hg7ALgC2pV-QcKeCJ7Zgg.PNG%2FIjxWbpXW5QhbhIaQavhyE1R1KcHk.jpg&type=b400\n",
      "https://search.pstatic.net/common/?src=http%3A%2F%2Fblogfiles.naver.net%2F20130123_19%2Ffalc17_1358919782274WGAFD_JPEG%2F%25B0%25AD8.jpg&type=b400\n",
      "https://search.pstatic.net/common/?src=http%3A%2F%2Fblogfiles.naver.net%2F20140911_62%2Fpianosampjh_1410361667269g5JAF_PNG%2F%25C0%25A3%25BD%25C3%25C4%25DA%25B1%25E2_2.PNG&type=b400\n",
      "https://search.pstatic.net/common/?src=http%3A%2F%2Fpost.phinf.naver.net%2FMjAxNzAyMTNfMjY5%2FMDAxNDg2OTY0NjMxNDA5.DV1LgAz6isMAu2Fr6jGXDkWIgblhCNWCcqcxRXpaqnkg.fkD78nVMEK6KKap-tIsPaTH-II1aPoFRQgtiYf0qmKcg.JPEG%2FIAI7017Pg6dwyqcugfUjmfWPtRm0.jpg&type=b400\n",
      "https://search.pstatic.net/common/?src=http%3A%2F%2Fpost.phinf.naver.net%2FMjAxNzAzMTRfMjIg%2FMDAxNDg5NDczODU1MDYz.PDdBBtmTYQEjvgUMCOr5Xt_QZU8XrutCsX1Tx7FLZNog.ZIfeKFKiBkJJRHDok-IpUvGJ24bhXqVEqFCtMJh9kXsg.PNG%2FIA7gtLYrbzUiWWcdBI1zDVMGu_X4.jpg&type=b400\n",
      "https://search.pstatic.net/common/?src=http%3A%2F%2Fblogfiles.naver.net%2F20140113_198%2Fclswls416_1389615180532ODUNj_JPEG%2F%25C0%25A3%25BD%25C3%25C4%25DA%25B1%25E2.jpg&type=b400\n",
      "https://search.pstatic.net/common/?src=http%3A%2F%2Fblogfiles.naver.net%2F20140214_238%2Fthankupet_1392342769411UVNhi_JPEG%2FUntitled-1.jpg&type=b400\n",
      "https://search.pstatic.net/common/?src=http%3A%2F%2Fcafefiles.naver.net%2F20140126_262%2Fojh084_1390730011500A16JF_JPEG%2F%25C0%25A3%25BD%25C3%25C4%25DA%25B1%25E2_%25BA%25D0%25BE%25E7_%25C0%25A3%25BD%25C3%25C4%25DA%25B8%25A3%25B1%25E2_%25BA%25D0%25BE%25E7_3.jpg&type=b400\n",
      "https://search.pstatic.net/common/?src=http%3A%2F%2Fcafefiles.naver.net%2F20150201_276%2Fgghb8047_1422775913440QXz3h_JPEG%2F%25C0%25A3%25BD%25C3%25C4%25DA%25B1%25E24.jpg&type=b400\n",
      "https://search.pstatic.net/common/?src=http%3A%2F%2Fcafefiles.naver.net%2F20140516_202%2Fdendic3_14001674238874A9FI_JPEG%2F%25C0%25A3%25BD%25C3%25C4%25DA%25B1%25E28.jpg&type=b400\n",
      "https://search.pstatic.net/common/?src=http%3A%2F%2Fblogfiles.naver.net%2F20130705_86%2Froyaldog_1373004730742EAu8e_JPEG%2F10.jpg&type=b400\n",
      "https://search.pstatic.net/common/?src=http%3A%2F%2Fblogfiles.naver.net%2F20160804_267%2Fhunineya77_1470291766300s9DWF_JPEG%2F2016-08-04_15-14-52.jpg&type=b400\n",
      "https://search.pstatic.net/common/?src=http%3A%2F%2Fblogfiles.naver.net%2F20140109_110%2Fpetianbooks_1389259218907rP9sR_JPEG%2F468531afa7138db3e0c9d7d9ba9adbaa.jpg&type=b400\n",
      "https://search.pstatic.net/common/?src=http%3A%2F%2Fblogfiles.naver.net%2F20140720_264%2Fkayeon75_1405843690274q5P3l_JPEG%2F%25C0%25A3%25BD%25C3%25C4%25DA%25B1%25E2%252C%25C0%25A3%25BD%25C3%25C4%25DA%25B1%25E2_%25BA%25D0%25BE%25E7%252C%25C6%25E4%25C0%25CC%25BD%25BA%25BA%25CF%25B0%25AD%25BE%25C6%25C1%25F6%252C%25C0%25E5%25C8%25AD%25BD%25C5%25C0%25BA%25B0%25AD%25BE%25C6%25C1%25F6_15.jpg&type=b400\n",
      "https://search.pstatic.net/common/?src=http%3A%2F%2Fblogfiles.naver.net%2F20150914_10%2Fii3i_1442207770236xLpdz_JPEG%2FIMG_3094.jpg&type=b400\n",
      "https://search.pstatic.net/common/?src=http%3A%2F%2Fblogfiles.naver.net%2F20121007_185%2Fguswlswltn_1349599735319fAcio_JPEG%2F%25C0%25A3%25BD%25C3%25C4%25DA%25B1%25E2.jpg&type=b400\n",
      "https://search.pstatic.net/common/?src=http%3A%2F%2Fpost.phinf.naver.net%2FMjAxNzEwMTdfMjcg%2FMDAxNTA4MjE3MzAxMTk2.OnAsXTiMlMFRNP4u2lve-gB-gvG1UL9voET9RDVCLLIg.z9e4SaojXqMI3OlmXflb-CsV2wm1Jbxw1agHfFhY4kEg.JPEG%2FITk05XHnt49TOQyUDDZyCYY6gEAc.jpg&type=b400\n",
      "https://search.pstatic.net/common/?src=http%3A%2F%2Fpost.phinf.naver.net%2FMjAxNzExMDVfMjAy%2FMDAxNTA5ODgxNDE4MDEw.PNWIW8q2-HF9fYczQgG6r5ni2sBxpy7UFF_pdGNbPtwg.zlipdxzzIaS582F6L3a31ZPKse8osp6Jsr_8F50ufwgg.JPEG%2FIYhRgIqcPc3tukvVn0uwvIhT3vcQ.jpg&type=b400\n",
      "https://search.pstatic.net/common/?src=http%3A%2F%2Fblogfiles.naver.net%2F20121210_49%2Fjejubomnal_1355143014849uLFvy_JPEG%2F%25C0%25A3%25BD%25C3%25C4%25DA%25B1%25E2%25BA%25D0%25BE%25E719.jpg&type=b400\n",
      "https://search.pstatic.net/common/?src=http%3A%2F%2Fblogfiles.naver.net%2FMjAyMDA4MTJfMTc2%2FMDAxNTk3MjMyODA4Nzg3.CeUsI1t9yaWCj__OWKEEUy7rKzI1HB_WUgOQGrJrqzog.rjHRc8NCsd9O5GypKum7oGyN4d2FkVxrXAdoegOAGIYg.JPEG.duffer%2F1597232809690.jpg&type=b400\n",
      "https://search.pstatic.net/common/?src=http%3A%2F%2Fblogfiles.naver.net%2F20130510_297%2Fleeyun0214_1368147882833CjCwj_JPEG%2Fnaver_com_20110213_144255.jpg&type=b400\n",
      "https://search.pstatic.net/common/?src=http%3A%2F%2Fblogfiles.naver.net%2F20140716_205%2Fhok3902_1405494667171qkiKA_JPEG%2F%25C0%25A3%25BD%25C3%25C4%25DA%25B1%25E2%25BA%25D0%25BE%25E7___%25C0%25A3%25BD%25C3%25C4%25DA%25B1%25E2___%25C0%25A3%25BD%25C3___%25C4%25DA%25B1%25E2___%25B0%25AD%25BE%25C6%25C1%25F6%25BA%25D0%25BE%25E7___%25BE%25D6%25BF%25CF%25B0%25DF%25BA%25D0%25BE%25E7___%25BE%25D6%25B0%25DF%25BA%25D0%25BE%25E7___%25BE%25C6%25C1%25F6%25B7%25A3%25B5%25E5_05.jpg&type=b400\n",
      "https://search.pstatic.net/common/?src=http%3A%2F%2Fblogfiles.naver.net%2F20150819_138%2Fcslee7768_1439988494935102JM_JPEG%2FIMG_0897.JPG&type=b400\n",
      "https://search.pstatic.net/common/?src=http%3A%2F%2Fblogfiles.naver.net%2F20160602_265%2Fletsyong7_14648531174848wd3h_JPEG%2FKakaoTalk_20151112_183155961.jpg&type=b400\n",
      "https://search.pstatic.net/common/?src=http%3A%2F%2Fblogfiles.naver.net%2F20120525_123%2Fjung9201299_13379259685418KFDK_JPEG%2F%25C0%25A3%25BD%25C3%25C4%25DA%25B1%25E23.jpg&type=b400\n",
      "https://search.pstatic.net/common/?src=http%3A%2F%2Fpost.phinf.naver.net%2FMjAxNjEwMjdfMjA1%2FMDAxNDc3NTQwNjU5NTc4.qwB31wYsQRlme3yD0hGnV1wkF0objpcTZqJHdBcft_kg.PezWAc0aZsK6cSz-L_k04w8zo6YVgZNTZa1krBrZCLcg.JPEG%2FIUmi5uxOJqsyQcxiqArY3zR1uU3g.jpg&type=b400\n",
      "https://search.pstatic.net/common/?src=http%3A%2F%2Fblogfiles.naver.net%2F20160613_35%2Fletsyong7_1465799009342PVQfA_JPEG%2F1465619680571.jpeg&type=b400\n",
      "https://search.pstatic.net/common/?src=http%3A%2F%2Fpost.phinf.naver.net%2FMjAxNzA4MjNfMzEg%2FMDAxNTAzNDg1MDA3Mzgx.NXe19j091d7aBrDRn0imI9rAmgdqRvci-aWSYob0n9og.2mPuAlrd3O_wOTrSR8yBcPtvVy049gxYX4dkCzmddYog.JPEG%2FITJ11Agr7UZJbdW2cfPZqKDubvwE.jpg&type=b400\n",
      "https://search.pstatic.net/common/?src=http%3A%2F%2Fblogfiles.naver.net%2F20150317_19%2Fkd370man_1426583936689iPYll_JPEG%2FCA65D1.JPG&type=b400\n",
      "https://search.pstatic.net/common/?src=http%3A%2F%2Fcafefiles.naver.net%2FMjAxNzA5MjFfMjAx%2FMDAxNTA1OTg2NzkyOTE2.Hi_CN3ZkCqKfJKS7px3vlGH-4GLpcr_-nse58bEVNpgg.GvzDpNdVer4FIgAHkjlKsda6F13y7DoyK6TO76WdYEcg.JPEG.qkrwjdgns666%2FKakaoTalk_20170921_150426548.jpg&type=b400\n",
      "https://search.pstatic.net/common/?src=http%3A%2F%2Fblogfiles.naver.net%2FMjAxODEyMjRfMTYw%2FMDAxNTQ1NTc5MDA3ODk2.KsIwROUwvZx29Uw1t1PoMVbwhOllCLyikBE40dXHLywg.kaiHI3ZeQXuUvfn5arDKnaTJvvjQVUY3ZbgJY9olNKog.JPEG.fashion637%2FCCCCXXX.jpg&type=b400\n",
      "https://search.pstatic.net/common/?src=http%3A%2F%2Fblogfiles.naver.net%2F20160614_142%2Fletsyong7_1465886810583PcRIU_JPEG%2F1458468290956.jpeg&type=b400\n",
      "https://search.pstatic.net/common/?src=http%3A%2F%2Fblogfiles.naver.net%2F20140125_8%2Fknsface_1390637477256WqpIf_GIF%2Fanigif1.gif&type=b400\n",
      "https://search.pstatic.net/common/?src=http%3A%2F%2Fblogfiles.naver.net%2F20140121_39%2Fknsface_1390287187407iWGku_GIF%2Fanigif3.gif&type=b400\n",
      "data:image/gif;base64,R0lGODlhAQABAIAAAAAAAP///yH5BAEAAAAALAAAAAABAAEAAAIBRAA7\n",
      "https://search.pstatic.net/common/?src=http%3A%2F%2Fcafefiles.naver.net%2F20140707_11%2Fakstnsans_1404726338452xXeD0_JPEG%2F%25BC%25F6%25BF%25F8%25B0%25AD%25BE%25C6%25C1%25F6%25BA%25D0%25BE%25E7%252C%25B0%25E6%25B1%25E2%25BE%25D6%25B0%25DF%25BA%25D0%25BE%25E7%252C%25C0%25A3%25BD%25C3%25C4%25DA%25B1%25E2%25BA%25D0%25BE%25E7%252C%25C3%25E3%25C3%25DF%25B4%25C2%25B0%25AD%25BE%25C6%25C1%25F62.jpg&type=b400\n",
      "https://search.pstatic.net/common/?src=http%3A%2F%2Fblogfiles.naver.net%2F20140707_140%2Fakstnsans_1404719290598JdNUx_JPEG%2F%25BC%25F6%25BF%25F8%25B0%25AD%25BE%25C6%25C1%25F6%25BA%25D0%25BE%25E7%252C%25B0%25E6%25B1%25E2%25BE%25D6%25B0%25DF%25BA%25D0%25BE%25E7%252C%25C0%25A3%25BD%25C3%25C4%25DA%25B1%25E2%25BA%25D0%25BE%25E7%252C%25C3%25E3%25C3%25DF%25B4%25C2%25B0%25AD%25BE%25C6%25C1%25F66.jpg&type=b400\n",
      "https://search.pstatic.net/common/?src=http%3A%2F%2Fpost.phinf.naver.net%2FMjAxNzA3MTZfMTMz%2FMDAxNTAwMTg5MTg0MzQ2.FMgtSypEF_9jWwrL3P8qhUNxeNTfP4FclGyxOT9Q-7Ig.iMUW-Hn4fkV7Q5SgmmWCkDx2hdq986QLw5u-8106SDcg.JPEG%2FIcCfTWCZyN43k-MCZU1hriaKLgQo.jpg&type=b400\n",
      "https://search.pstatic.net/common/?src=http%3A%2F%2Fcafefiles.naver.net%2FMjAxODEwMTFfMjc2%2FMDAxNTM5MjM2MTk1Mjcz.UztMIkAJPpKSb0D85Lq3aeoWwQEjQmfMMoGFMMsuIKcg.NtTzB3opeaXd5Yu1W_t_kmcj9VA56-NVlhB8tN220Rwg.JPEG.nalove0213%2FIMG_2192.JPG&type=b400\n",
      "https://search.pstatic.net/common/?src=http%3A%2F%2Fblogfiles.naver.net%2F20161014_113%2Fshower_dog_14764438288366OKcK_JPEG%2F%25C0%25A3%25BD%25C3%25C4%25DA%25B1%25E2%25B8%25F1%25BF%25E5_%25BD%25D1%25C3%25DD_%252821%2529.JPG&type=b400\n",
      "https://search.pstatic.net/common/?src=http%3A%2F%2Fcafefiles.naver.net%2FMjAxOTAyMTlfMjgx%2FMDAxNTUwNTU1NjAyNzU5.WkFG4ODqlY779vppGOoK7W8Ulyzr7Q1Zn6ti5yI35KAg.waSbohn2oBXpOSrQzXszhBTknXzf1WcbwFROYoSM6T0g.JPEG.kala1696010%2FKakaoTalk_20190217_165534137.jpg&type=b400\n",
      "https://search.pstatic.net/common/?src=http%3A%2F%2Fblogfiles.naver.net%2F20140614_113%2Fgeromi_1402751063433D6HAN_JPEG%2F443977407.jpeg&type=b400\n",
      "https://search.pstatic.net/common/?src=http%3A%2F%2Fblogfiles.naver.net%2F20140222_299%2Fdlduddn1000_1393062681951azS3J_JPEG%2F%25C0%25A3%25BD%25C3%25C4%25DA%25B1%25E2%25BA%25D0%25BE%25E7_%25B0%25AD%25BE%25C6%25C1%25F6%25BA%25D0%25BE%25E7_6.jpg&type=b400\n",
      "https://search.pstatic.net/common/?src=http%3A%2F%2Fblogfiles.naver.net%2FMjAxNzAxMTFfNzcg%2FMDAxNDg0MDk5MjQ1MDQw.4GHCiVaxXHwAIek__y8hHiipCWMQ0NWTmLrZSpR36OIg.leWtsuhN_KsbRGHEtohpaTpKhwcS4OCNy-7Vcs0Jcogg.JPEG.choijs8465%2F%25B2%25D9%25B9%25CC%25B1%25E2_KakaoTalk_20170102_100717753.jpg&type=b400\n",
      "https://search.pstatic.net/common/?src=http%3A%2F%2Fblogfiles.naver.net%2FMjAxNzEyMzFfMTE0%2FMDAxNTE0Njk5NDk0MTk1.U3f-9ljWtSdbzm390xFPvCrYalqCOOhMYOgSNG0BHzwg.8JuzaYLNKvasMxdcZ3lJ39gXEkBnqdmaTlT78YA34Q8g.JPEG.sncamc%2F%25BF%25AA%25BB%25EF%25BE%25D6%25B0%25DF%25B9%25CC%25BF%25EB_%25C0%25A3%25BD%25C3%25C4%25DA%25B1%25E2%25B9%25CC%25BF%25EB_%25C8%25C4%25B4%25CF2.jpg&type=b400\n",
      "https://search.pstatic.net/common/?src=http%3A%2F%2Fblogfiles.naver.net%2F20140614_80%2Fdlrudals0715_1402734932182HPkhT_JPEG%2F%25C0%25A3%25BD%25C3%25C4%25DA%25B1%25E25.jpg&type=b400\n",
      "https://search.pstatic.net/common/?src=http%3A%2F%2Fblogfiles.naver.net%2FMjAxOTA3MjRfOTgg%2FMDAxNTYzOTM2MDU5MzI4.1H5lcG31etB1LFofnSxzpzL5aOF1im_dTBOI7qmKOtwg.TrS1bR08Lyf1nKuksjCB74vVaCQRwSC22-x2NuIERQsg.JPEG.pet4u1%2F%25C0%25A3%25BD%25C3%25C4%25DA%25B1%25E24.jpg&type=b400\n",
      "https://search.pstatic.net/common/?src=http%3A%2F%2Fcafefiles.naver.net%2F20140126_149%2Fojh084_1390730011225dA7LJ_JPEG%2F%25C0%25A3%25BD%25C3%25C4%25DA%25B1%25E2_%25BA%25D0%25BE%25E7_%25C0%25A3%25BD%25C3%25C4%25DA%25B8%25A3%25B1%25E2_%25BA%25D0%25BE%25E7_1.jpg&type=b400\n",
      "https://search.pstatic.net/common/?src=http%3A%2F%2Fblogfiles.naver.net%2F20140720_155%2Fkayeon75_1405843689445JHXkW_JPEG%2F%25C0%25A3%25BD%25C3%25C4%25DA%25B1%25E2%252C%25C0%25A3%25BD%25C3%25C4%25DA%25B1%25E2_%25BA%25D0%25BE%25E7%252C%25C6%25E4%25C0%25CC%25BD%25BA%25BA%25CF%25B0%25AD%25BE%25C6%25C1%25F6%252C%25C0%25E5%25C8%25AD%25BD%25C5%25C0%25BA%25B0%25AD%25BE%25C6%25C1%25F6_12.jpg&type=b400\n"
     ]
    }
   ],
   "source": [
    "for i in img_list:\n",
    "    print(i)"
   ]
  },
  {
   "cell_type": "code",
   "execution_count": 68,
   "metadata": {},
   "outputs": [
    {
     "name": "stdout",
     "output_type": "stream",
     "text": [
      "2 번째 이미지가 저장중입니다.\n",
      "3 번째 이미지가 저장중입니다.\n",
      "4 번째 이미지가 저장중입니다.\n",
      "5 번째 이미지가 저장중입니다.\n",
      "6 번째 이미지가 저장중입니다.\n",
      "7 번째 이미지가 저장중입니다.\n",
      "8 번째 이미지가 저장중입니다.\n",
      "9 번째 이미지가 저장중입니다.\n",
      "10 번째 이미지가 저장중입니다.\n",
      "11 번째 이미지가 저장중입니다.\n",
      "12 번째 이미지가 저장중입니다.\n",
      "13 번째 이미지가 저장중입니다.\n",
      "14 번째 이미지가 저장중입니다.\n",
      "15 번째 이미지가 저장중입니다.\n",
      "16 번째 이미지가 저장중입니다.\n",
      "17 번째 이미지가 저장중입니다.\n",
      "18 번째 이미지가 저장중입니다.\n",
      "19 번째 이미지가 저장중입니다.\n",
      "20 번째 이미지가 저장중입니다.\n",
      "21 번째 이미지가 저장중입니다.\n",
      "22 번째 이미지가 저장중입니다.\n",
      "23 번째 이미지가 저장중입니다.\n",
      "24 번째 이미지가 저장중입니다.\n",
      "25 번째 이미지가 저장중입니다.\n",
      "26 번째 이미지가 저장중입니다.\n",
      "27 번째 이미지가 저장중입니다.\n",
      "28 번째 이미지가 저장중입니다.\n",
      "29 번째 이미지가 저장중입니다.\n",
      "30 번째 이미지가 저장중입니다.\n",
      "31 번째 이미지가 저장중입니다.\n",
      "32 번째 이미지가 저장중입니다.\n",
      "33 번째 이미지가 저장중입니다.\n",
      "34 번째 이미지가 저장중입니다.\n",
      "35 번째 이미지가 저장중입니다.\n",
      "36 번째 이미지가 저장중입니다.\n",
      "37 번째 이미지가 저장중입니다.\n",
      "38 번째 이미지가 저장중입니다.\n",
      "39 번째 이미지가 저장중입니다.\n",
      "40 번째 이미지가 저장중입니다.\n",
      "41 번째 이미지가 저장중입니다.\n",
      "42 번째 이미지가 저장중입니다.\n",
      "43 번째 이미지가 저장중입니다.\n",
      "44 번째 이미지가 저장중입니다.\n",
      "45 번째 이미지가 저장중입니다.\n",
      "46 번째 이미지가 저장중입니다.\n",
      "47 번째 이미지가 저장중입니다.\n",
      "48 번째 이미지가 저장중입니다.\n",
      "49 번째 이미지가 저장중입니다.\n",
      "50 번째 이미지가 저장중입니다.\n",
      "51 번째 이미지가 저장중입니다.\n"
     ]
    }
   ],
   "source": [
    "cnt = 0\n",
    "#urlretrieve 이미지저장 (이미지주소, 저장시킬파일경로)\n",
    "\n",
    "for i in img_list:\n",
    "    urlretrieve(i,'./이미지/'+str(cnt)+'.jpg')\n",
    "    cnt+=1\n",
    "    \n",
    "    time.sleep(2)\n",
    "    \n",
    "    print(cnt+1, \"번째 이미지가 저장중입니다.\")"
   ]
  },
  {
   "cell_type": "markdown",
   "metadata": {},
   "source": [
    "### 저번에 못했던 다음 문화뉴스 크롤링"
   ]
  },
  {
   "cell_type": "code",
   "execution_count": 69,
   "metadata": {},
   "outputs": [],
   "source": [
    "# F12 >> Network >> Ctrl+F >> 제목서치 >> Ctrl+R(해당 페이지 정보 받아오기)\n",
    "# >> 다시검색>>해당 news~~ 찾아서 >> header에서  url 복사 >> 파이썬 복붙\n",
    "url='https://news.daum.net/api/harmonydic/contents/news.json?category=culture&important=true&page=1&pageSize=20&pagesToShow=10'"
   ]
  },
  {
   "cell_type": "code",
   "execution_count": 72,
   "metadata": {},
   "outputs": [],
   "source": [
    "res = req.get(url)"
   ]
  },
  {
   "cell_type": "code",
   "execution_count": 74,
   "metadata": {},
   "outputs": [],
   "source": [
    "# JSON (JavaScript Object Notation) data교환형식\n",
    "import json"
   ]
  },
  {
   "cell_type": "code",
   "execution_count": 75,
   "metadata": {},
   "outputs": [],
   "source": [
    "#header에서 찾은 url?이 json형태이라 변환해줌\n",
    "result = json.loads(res.text)"
   ]
  },
  {
   "cell_type": "code",
   "execution_count": 84,
   "metadata": {},
   "outputs": [
    {
     "data": {
      "text/plain": [
       "{'list': [{'newsId': '20201127162736978',\n",
       "   'contentId': 'A4ER8nikrz',\n",
       "   'title': '잘못 먹으면 毒.. 질환별 주의해야 할 건강즙',\n",
       "   'cpId': 220,\n",
       "   'cpLogoUrl': 'https://t1.daumcdn.net/media/news/news2016/cp/cp_healthchosun.gif',\n",
       "   'cpKorName': '헬스조선',\n",
       "   'cpEngName': 'healthchosun',\n",
       "   'imageUrl': 'https://t1.daumcdn.net/news/202011/27/healthchosun/20201127162736329qdho.jpg',\n",
       "   'contentUrl': 'https://v.daum.net/v/20201127162736978',\n",
       "   'regDt': 1606462056145,\n",
       "   'modiDt': 1606462056145,\n",
       "   'status': 'SERVICE',\n",
       "   'summary': '과일이나 채소로 만든 건강즙을 마시는 사람이 많다. 많은 양의 건강 재료로 즙으로 만들면, 부피를 줄이고 영양분을 농축할 수 있어 영양성분을 효과적으로 섭취할 수 있다. 하지만 자신의 몸 상태와 관계없이 무분별하게 건강즙을 마시면 오히려 몸에 부담이 되기도 한다. 특정 질환자가 주의해야 할 건강즙을 알아본다. 당뇨병 환자, 과일즙은 혈당 올려 당뇨병 환자는',\n",
       "   'searchId': '313630363436323035363134355e2a7c2c232d4041344552386e696b727a',\n",
       "   'label': None,\n",
       "   'commentCnt': 0,\n",
       "   'delegateId': None},\n",
       "  {'newsId': '20201127162604928',\n",
       "   'contentId': 'AIPtbCJ9CM',\n",
       "   'title': \"'한잔 했다람쥐~' 발효된 배에 취한 다람쥐\",\n",
       "   'cpId': 17,\n",
       "   'cpLogoUrl': 'https://t1.daumcdn.net/media/news/news2016/cp/cp_hani.gif',\n",
       "   'cpKorName': '한겨레',\n",
       "   'cpEngName': 'hani',\n",
       "   'imageUrl': 'https://t1.daumcdn.net/news/202011/27/hani/20201127162606220ggve.jpg',\n",
       "   'contentUrl': 'https://v.daum.net/v/20201127162604928',\n",
       "   'regDt': 1606461964225,\n",
       "   'modiDt': 1606461964225,\n",
       "   'status': 'SERVICE',\n",
       "   'summary': '‘불금’에도 코로나19로 밖에서 한 잔하기 어려운 인간들을 대신해 일찍부터 알코올을 즐기는 다람쥐의 모습이 포착됐다. 영국 일간지 가디언은 25일(현지시각) 발효된 배를 집어먹으며 비틀거리는 다람쥐의 귀여운 모습이 찍힌 영상을 소개했다. 보도에 따르면, 미국 미네소타주 인버 그로버 헤이츠에 사는 주민 케이티 몰록(Katy Morlok)은 야생동물이 먹을 수',\n",
       "   'searchId': '313630363436313936343232355e2a7c2c232d404149507462434a39434d',\n",
       "   'label': None,\n",
       "   'commentCnt': 0,\n",
       "   'delegateId': None},\n",
       "  {'newsId': '20201127161614651',\n",
       "   'contentId': 'Ax9BBlSv3l',\n",
       "   'title': \"갑작스럽게 체중이 늘고 복부가 팽창한다면 '이것' 때문?\",\n",
       "   'cpId': 252,\n",
       "   'cpLogoUrl': 'https://t1.daumcdn.net/media/news/news2016/cp/cp_Hidoc.gif',\n",
       "   'cpKorName': '하이닥',\n",
       "   'cpEngName': 'Hidoc',\n",
       "   'imageUrl': 'https://t1.daumcdn.net/news/202011/27/Hidoc/20201127161616497tprw.jpg',\n",
       "   'contentUrl': 'https://v.daum.net/v/20201127161614651',\n",
       "   'regDt': 1606461374840,\n",
       "   'modiDt': 1606461374840,\n",
       "   'status': 'SERVICE',\n",
       "   'summary': '체중이 증가하면 ‘요즘 너무 많이 먹었나?’라는 생각이 먼저 든다. 체중 증가는 대부분 운동이나 식단의 변화 등 생활습관의 변화로 발생한다. 평소보다 열량을 많이 섭취하고, 움직이지 않는 다면 체중이 증가하는 것이 당연하다. 하지만 생활 습관을 그대로 유지하고 있는데도 체중이 증가했다면, 질병 등 다른 원인일 수 있다. healthline은 복부 팽만',\n",
       "   'searchId': '313630363436313337343834305e2a7c2c232d4041783942426c5376336c',\n",
       "   'label': None,\n",
       "   'commentCnt': 0,\n",
       "   'delegateId': None},\n",
       "  {'newsId': '20201127160310232',\n",
       "   'contentId': 'AXvn4fBD85',\n",
       "   'title': \"북서풍 타고 온 '중국發 초미세먼지', 코로나19 사망률 높인다?\",\n",
       "   'cpId': 190,\n",
       "   'cpLogoUrl': 'https://t1.daumcdn.net/media/news/news2016/cp/cp_donga.gif',\n",
       "   'cpKorName': '동아일보',\n",
       "   'cpEngName': 'donga',\n",
       "   'imageUrl': 'https://t1.daumcdn.net/news/202011/27/donga/20201127160314765qqzt.jpg',\n",
       "   'contentUrl': 'https://v.daum.net/v/20201127160310232',\n",
       "   'regDt': 1606460590076,\n",
       "   'modiDt': 1606460590076,\n",
       "   'status': 'SERVICE',\n",
       "   'summary': '서울 등 수도권 지역에 초미세먼지 농도가 ‘나쁨’ 수준을 보인 16일 오전 서울 북악산 북측 탐방로에서 바라본 시내가 뿌옇게 흐려 있다. 양회성 기자 yohan@donga.com날씨와 신종 코로나바이러스 감염증(코로나19)과의 관계는 기온에만 있는 게 아니다. 초미세먼지도 코로나19에 영향을 미친다는 연구 결과가 잇따르고 있다. 늘 조심해야 하는 미세먼지이',\n",
       "   'searchId': '313630363436303539303037365e2a7c2c232d404158766e346642443835',\n",
       "   'label': None,\n",
       "   'commentCnt': 0,\n",
       "   'delegateId': None},\n",
       "  {'newsId': '20201127153700432',\n",
       "   'contentId': 'AdUsR1FN3s',\n",
       "   'title': '종교계 \\'코로나 재확산\\' 부심..\"20%만 모이거나 비대면 전환\"',\n",
       "   'cpId': 2,\n",
       "   'cpLogoUrl': 'https://t1.daumcdn.net/media/news/news2016/cp/cp_yonhap.gif',\n",
       "   'cpKorName': '연합뉴스',\n",
       "   'cpEngName': 'yonhap',\n",
       "   'imageUrl': 'https://t1.daumcdn.net/news/202011/27/yonhap/20201127153700767epmk.jpg',\n",
       "   'contentUrl': 'https://v.daum.net/v/20201127153700432',\n",
       "   'regDt': 1606459020659,\n",
       "   'modiDt': 1606459020659,\n",
       "   'status': 'SERVICE',\n",
       "   'summary': \"(서울=연합뉴스) 양정우 기자 = '코로나19' 확진자가 서울 등 수도권을 중심으로 급속히 재확산하면서 주말 행사를 앞둔 종교계의 방역 대책에도 관심이 쏠린다. 27일 종교계에 따르면 서울시는 24일부터 '천만 시민 멈춤기간'을 선포하고 3단계에 준하는 서울형 정밀방역 조치에 나서기로 했다. 이런 조치에 따라 종교시설의 경우 인원 제한 조치보다 한 단계 더\",\n",
       "   'searchId': '313630363435393032303635395e2a7c2c232d40416455735231464e3373',\n",
       "   'label': None,\n",
       "   'commentCnt': 0,\n",
       "   'delegateId': None},\n",
       "  {'newsId': '20201127152404949',\n",
       "   'contentId': 'AlrbpAdmXS',\n",
       "   'title': '관악구 문화도시조성 정책토론회, 온라인으로',\n",
       "   'cpId': 21,\n",
       "   'cpLogoUrl': 'https://t1.daumcdn.net/media/news/news2016/cp/cp_newsis.gif',\n",
       "   'cpKorName': '뉴시스',\n",
       "   'cpEngName': 'newsis',\n",
       "   'imageUrl': 'https://t1.daumcdn.net/news/202011/27/newsis/20201127152404637kdsr.jpg',\n",
       "   'contentUrl': 'https://v.daum.net/v/20201127152404949',\n",
       "   'regDt': 1606458244573,\n",
       "   'modiDt': 1606458244573,\n",
       "   'status': 'SERVICE',\n",
       "   'summary': \"[서울=뉴시스] 이재훈 기자 = 관악문화재단(대표이사 차민태)이 27일 오후 4시30분 '관악구 문화도시 조성 및 지원 조례 제정'을 위한 정책토론회를 연다. 관악문화재단과 조례를 발의한 관악구 보건복지위원회 왕정순 의원이 공동 주최한다. 남현동예술인마을관광사업추진단, 관악구문화예술협동조합 등 10여 개의 관악구 지역예술인단체 등이 함께 한다. 최근\",\n",
       "   'searchId': '313630363435383234343537335e2a7c2c232d40416c72627041646d5853',\n",
       "   'label': None,\n",
       "   'commentCnt': 0,\n",
       "   'delegateId': None},\n",
       "  {'newsId': '20201127150607340',\n",
       "   'contentId': 'A4Wt7JYJe8',\n",
       "   'title': \"개보다 무서운 너구리..야생 호랑이도 '개홍역 백신'이 필요해\",\n",
       "   'cpId': 17,\n",
       "   'cpLogoUrl': 'https://t1.daumcdn.net/media/news/news2016/cp/cp_hani.gif',\n",
       "   'cpKorName': '한겨레',\n",
       "   'cpEngName': 'hani',\n",
       "   'imageUrl': 'https://t1.daumcdn.net/news/202011/27/hani/20201127150607636nqfz.jpg',\n",
       "   'contentUrl': 'https://v.daum.net/v/20201127150607340',\n",
       "   'regDt': 1606457167105,\n",
       "   'modiDt': 1606459564021,\n",
       "   'status': 'SERVICE',\n",
       "   'summary': '아무르호랑이(시베리아호랑이, 한국호랑이)의 주요 멸종위협으로 떠오른 개홍역 바이러스를 막기 위해서는 개가 아닌 야생 호랑이에게 직접 백신을 접종하는 대책이 필요하다는 주장이 나왔다. 이제까지 개가 바이러스의 주요 숙주로 알려졌지만 너구리 등 다른 포식자들이 더 중요한 바이러스의 저수지 노릇을 한다는 사실이 드러났기 때문이다. 마틴 길버트 미국 코넬대 박사',\n",
       "   'searchId': '313630363435373136373130355e2a7c2c232d4041345774374a594a6538',\n",
       "   'label': None,\n",
       "   'commentCnt': 0,\n",
       "   'delegateId': None},\n",
       "  {'newsId': '20201127141606310',\n",
       "   'contentId': 'AnQHgHKoIV',\n",
       "   'title': '\"지리산 산악열차? 20년간 복원한 반달곰 내쫓는 일\"',\n",
       "   'cpId': 17,\n",
       "   'cpLogoUrl': 'https://t1.daumcdn.net/media/news/news2016/cp/cp_hani.gif',\n",
       "   'cpKorName': '한겨레',\n",
       "   'cpEngName': 'hani',\n",
       "   'imageUrl': 'https://t1.daumcdn.net/news/202011/27/hani/20201127141607100pbal.jpg',\n",
       "   'contentUrl': 'https://v.daum.net/v/20201127141606310',\n",
       "   'regDt': 1606454166043,\n",
       "   'modiDt': 1606461972423,\n",
       "   'status': 'SERVICE',\n",
       "   'summary': '“곰이 있어요! 곰이 살아요! 지리산 형제봉 반달가슴곰. 아빠 곰이 외쳐요. 엄마 곰도 외쳐요. 우리가족 살게 해다오. 여긴 우리의 삶터야. 산악열차 절대 안돼!” 동요 ‘곰 세 마리’를 개사한 지리산 산악열차 반대 투쟁가다. 26일 오전 서울 여의도 국회 앞에서 8일째 농성 중인 지리산산악열차반대대책위(이하 산악열차반대위) 활동가가 피켓을 들고 투쟁가를',\n",
       "   'searchId': '313630363435343136363034335e2a7c2c232d40416e514867484b6f4956',\n",
       "   'label': None,\n",
       "   'commentCnt': 0,\n",
       "   'delegateId': None},\n",
       "  {'newsId': '20201127140605955',\n",
       "   'contentId': 'A9rRxLnO1U',\n",
       "   'title': \"'극단적 선택' 심리부검해보니..4050 여성 '가족 스트레스' 컸다\",\n",
       "   'cpId': 17,\n",
       "   'cpLogoUrl': 'https://t1.daumcdn.net/media/news/news2016/cp/cp_hani.gif',\n",
       "   'cpKorName': '한겨레',\n",
       "   'cpEngName': 'hani',\n",
       "   'imageUrl': 'https://t1.daumcdn.net/news/202011/27/hani/20201127140607279jayy.jpg',\n",
       "   'contentUrl': 'https://v.daum.net/v/20201127140605955',\n",
       "   'regDt': 1606453565274,\n",
       "   'modiDt': 1606457163540,\n",
       "   'status': 'SERVICE',\n",
       "   'summary': '#1. 40대 여성 ㄱ씨는 어린 시절 아버지가 자신과 어머니를 때리거나 흉기로 위협하는 가정폭력 피해 속에서 자랐다. 고등학교를 졸업한 그는 집을 나와 편의점, 주방 보조 등의 일을 전전하다 자신보다 10살 많은 남성을 만나 임신했지만, 남편이 외도를 일삼아 결혼 생활은 8년 만에 끝났다. 이혼 뒤 안정적인 일자리는 얻기 어려웠고, 남편은 양육비를 지급하',\n",
       "   'searchId': '313630363435333536353237345e2a7c2c232d4041397252784c6e4f3155',\n",
       "   'label': None,\n",
       "   'commentCnt': 0,\n",
       "   'delegateId': None},\n",
       "  {'newsId': '20201127140104756',\n",
       "   'contentId': 'A7hhaZ4Z1W',\n",
       "   'title': '면역력 높이는 영양제, 따로 있을까?',\n",
       "   'cpId': 256,\n",
       "   'cpLogoUrl': 'https://t1.daumcdn.net/media/news/news2016/cp/cp_KorMedi.gif',\n",
       "   'cpKorName': '코메디닷컴',\n",
       "   'cpEngName': 'KorMedi',\n",
       "   'imageUrl': 'https://t1.daumcdn.net/news/202011/27/KorMedi/20201127140111231sfsj.jpg',\n",
       "   'contentUrl': 'https://v.daum.net/v/20201127140104756',\n",
       "   'regDt': 1606453264951,\n",
       "   'modiDt': 1606453264951,\n",
       "   'status': 'SERVICE',\n",
       "   'summary': '코로나 19 사태가 장기화하면서 면역력에 대한 관심이 높아지고 있다. 건강 정보 사이트 웹엠디에 따르면 미국의 경우 면역력 증진을 표방한 건강기능식품 판매는 지난해 160억 달러였지만, 코로나19 사태를 거치고 2027년에는 290억 달러로 성장할 것으로 예상된다. 그렇다면 건강기능식품으로 감염병을 예방할 수 있을까? 위스콘신 대학교 의대 감염병 전문',\n",
       "   'searchId': '313630363435333236343935315e2a7c2c232d4041376868615a345a3157',\n",
       "   'label': None,\n",
       "   'commentCnt': 0,\n",
       "   'delegateId': None},\n",
       "  {'newsId': '20201127120908182',\n",
       "   'contentId': 'ACGU125dRU',\n",
       "   'title': \"[슬기로운라디오] 겨울철 낙상주의보, '침대 낙상사고' 비중 절반 이상\",\n",
       "   'cpId': 23,\n",
       "   'cpLogoUrl': 'https://t1.daumcdn.net/media/news/2020/cp/cp_ytn.gif',\n",
       "   'cpKorName': 'YTN',\n",
       "   'cpEngName': 'YTN',\n",
       "   'imageUrl': 'https://t1.daumcdn.net/news/202011/27/YTN/20201127120908677hvcl.jpg',\n",
       "   'contentUrl': 'https://v.daum.net/v/20201127120908182',\n",
       "   'regDt': 1606446548565,\n",
       "   'modiDt': 1606446548565,\n",
       "   'status': 'SERVICE',\n",
       "   'summary': 'YTN라디오(FM 94.5) [YTN 뉴스FM 슬기로운 라디오생활] □ 방송일시 : 2020년 11월 27일 금요일 □ 진행 : 최형진 아나운서 □ 출연 : 김용찬 강북연세병원장 (정형외과 전문의) - 65세 고령자의 사망원인 7위, 침대 낙상 - 노년층의 경우 다리 골절 등 낙상사고 유경험자 1/4 사망 - 화장실 변기 옆 손잡이 설치, 미끄럼',\n",
       "   'searchId': '313630363434363534383536355e2a7c2c232d4041434755313235645255',\n",
       "   'label': None,\n",
       "   'commentCnt': 0,\n",
       "   'delegateId': None},\n",
       "  {'newsId': '20201127111057797',\n",
       "   'contentId': 'A6KqWWC7Ah',\n",
       "   'title': '국내 코로나 백신, 내년 중 생산 가능할까?',\n",
       "   'cpId': 256,\n",
       "   'cpLogoUrl': 'https://t1.daumcdn.net/media/news/news2016/cp/cp_KorMedi.gif',\n",
       "   'cpKorName': '코메디닷컴',\n",
       "   'cpEngName': 'KorMedi',\n",
       "   'imageUrl': 'https://t1.daumcdn.net/news/202011/27/KorMedi/20201127111105503pcgx.jpg',\n",
       "   'contentUrl': 'https://v.daum.net/v/20201127111057797',\n",
       "   'regDt': 1606443057082,\n",
       "   'modiDt': 1606443255757,\n",
       "   'status': 'SERVICE',\n",
       "   'summary': '코로나19 백신 개발에 나선 글로벌 제약사 중 선두그룹은 다음 달이면 긴급사용승인을 받을 것으로 보인다. 국내에서 자체 개발 중인 백신의 현황은 어떨까? 코로나19 백신 승인을 가장 먼저 받을 것으로 보이는 화이자와 모더나 백신은 이미 미국, 유럽연합, 일본 등이 입도선매한 상황이다. 우리나라는 지금 그 대열에 선다 해도 내년까지 해당 백신들을 공급 받기',\n",
       "   'searchId': '313630363434333035373038325e2a7c2c232d4041364b71575743374168',\n",
       "   'label': None,\n",
       "   'commentCnt': 0,\n",
       "   'delegateId': None},\n",
       "  {'newsId': '20201127111035784',\n",
       "   'contentId': 'AZjGrPgGI0',\n",
       "   'title': '[단독]현직 검사 \"윤석열 징계심의, 가감없이 기록한 뒤 공개해달라\"',\n",
       "   'cpId': 129,\n",
       "   'cpLogoUrl': 'https://t1.daumcdn.net/media/news/news2016/cp/cp_seouleconomy.gif',\n",
       "   'cpKorName': '서울경제',\n",
       "   'cpEngName': 'seouleconomy',\n",
       "   'imageUrl': 'https://t1.daumcdn.net/news/202011/27/seouleconomy/20201127111502704nwza.jpg',\n",
       "   'contentUrl': 'https://v.daum.net/v/20201127111035784',\n",
       "   'regDt': 1606443035158,\n",
       "   'modiDt': 1606443302006,\n",
       "   'status': 'SERVICE',\n",
       "   'summary': '[서울경제] 현직 검사가 윤석열 검찰총장에 대한 검사 징계위원회에 관여하는 법무부 간부들을 향해 ‘절차를 공정하게 진행하고 누락 없이 기록해달라’는 취지의 의견을 냈다. 17일 김용제(사법연수원 37기) 부산지검 형사1부 검사는 검찰 내부망인 ‘이프로스’에 ‘ 법무부차관, 검찰과장께 드리는 글’에서 이같은 청원을 올린다고 밝혔다. 고기영 법무부 차관은',\n",
       "   'searchId': '313630363434333033353135385e2a7c2c232d40415a6a47725067474930',\n",
       "   'label': None,\n",
       "   'commentCnt': 0,\n",
       "   'delegateId': None},\n",
       "  {'newsId': '20201127105844115',\n",
       "   'contentId': 'AmcOul7JmD',\n",
       "   'title': '하나인 줄 알았던 경주 월성 1호 석축해자, 두 개였다',\n",
       "   'cpId': 2,\n",
       "   'cpLogoUrl': 'https://t1.daumcdn.net/media/news/news2016/cp/cp_yonhap.gif',\n",
       "   'cpKorName': '연합뉴스',\n",
       "   'cpEngName': 'yonhap',\n",
       "   'imageUrl': 'https://t1.daumcdn.net/news/202011/27/yonhap/20201127105844782eoms.jpg',\n",
       "   'contentUrl': 'https://v.daum.net/v/20201127105844115',\n",
       "   'regDt': 1606442324638,\n",
       "   'modiDt': 1606442324638,\n",
       "   'status': 'SERVICE',\n",
       "   'summary': '(서울=연합뉴스) 임동근 기자 = 신라 왕궁인 경주 월성(月城·사적 제16호)의 1호 석축해자(적의 침입을 막기 위해 성 주위에 둘러 판 못)가 하나가 아닌 두 개였던 것으로 밝혀졌다. 또 두 해자 사이는 월성과 북쪽의 계림을 잇는 도로였던 것으로 확인했다. 국립경주문화재연구소는 신라왕경핵심유적 복원정비사업추진단과 경주시가 해자를 물이 흐르는 석축해자로 복',\n",
       "   'searchId': '313630363434323332343633385e2a7c2c232d40416d634f756c374a6d44',\n",
       "   'label': None,\n",
       "   'commentCnt': 0,\n",
       "   'delegateId': None},\n",
       "  {'newsId': '20201127104854713',\n",
       "   'contentId': 'Awi6l1wjDd',\n",
       "   'title': '비타민D3, 전이성 암 발병 위험 17% 낮춰',\n",
       "   'cpId': 220,\n",
       "   'cpLogoUrl': 'https://t1.daumcdn.net/media/news/news2016/cp/cp_healthchosun.gif',\n",
       "   'cpKorName': '헬스조선',\n",
       "   'cpEngName': 'healthchosun',\n",
       "   'imageUrl': 'https://t1.daumcdn.net/news/202011/27/healthchosun/20201127104854460syxg.jpg',\n",
       "   'contentUrl': 'https://v.daum.net/v/20201127104854713',\n",
       "   'regDt': 1606441734256,\n",
       "   'modiDt': 1606441930121,\n",
       "   'status': 'SERVICE',\n",
       "   'summary': '비타민D3 보충제를 섭취하면 암이 다른 부위로 퍼져나가는 전이성(轉移性) 암 발병과 사망 위험이 줄어든다는 연구 결과가 나왔다. 비타민D는 여러 종류 중 비타민D2(에르고칼시페롤)와 비타민D3(콜레칼시페롤)가 생리활성이 있는 것으로 인정되며, 비타민D3가 비타민D2보다 혈중 비타민D 농도를 높이는 데 효과적이라고 알려졌다. 미국 보스턴 브리검 여성병원 연구',\n",
       "   'searchId': '313630363434313733343235365e2a7c2c232d40417769366c31776a4464',\n",
       "   'label': None,\n",
       "   'commentCnt': 0,\n",
       "   'delegateId': None},\n",
       "  {'newsId': '20201127103726199',\n",
       "   'contentId': 'ADbx5RzA5o',\n",
       "   'title': '\"류마티스 관절염 신약 오틸리맙, 효과 탁월\"',\n",
       "   'cpId': 2,\n",
       "   'cpLogoUrl': 'https://t1.daumcdn.net/media/news/news2016/cp/cp_yonhap.gif',\n",
       "   'cpKorName': '연합뉴스',\n",
       "   'cpEngName': 'yonhap',\n",
       "   'imageUrl': 'https://t1.daumcdn.net/news/202011/27/yonhap/20201127103726971kwae.jpg',\n",
       "   'contentUrl': 'https://v.daum.net/v/20201127103726199',\n",
       "   'regDt': 1606441046927,\n",
       "   'modiDt': 1606441046927,\n",
       "   'status': 'SERVICE',\n",
       "   'summary': '(서울=연합뉴스) 한성간 기자 = 글락소스미스클라인(GSK) 제약회사가 개발한 류마티스 관절염 치료 신약 오틸리맙(otilimab)이 염증과 함께 통증을 한꺼번에 줄이는 효과가 있는 것으로 임상시험 결과 밝혀졌다. 영국 옥스퍼드대학 의대의 크리스 버클리 중개 류마티스학(translational rheumatology) 교수 연구팀이 류마티스 관절염 환자 2',\n",
       "   'searchId': '313630363434313034363932375e2a7c2c232d404144627835527a41356f',\n",
       "   'label': None,\n",
       "   'commentCnt': 0,\n",
       "   'delegateId': None},\n",
       "  {'newsId': '20201127102618681',\n",
       "   'contentId': 'AuZM4nns5C',\n",
       "   'title': \"김환기 '항아리와 날으는 새' 10억7000만원에 새 주인..케이옥션 경매\",\n",
       "   'cpId': 396,\n",
       "   'cpLogoUrl': 'https://t1.daumcdn.net/media/news/news2016/cp/cp_news1.gif',\n",
       "   'cpKorName': '뉴스1',\n",
       "   'cpEngName': 'NEWS1',\n",
       "   'imageUrl': 'https://t1.daumcdn.net/news/202011/27/NEWS1/20201127102619685lqsp.jpg',\n",
       "   'contentUrl': 'https://v.daum.net/v/20201127102618681',\n",
       "   'regDt': 1606440378736,\n",
       "   'modiDt': 1606440378736,\n",
       "   'status': 'SERVICE',\n",
       "   'summary': \"(서울=뉴스1) 이기림 기자 = 김환기의 '항아리와 날으는 새'가 10억7000만원에 새 주인을 찾았다. 케이옥션은 지난 25일 서울 강남구 신사동 사옥에서 열린 2020년 마지막 메이저 경매에서 김환기의 작품이 이같은 가격에 낙찰되며 이날 경매 최고가를 기록했다고 27일 밝혔다. 김환기의 '항아리와 날으는 새'는 9억원에 경매를 시작했지만 경합 끝에\",\n",
       "   'searchId': '313630363434303337383733365e2a7c2c232d4041755a4d346e6e733543',\n",
       "   'label': None,\n",
       "   'commentCnt': 0,\n",
       "   'delegateId': None},\n",
       "  {'newsId': '20201127100832914',\n",
       "   'contentId': 'AlSn1NtF6M',\n",
       "   'title': \"세계기록유산 '직지' 알린다..글로벌 웹사이트 구축\",\n",
       "   'cpId': 2,\n",
       "   'cpLogoUrl': 'https://t1.daumcdn.net/media/news/news2016/cp/cp_yonhap.gif',\n",
       "   'cpKorName': '연합뉴스',\n",
       "   'cpEngName': 'yonhap',\n",
       "   'imageUrl': 'https://t1.daumcdn.net/news/202011/27/yonhap/20201127100832562xlxq.jpg',\n",
       "   'contentUrl': 'https://v.daum.net/v/20201127100832914',\n",
       "   'regDt': 1606439312459,\n",
       "   'modiDt': 1606439312459,\n",
       "   'status': 'SERVICE',\n",
       "   'summary': \"(청주=연합뉴스) 윤우용 기자 = 청주고인쇄박물관은 현존하는 세계 최고(最古)의 금속 활자본인 '직지심체요절(이하 직지)'을 널리 알리기 위해 '직지 글로벌 웹사이트(www.globaljikji.org)'를 구축했다고 27일 밝혔다. 이 웹사이트는 한국어와 영어, 프랑스어, 독일어, 스페인어, 일본어, 중국어, 러시아어, 아랍어, 포르투갈어, 이탈리아어로\",\n",
       "   'searchId': '313630363433393331323435395e2a7c2c232d40416c536e314e7446364d',\n",
       "   'label': None,\n",
       "   'commentCnt': 0,\n",
       "   'delegateId': None},\n",
       "  {'newsId': '20201127100331686',\n",
       "   'contentId': 'AATTP6bMph',\n",
       "   'title': \"여순사건 '복역 중 처형' 유족 26명 집단 재심 재판 신청\",\n",
       "   'cpId': 2,\n",
       "   'cpLogoUrl': 'https://t1.daumcdn.net/media/news/news2016/cp/cp_yonhap.gif',\n",
       "   'cpKorName': '연합뉴스',\n",
       "   'cpEngName': 'yonhap',\n",
       "   'imageUrl': 'https://t1.daumcdn.net/news/202011/27/yonhap/20201127100331743ukex.jpg',\n",
       "   'contentUrl': 'https://v.daum.net/v/20201127100331686',\n",
       "   'regDt': 1606439011652,\n",
       "   'modiDt': 1606439011652,\n",
       "   'status': 'SERVICE',\n",
       "   'summary': '(순천=연합뉴스) 형민우 기자 = 1948년 10월에 발생한 여순사건 희생자 유족들이 진상을 밝혀달라며 잇따라 재심 재판을 신청해 귀추가 주목된다. 27일 광주지법 순천지원에 따르면 최근 순천지원 제1형사부(송백현 부장판사)는 여순사건 때 포고령 위반 혐의로 군사재판에서 유죄를 선고받고 대전교도소에서 복역하다 처형당한 26명의 유족이 청구한 재심 재판을 할',\n",
       "   'searchId': '313630363433393031313635325e2a7c2c232d40414154545036624d7068',\n",
       "   'label': None,\n",
       "   'commentCnt': 0,\n",
       "   'delegateId': None},\n",
       "  {'newsId': '20201127100313673',\n",
       "   'contentId': 'AlEbuwWjDS',\n",
       "   'title': '계림~월성 잇는 진입로서 도로·건물지 등 추가 확인',\n",
       "   'cpId': 21,\n",
       "   'cpLogoUrl': 'https://t1.daumcdn.net/media/news/news2016/cp/cp_newsis.gif',\n",
       "   'cpKorName': '뉴시스',\n",
       "   'cpEngName': 'newsis',\n",
       "   'imageUrl': 'https://t1.daumcdn.net/news/202011/27/newsis/20201127100313582ksbt.jpg',\n",
       "   'contentUrl': 'https://v.daum.net/v/20201127100313673',\n",
       "   'regDt': 1606438993459,\n",
       "   'modiDt': 1606438993459,\n",
       "   'status': 'SERVICE',\n",
       "   'summary': '[서울=뉴시스] 남정현 기자 = 계림~월성을 잇는 진입로에서 통일신라 시대 대형 건물터로 추정되는 건물지가 발견됐다. 통일신라~고려·조선 시대에 이르는 도로 유구(유적의 흔적), 기와무지 등이 확인됐다. 월성과 가장 가까운 지점에서 확인된 도로 유구는 5m 이하의 소형 도로로 추정된다. 국가적 제의 공간과 관련된 계림, 황남동 대형건물지 유적과 통하고',\n",
       "   'searchId': '313630363433383939333435395e2a7c2c232d40416c45627577576a4453',\n",
       "   'label': None,\n",
       "   'commentCnt': 0,\n",
       "   'delegateId': None}],\n",
       " 'countPerPage': 20,\n",
       " 'currentPage': 1,\n",
       " 'currentCount': 20,\n",
       " 'totalCount': 29,\n",
       " 'hasNext': True}"
      ]
     },
     "execution_count": 84,
     "metadata": {},
     "output_type": "execute_result"
    }
   ],
   "source": [
    "result"
   ]
  },
  {
   "cell_type": "code",
   "execution_count": 78,
   "metadata": {},
   "outputs": [
    {
     "name": "stdout",
     "output_type": "stream",
     "text": [
      "list\n",
      "countPerPage\n",
      "currentPage\n",
      "currentCount\n",
      "totalCount\n",
      "hasNext\n"
     ]
    }
   ],
   "source": [
    "for i in result:\n",
    "    print(i) # >>> key값들이 나옴. 우리가 원하는건 list의 title부분임"
   ]
  },
  {
   "cell_type": "code",
   "execution_count": 81,
   "metadata": {},
   "outputs": [
    {
     "data": {
      "text/plain": [
       "'잘못 먹으면 毒.. 질환별 주의해야 할 건강즙'"
      ]
     },
     "execution_count": 81,
     "metadata": {},
     "output_type": "execute_result"
    }
   ],
   "source": [
    "result['list'][0]['title']"
   ]
  },
  {
   "cell_type": "code",
   "execution_count": 82,
   "metadata": {},
   "outputs": [
    {
     "name": "stdout",
     "output_type": "stream",
     "text": [
      "잘못 먹으면 毒.. 질환별 주의해야 할 건강즙\n",
      "'한잔 했다람쥐~' 발효된 배에 취한 다람쥐\n",
      "갑작스럽게 체중이 늘고 복부가 팽창한다면 '이것' 때문?\n",
      "북서풍 타고 온 '중국發 초미세먼지', 코로나19 사망률 높인다?\n",
      "종교계 '코로나 재확산' 부심..\"20%만 모이거나 비대면 전환\"\n",
      "관악구 문화도시조성 정책토론회, 온라인으로\n",
      "개보다 무서운 너구리..야생 호랑이도 '개홍역 백신'이 필요해\n",
      "\"지리산 산악열차? 20년간 복원한 반달곰 내쫓는 일\"\n",
      "'극단적 선택' 심리부검해보니..4050 여성 '가족 스트레스' 컸다\n",
      "면역력 높이는 영양제, 따로 있을까?\n",
      "[슬기로운라디오] 겨울철 낙상주의보, '침대 낙상사고' 비중 절반 이상\n",
      "국내 코로나 백신, 내년 중 생산 가능할까?\n",
      "[단독]현직 검사 \"윤석열 징계심의, 가감없이 기록한 뒤 공개해달라\"\n",
      "하나인 줄 알았던 경주 월성 1호 석축해자, 두 개였다\n",
      "비타민D3, 전이성 암 발병 위험 17% 낮춰\n",
      "\"류마티스 관절염 신약 오틸리맙, 효과 탁월\"\n",
      "김환기 '항아리와 날으는 새' 10억7000만원에 새 주인..케이옥션 경매\n",
      "세계기록유산 '직지' 알린다..글로벌 웹사이트 구축\n",
      "여순사건 '복역 중 처형' 유족 26명 집단 재심 재판 신청\n",
      "계림~월성 잇는 진입로서 도로·건물지 등 추가 확인\n"
     ]
    }
   ],
   "source": [
    "for i in result['list']:\n",
    "    print(i['title'])"
   ]
  },
  {
   "cell_type": "markdown",
   "metadata": {},
   "source": [
    "### 실시간 검색어 가져오기"
   ]
  },
  {
   "cell_type": "markdown",
   "metadata": {},
   "source": [
    "#### 실시간 검색어가 저장되어 있는 데이터랩 url을 가져와서 하는 법\n",
    "#### 막혀있어서 header로 풀어줌"
   ]
  },
  {
   "cell_type": "code",
   "execution_count": 104,
   "metadata": {},
   "outputs": [],
   "source": [
    "h = {\"User-Agent\": \"Mozilla/5.0 (Windows NT 10.0; Win64; x64) AppleWebKit/537.36 (KHTML, like Gecko) Chrome/83.0.4103.116 Safari/537.36\"}"
   ]
  },
  {
   "cell_type": "code",
   "execution_count": 110,
   "metadata": {},
   "outputs": [],
   "source": [
    "url = 'https://datalab.naver.com/keyword/realtimeList.naver?where=main'\n",
    "res=req.get(url, headers = h)\n",
    "soup=bs(res.text, 'lxml')"
   ]
  },
  {
   "cell_type": "code",
   "execution_count": 124,
   "metadata": {},
   "outputs": [],
   "source": [
    "result = soup.select('.item_title_wrap > span:first-child')"
   ]
  },
  {
   "cell_type": "code",
   "execution_count": 125,
   "metadata": {},
   "outputs": [
    {
     "name": "stdout",
     "output_type": "stream",
     "text": [
      "왕자통신 왕대표\n",
      "직위해제\n",
      "왕자통신\n",
      "김우빈\n",
      "한남대학교\n",
      "경남대학교\n",
      "단국대학교\n",
      "경북대학교\n",
      "조미연판사\n",
      "2.5단계\n",
      "신민아\n",
      "수원대학교\n",
      "경남대\n",
      "김유미\n",
      "세종대학교\n",
      "부경대학교\n",
      "경북대\n",
      "최정윤\n",
      "뮤직뱅크\n",
      "김우빈 인스타\n"
     ]
    }
   ],
   "source": [
    "for i in result:\n",
    "    print(i.text)"
   ]
  },
  {
   "cell_type": "markdown",
   "metadata": {},
   "source": [
    "#### json으로 실시간검색어 가져오기"
   ]
  },
  {
   "cell_type": "code",
   "execution_count": 116,
   "metadata": {},
   "outputs": [],
   "source": [
    "url = 'https://apis.naver.com/mobile_main/srchrank/srchrank?frm=main&ag=20s&gr=1&ma=-1&si=-1&en=-1&sp=-1'"
   ]
  },
  {
   "cell_type": "code",
   "execution_count": 117,
   "metadata": {},
   "outputs": [],
   "source": [
    "res=req.get(url)"
   ]
  },
  {
   "cell_type": "code",
   "execution_count": 119,
   "metadata": {},
   "outputs": [],
   "source": [
    "result = json.loads(res.text)"
   ]
  },
  {
   "cell_type": "code",
   "execution_count": 122,
   "metadata": {},
   "outputs": [
    {
     "name": "stdout",
     "output_type": "stream",
     "text": [
      "ts\n",
      "sm\n",
      "rop\n",
      "data\n"
     ]
    }
   ],
   "source": [
    "for i in result:\n",
    "    print(i)"
   ]
  },
  {
   "cell_type": "code",
   "execution_count": 123,
   "metadata": {},
   "outputs": [
    {
     "name": "stdout",
     "output_type": "stream",
     "text": [
      "무신사 블프 선착순\n",
      "왕자통신 왕대표\n",
      "예향정\n",
      "제이룸버거\n",
      "푸름웰니스\n",
      "왕자통신\n",
      "김우빈\n",
      "토트넘 루도고레츠\n",
      "코로나 2.5단계 피시방\n",
      "나이키 에어맥스 270\n",
      "국시원\n",
      "태업\n",
      "임효준\n",
      "영남대 코로나\n",
      "경남대학교\n",
      "단국대학교\n",
      "뮤직뱅크\n",
      "신민아\n",
      "김우빈 인스타\n",
      "솔리드 무톤 자켓\n"
     ]
    }
   ],
   "source": [
    "for i in result['data']:\n",
    "    print(i['keyword'])"
   ]
  },
  {
   "cell_type": "code",
   "execution_count": null,
   "metadata": {},
   "outputs": [],
   "source": []
  },
  {
   "cell_type": "code",
   "execution_count": null,
   "metadata": {},
   "outputs": [],
   "source": []
  },
  {
   "cell_type": "code",
   "execution_count": null,
   "metadata": {},
   "outputs": [],
   "source": []
  },
  {
   "cell_type": "code",
   "execution_count": null,
   "metadata": {},
   "outputs": [],
   "source": []
  }
 ],
 "metadata": {
  "kernelspec": {
   "display_name": "Python 3",
   "language": "python",
   "name": "python3"
  },
  "language_info": {
   "codemirror_mode": {
    "name": "ipython",
    "version": 3
   },
   "file_extension": ".py",
   "mimetype": "text/x-python",
   "name": "python",
   "nbconvert_exporter": "python",
   "pygments_lexer": "ipython3",
   "version": "3.8.3"
  }
 },
 "nbformat": 4,
 "nbformat_minor": 4
}

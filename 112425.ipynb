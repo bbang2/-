{
 "cells": [
  {
   "cell_type": "code",
   "execution_count": 4,
   "metadata": {},
   "outputs": [],
   "source": [
    "#requests 서버에 페이지 정보를 요청할 때 사용하는 라이브러리\n",
    "import requests as req"
   ]
  },
  {
   "cell_type": "code",
   "execution_count": 5,
   "metadata": {},
   "outputs": [],
   "source": [
    "url = \"https://www.naver.com/\"\n",
    "res = req.get(url) #url 정보를 가져오는 부분"
   ]
  },
  {
   "cell_type": "code",
   "execution_count": 6,
   "metadata": {},
   "outputs": [
    {
     "data": {
      "text/plain": [
       "<Response [200]>"
      ]
     },
     "execution_count": 6,
     "metadata": {},
     "output_type": "execute_result"
    }
   ],
   "source": [
    "res #Response [200] = 데이터가 잘 받아졌다"
   ]
  },
  {
   "cell_type": "code",
   "execution_count": 7,
   "metadata": {},
   "outputs": [],
   "source": [
    "#가져온 정보의 페이지를 보기\n",
    "naver_info = res.text"
   ]
  },
  {
   "cell_type": "code",
   "execution_count": 8,
   "metadata": {},
   "outputs": [],
   "source": [
    "#nav"
   ]
  },
  {
   "cell_type": "markdown",
   "metadata": {},
   "source": [
    "## BeautifulSoup 사용하기\n",
    "#### 가져온 정보에서 내가 원하는 내용만 추출할 때 사용"
   ]
  },
  {
   "cell_type": "code",
   "execution_count": 9,
   "metadata": {},
   "outputs": [],
   "source": [
    "from bs4 import BeautifulSoup as bs"
   ]
  },
  {
   "cell_type": "code",
   "execution_count": 10,
   "metadata": {},
   "outputs": [],
   "source": [
    "#bs(어떤걸 가공할건지, 어떻게 가공할건지 - 피싱방법)\n",
    "naver_list = bs(naver_info, 'lxml')"
   ]
  },
  {
   "cell_type": "code",
   "execution_count": 12,
   "metadata": {},
   "outputs": [],
   "source": [
    "#find_all( , ) = 특정 데이터를 모두 찾아오는 기능(태그, 클래스 or 아이디)\n",
    "#클래스명 쓸 때는 class_ = 클래스명\n",
    "result = naver_list.find_all('a',class_ = 'nav' )"
   ]
  },
  {
   "cell_type": "code",
   "execution_count": 15,
   "metadata": {},
   "outputs": [
    {
     "data": {
      "text/plain": [
       "'블로그'"
      ]
     },
     "execution_count": 15,
     "metadata": {},
     "output_type": "execute_result"
    }
   ],
   "source": [
    "# 가지고 온 데이터 중에서 순수하게 텍스트만 출력하는 코드\n",
    "result[2].text"
   ]
  },
  {
   "cell_type": "markdown",
   "metadata": {},
   "source": [
    "### 메일, 카페 단어 가져오기"
   ]
  },
  {
   "cell_type": "code",
   "execution_count": 20,
   "metadata": {},
   "outputs": [
    {
     "data": {
      "text/plain": [
       "'메일'"
      ]
     },
     "execution_count": 20,
     "metadata": {},
     "output_type": "execute_result"
    }
   ],
   "source": [
    "result[0].text"
   ]
  },
  {
   "cell_type": "code",
   "execution_count": 21,
   "metadata": {},
   "outputs": [
    {
     "data": {
      "text/plain": [
       "'카페'"
      ]
     },
     "execution_count": 21,
     "metadata": {},
     "output_type": "execute_result"
    }
   ],
   "source": [
    "result[1].text"
   ]
  },
  {
   "cell_type": "markdown",
   "metadata": {},
   "source": [
    "### 뉴스 타이틀 가져오기"
   ]
  },
  {
   "cell_type": "code",
   "execution_count": 24,
   "metadata": {},
   "outputs": [],
   "source": [
    "url = \"https://search.naver.com/search.naver?where=nexearch&sm=top_hty&fbm=1&ie=utf8&query=%EC%BD%94%EB%A1%9C%EB%82%98\""
   ]
  },
  {
   "cell_type": "code",
   "execution_count": 25,
   "metadata": {},
   "outputs": [],
   "source": [
    "res=req.get(url)"
   ]
  },
  {
   "cell_type": "code",
   "execution_count": 28,
   "metadata": {},
   "outputs": [
    {
     "data": {
      "text/plain": [
       "<Response [200]>"
      ]
     },
     "execution_count": 28,
     "metadata": {},
     "output_type": "execute_result"
    }
   ],
   "source": [
    "res"
   ]
  },
  {
   "cell_type": "code",
   "execution_count": 31,
   "metadata": {},
   "outputs": [],
   "source": [
    "naver_news=res.text"
   ]
  },
  {
   "cell_type": "code",
   "execution_count": 34,
   "metadata": {},
   "outputs": [],
   "source": [
    "naver_list = bs(naver_news, 'lxml')"
   ]
  },
  {
   "cell_type": "code",
   "execution_count": 35,
   "metadata": {},
   "outputs": [],
   "source": [
    "result2 = naver_list.find_all('a',class_ = 'news_tit' )"
   ]
  },
  {
   "cell_type": "code",
   "execution_count": 37,
   "metadata": {},
   "outputs": [
    {
     "data": {
      "text/plain": [
       "'공주 푸르메요양병원서 15명 코로나19 확진…코호트 격리(종합2보)'"
      ]
     },
     "execution_count": 37,
     "metadata": {},
     "output_type": "execute_result"
    }
   ],
   "source": [
    "result2[0].text"
   ]
  },
  {
   "cell_type": "code",
   "execution_count": 38,
   "metadata": {},
   "outputs": [
    {
     "data": {
      "text/plain": [
       "'코로나 신규 확진 349명, 또 300명 넘었다…“모래성처럼 무너질 것”(종합)'"
      ]
     },
     "execution_count": 38,
     "metadata": {},
     "output_type": "execute_result"
    }
   ],
   "source": [
    "result2[1].text"
   ]
  },
  {
   "cell_type": "code",
   "execution_count": 39,
   "metadata": {},
   "outputs": [
    {
     "data": {
      "text/plain": [
       "'[레이더P] 수능 코로나 비상에 文 \"수능안전 사회 전체 책임\"'"
      ]
     },
     "execution_count": 39,
     "metadata": {},
     "output_type": "execute_result"
    }
   ],
   "source": [
    "result2[2].text"
   ]
  },
  {
   "cell_type": "code",
   "execution_count": 40,
   "metadata": {},
   "outputs": [
    {
     "data": {
      "text/plain": [
       "'[단독] 드라마 \\'철인왕후\\' 촬영장서도 코로나19 확진자 발생…\"촬영 중단\"'"
      ]
     },
     "execution_count": 40,
     "metadata": {},
     "output_type": "execute_result"
    }
   ],
   "source": [
    "result2[3].text"
   ]
  },
  {
   "cell_type": "code",
   "execution_count": 42,
   "metadata": {},
   "outputs": [
    {
     "name": "stdout",
     "output_type": "stream",
     "text": [
      "공주 푸르메요양병원서 15명 코로나19 확진…코호트 격리(종합2보)\n",
      "코로나 신규 확진 349명, 또 300명 넘었다…“모래성처럼 무너질 것”(종합)\n",
      "[레이더P] 수능 코로나 비상에 文 \"수능안전 사회 전체 책임\"\n",
      "[단독] 드라마 '철인왕후' 촬영장서도 코로나19 확진자 발생…\"촬영 중단\"\n"
     ]
    }
   ],
   "source": [
    "for i in result2:\n",
    "    print(i.text)"
   ]
  },
  {
   "cell_type": "code",
   "execution_count": 52,
   "metadata": {},
   "outputs": [],
   "source": [
    "url = \"https://www.naver.com/\"\n",
    "tab= req.get(url)\n",
    "tab_list=tab.text"
   ]
  },
  {
   "cell_type": "code",
   "execution_count": 53,
   "metadata": {},
   "outputs": [],
   "source": [
    "tabb_list=bs(tab_list, \"lxml\")"
   ]
  },
  {
   "cell_type": "code",
   "execution_count": 56,
   "metadata": {},
   "outputs": [],
   "source": [
    "result = tabb_list.find_all('a',class_=\"_NM_THEME_CATE\")"
   ]
  },
  {
   "cell_type": "code",
   "execution_count": 60,
   "metadata": {
    "scrolled": true
   },
   "outputs": [
    {
     "data": {
      "text/plain": [
       "[<a aria-selected=\"false\" class=\"_NM_THEME_CATE tab id_enter\" data-clk=\"tct.tvc\" data-panel-code=\"ENTER\" href=\"#\" role=\"tab\">엔터</a>,\n",
       " <a aria-selected=\"false\" class=\"_NM_THEME_CATE tab id_sports\" data-clk=\"tct.spo\" data-panel-code=\"SPORTS\" href=\"#\" role=\"tab\">스포츠</a>,\n",
       " <a aria-selected=\"false\" class=\"_NM_THEME_CATE tab id_cargame\" data-clk=\"tct.aut\" data-panel-code=\"CARGAME\" href=\"#\" role=\"tab\">자동차</a>,\n",
       " <a aria-selected=\"true\" class=\"_NM_THEME_CATE tab id_bboom\" data-clk=\"tct.web\" data-panel-code=\"BBOOM\" href=\"#\" role=\"tab\">웹툰</a>,\n",
       " <a aria-selected=\"false\" class=\"_NM_THEME_CATE tab id_finance\" data-clk=\"tct.fin\" data-panel-code=\"FINANCE\" href=\"#\" role=\"tab\">경제M</a>,\n",
       " <a aria-selected=\"false\" class=\"_NM_THEME_CATE tab id_living\" data-clk=\"tct.fod\" data-panel-code=\"LIVING\" href=\"#\" role=\"tab\">푸드</a>,\n",
       " <a aria-selected=\"false\" class=\"_NM_THEME_CATE tab id_gameapp\" data-clk=\"tct.gam\" data-panel-code=\"GAMEAPP\" href=\"#\" role=\"tab\">게임</a>,\n",
       " <a aria-selected=\"false\" class=\"_NM_THEME_CATE tab id_movie\" data-clk=\"tct.mov\" data-panel-code=\"MOVIE\" href=\"#\" role=\"tab\">영화</a>,\n",
       " <a aria-selected=\"false\" class=\"_NM_THEME_CATE tab id_job\" data-clk=\"tct.job\" data-panel-code=\"JOB\" href=\"#\" role=\"tab\">JOB&amp;</a>,\n",
       " <a aria-selected=\"false\" class=\"_NM_THEME_CATE tab id_ittech\" data-clk=\"tct.tec\" data-panel-code=\"ITTECH\" href=\"#\" role=\"tab\">테크</a>,\n",
       " <a aria-selected=\"false\" class=\"_NM_THEME_CATE tab id_travel\" data-clk=\"tct.tra\" data-panel-code=\"TRAVEL\" href=\"#\" role=\"tab\">여행+</a>,\n",
       " <a aria-selected=\"false\" class=\"_NM_THEME_CATE tab id_science\" data-clk=\"tct.sci\" data-panel-code=\"SCIENCE\" href=\"#\" role=\"tab\">과학</a>,\n",
       " <a aria-selected=\"false\" class=\"_NM_THEME_CATE tab id_livinghome\" data-clk=\"tct.lif\" data-panel-code=\"LIVINGHOME\" href=\"#\" role=\"tab\">리빙</a>,\n",
       " <a aria-selected=\"false\" class=\"_NM_THEME_CATE tab id_health\" data-clk=\"tct.hea\" data-panel-code=\"HEALTH\" href=\"#\" role=\"tab\">건강</a>,\n",
       " <a aria-selected=\"false\" class=\"_NM_THEME_CATE tab id_business\" data-clk=\"tct.bsn\" data-panel-code=\"BUSINESS\" href=\"#\" role=\"tab\">비즈니스</a>,\n",
       " <a aria-selected=\"false\" class=\"_NM_THEME_CATE tab id_wedding\" data-clk=\"tct.wed\" data-panel-code=\"WEDDING\" href=\"#\" role=\"tab\">연애·결혼</a>,\n",
       " <a aria-selected=\"false\" class=\"_NM_THEME_CATE tab id_culture\" data-clk=\"tct.bok\" data-panel-code=\"CULTURE\" href=\"#\" role=\"tab\">책문화</a>,\n",
       " <a aria-selected=\"false\" class=\"_NM_THEME_CATE tab id_momkids\" data-clk=\"tct.mom\" data-panel-code=\"MOMKIDS\" href=\"#\" role=\"tab\">부모i</a>,\n",
       " <a aria-selected=\"false\" class=\"_NM_THEME_CATE tab id_law\" data-clk=\"tct.law\" data-panel-code=\"LAW\" href=\"#\" role=\"tab\">법률</a>,\n",
       " <a aria-selected=\"false\" class=\"_NM_THEME_CATE tab id_beauty\" data-clk=\"tct.bty\" data-panel-code=\"BEAUTY\" href=\"#\" role=\"tab\">패션뷰티</a>,\n",
       " <a aria-selected=\"false\" class=\"_NM_THEME_CATE tab id_animal\" data-clk=\"tct.ani\" data-panel-code=\"ANIMAL\" href=\"#\" role=\"tab\">동물공감</a>,\n",
       " <a aria-selected=\"false\" class=\"_NM_THEME_CATE tab id_design\" data-clk=\"tct.des\" data-panel-code=\"DESIGN\" href=\"#\" role=\"tab\">디자인</a>,\n",
       " <a aria-selected=\"false\" class=\"_NM_THEME_CATE tab id_china\" data-clk=\"tct.chn\" data-panel-code=\"CHINA\" href=\"#\" role=\"tab\">중국</a>,\n",
       " <a aria-selected=\"false\" class=\"_NM_THEME_CATE tab id_farm\" data-clk=\"tct.far\" data-panel-code=\"FARM\" href=\"#\" role=\"tab\">FARM</a>,\n",
       " <a aria-selected=\"false\" class=\"_NM_THEME_CATE tab id_show\" data-clk=\"tct.sow\" data-panel-code=\"SHOW\" href=\"#\" role=\"tab\">공연전시</a>,\n",
       " <a aria-selected=\"false\" class=\"_NM_THEME_CATE tab id_with\" data-clk=\"tct.pub\" data-panel-code=\"WITH\" href=\"#\" role=\"tab\">함께N</a>,\n",
       " <a aria-selected=\"false\" class=\"_NM_THEME_CATE tab id_school\" data-clk=\"tct.scl\" data-panel-code=\"SCHOOL\" href=\"#\" role=\"tab\">스쿨잼</a>]"
      ]
     },
     "execution_count": 60,
     "metadata": {},
     "output_type": "execute_result"
    }
   ],
   "source": [
    "result"
   ]
  },
  {
   "cell_type": "code",
   "execution_count": 61,
   "metadata": {
    "scrolled": true
   },
   "outputs": [
    {
     "name": "stdout",
     "output_type": "stream",
     "text": [
      "엔터\n",
      "스포츠\n",
      "자동차\n",
      "웹툰\n",
      "경제M\n",
      "푸드\n",
      "게임\n",
      "영화\n",
      "JOB&\n",
      "테크\n",
      "여행+\n",
      "과학\n",
      "리빙\n",
      "건강\n",
      "비즈니스\n",
      "연애·결혼\n",
      "책문화\n",
      "부모i\n",
      "법률\n",
      "패션뷰티\n",
      "동물공감\n",
      "디자인\n",
      "중국\n",
      "FARM\n",
      "공연전시\n",
      "함께N\n",
      "스쿨잼\n"
     ]
    }
   ],
   "source": [
    "for i in result:\n",
    "    print(i.text)"
   ]
  },
  {
   "cell_type": "markdown",
   "metadata": {},
   "source": [
    "# 멜론사이트 크롤링"
   ]
  },
  {
   "cell_type": "code",
   "execution_count": 63,
   "metadata": {},
   "outputs": [
    {
     "data": {
      "text/plain": [
       "<Response [406]>"
      ]
     },
     "execution_count": 63,
     "metadata": {},
     "output_type": "execute_result"
    }
   ],
   "source": [
    "url = \"https://www.melon.com/\"\n",
    "melong = req.get(url)\n",
    "melong"
   ]
  },
  {
   "cell_type": "code",
   "execution_count": null,
   "metadata": {},
   "outputs": [],
   "source": [
    "# Response [406] >> 보안"
   ]
  },
  {
   "cell_type": "code",
   "execution_count": 64,
   "metadata": {},
   "outputs": [],
   "source": [
    "#컴퓨터가 아닌 사람으로 속이는 작업(headers)\n",
    "h = {\"User-Agent\": \"Mozilla/5.0 (Windows NT 10.0; Win64; x64) AppleWebKit/537.36 (KHTML, like Gecko) Chrome/83.0.4103.116 Safari/537.36\"}"
   ]
  },
  {
   "cell_type": "code",
   "execution_count": 65,
   "metadata": {},
   "outputs": [
    {
     "data": {
      "text/plain": [
       "<Response [200]>"
      ]
     },
     "execution_count": 65,
     "metadata": {},
     "output_type": "execute_result"
    }
   ],
   "source": [
    "melong= req.get(url, headers = h)\n",
    "melong"
   ]
  },
  {
   "cell_type": "code",
   "execution_count": 66,
   "metadata": {},
   "outputs": [],
   "source": [
    "melonga=melong.text"
   ]
  },
  {
   "cell_type": "code",
   "execution_count": 67,
   "metadata": {},
   "outputs": [],
   "source": [
    "melongb=bs(melonga, 'lxml')"
   ]
  },
  {
   "cell_type": "code",
   "execution_count": 82,
   "metadata": {},
   "outputs": [],
   "source": [
    "result = melongb.find_all('a',class_=\"cur_menu\")\n",
    "result = melongb.select('.cur_menu > span + span')"
   ]
  },
  {
   "cell_type": "code",
   "execution_count": 83,
   "metadata": {},
   "outputs": [
    {
     "name": "stdout",
     "output_type": "stream",
     "text": [
      "멜론차트\n",
      "최신 음악\n",
      "장르 음악\n",
      "멜론DJ\n",
      "멜론TV\n",
      "스타포스트\n",
      "매거진\n",
      "뮤직어워드\n",
      "어학\n",
      "마이뮤직\n"
     ]
    }
   ],
   "source": [
    "for i in result:\n",
    "    print(i.text)"
   ]
  },
  {
   "cell_type": "code",
   "execution_count": null,
   "metadata": {},
   "outputs": [],
   "source": []
  },
  {
   "cell_type": "markdown",
   "metadata": {},
   "source": [
    "# 20.11.25"
   ]
  },
  {
   "cell_type": "code",
   "execution_count": 2,
   "metadata": {},
   "outputs": [],
   "source": [
    "import requests as req"
   ]
  },
  {
   "cell_type": "code",
   "execution_count": 4,
   "metadata": {},
   "outputs": [
    {
     "data": {
      "text/plain": [
       "<Response [200]>"
      ]
     },
     "execution_count": 4,
     "metadata": {},
     "output_type": "execute_result"
    }
   ],
   "source": [
    "url = \"https://www.naver.com/\"\n",
    "naver=req.get(url)\n",
    "naver"
   ]
  },
  {
   "cell_type": "code",
   "execution_count": 5,
   "metadata": {},
   "outputs": [],
   "source": [
    "naver_tx=naver.text"
   ]
  },
  {
   "cell_type": "code",
   "execution_count": 7,
   "metadata": {},
   "outputs": [],
   "source": [
    "from bs4 import BeautifulSoup as bs"
   ]
  },
  {
   "cell_type": "code",
   "execution_count": 8,
   "metadata": {
    "scrolled": true
   },
   "outputs": [],
   "source": [
    "naver_bt=bs(naver_tx, 'lxml')"
   ]
  },
  {
   "cell_type": "code",
   "execution_count": 43,
   "metadata": {},
   "outputs": [],
   "source": [
    "#naver_notice=naver_bt.find_all('a', class_='link_partner')"
   ]
  },
  {
   "cell_type": "code",
   "execution_count": 47,
   "metadata": {},
   "outputs": [],
   "source": [
    " naver_notice=naver_bt.select('.link_partner')"
   ]
  },
  {
   "cell_type": "code",
   "execution_count": 48,
   "metadata": {},
   "outputs": [
    {
     "data": {
      "text/plain": [
       "[<a class=\"link_partner\" data-clk=\"creator\" href=\"https://www.navercorp.com/service/creators\">크리에이터</a>,\n",
       " <a class=\"link_partner\" data-clk=\"smbusiness\" href=\"https://www.navercorp.com/service/business\">스몰비즈니스</a>,\n",
       " <a class=\"link_partner\" data-clk=\"service\" href=\"https://business.naver.com/service.html\">비즈니스 · 광고</a>,\n",
       " <a class=\"link_partner\" data-clk=\"store\" href=\"https://sell.storefarm.naver.com/#/home/about\">스토어 개설</a>,\n",
       " <a class=\"link_partner\" data-clk=\"place\" href=\"https://smartplace.naver.com\">지역업체 등록</a>,\n",
       " <a class=\"link_partner\" data-clk=\"expert\" href=\"https://expert.naver.com/?tab=guide#join\">엑스퍼트 등록</a>,\n",
       " <a class=\"link_partner\" data-clk=\"center\" href=\"https://developers.naver.com\">네이버 개발자 센터</a>,\n",
       " <a class=\"link_partner\" data-clk=\"openapi\" href=\"https://developers.naver.com/docs/common/openapiguide/#/apilist.md\">오픈 API</a>,\n",
       " <a class=\"link_partner\" data-clk=\"opensource\" href=\"https://naver.github.io\">오픈소스</a>,\n",
       " <a class=\"link_partner\" data-clk=\"d2\" href=\"https://d2.naver.com\">네이버 D2</a>,\n",
       " <a class=\"link_partner\" data-clk=\"naverD2SF\" href=\"http://d2startup.com\">네이버 D2SF</a>,\n",
       " <a class=\"link_partner\" data-clk=\"labs\" href=\"https://www.naverlabs.com\">네이버 랩스</a>]"
      ]
     },
     "execution_count": 48,
     "metadata": {},
     "output_type": "execute_result"
    }
   ],
   "source": [
    "naver_notice"
   ]
  },
  {
   "cell_type": "code",
   "execution_count": 49,
   "metadata": {},
   "outputs": [
    {
     "name": "stdout",
     "output_type": "stream",
     "text": [
      "크리에이터\n",
      "스몰비즈니스\n",
      "비즈니스 · 광고\n",
      "스토어 개설\n",
      "지역업체 등록\n",
      "엑스퍼트 등록\n",
      "네이버 개발자 센터\n",
      "오픈 API\n",
      "오픈소스\n",
      "네이버 D2\n",
      "네이버 D2SF\n",
      "네이버 랩스\n"
     ]
    }
   ],
   "source": [
    "for i in naver_notice:\n",
    "    print(i.text)"
   ]
  },
  {
   "cell_type": "markdown",
   "metadata": {},
   "source": [
    "### 네이버영화 랭킹 페이지 크롤링"
   ]
  },
  {
   "cell_type": "code",
   "execution_count": 53,
   "metadata": {},
   "outputs": [],
   "source": [
    "import numpy as np\n",
    "import pandas as pd"
   ]
  },
  {
   "cell_type": "code",
   "execution_count": 54,
   "metadata": {},
   "outputs": [
    {
     "data": {
      "text/plain": [
       "<Response [200]>"
      ]
     },
     "execution_count": 54,
     "metadata": {},
     "output_type": "execute_result"
    }
   ],
   "source": [
    "url = \"https://movie.naver.com/movie/sdb/rank/rmovie.nhn?sel=cur&date=20201124\"\n",
    "movie= req.get(url)\n",
    "movie"
   ]
  },
  {
   "cell_type": "code",
   "execution_count": 56,
   "metadata": {},
   "outputs": [],
   "source": [
    "soup=bs(movie.text, 'lxml')"
   ]
  },
  {
   "cell_type": "code",
   "execution_count": 60,
   "metadata": {},
   "outputs": [],
   "source": [
    "title= soup.select('.tit5 > a')"
   ]
  },
  {
   "cell_type": "code",
   "execution_count": 62,
   "metadata": {},
   "outputs": [],
   "source": [
    "rate= soup.select('.point')"
   ]
  },
  {
   "cell_type": "code",
   "execution_count": 139,
   "metadata": {},
   "outputs": [],
   "source": [
    "##rank=soup.select('.ac:first-child>img')\n",
    "rank= soup.select('.ac > img:not(.arrow)')"
   ]
  },
  {
   "cell_type": "code",
   "execution_count": 146,
   "metadata": {},
   "outputs": [
    {
     "name": "stdout",
     "output_type": "stream",
     "text": [
      "01\n",
      "02\n",
      "03\n",
      "04\n",
      "05\n",
      "06\n",
      "07\n",
      "08\n",
      "09\n",
      "010\n",
      "11\n",
      "12\n",
      "13\n",
      "14\n",
      "15\n",
      "16\n",
      "17\n",
      "18\n",
      "19\n",
      "20\n",
      "21\n",
      "22\n",
      "23\n",
      "24\n",
      "25\n",
      "26\n",
      "27\n",
      "28\n",
      "29\n",
      "30\n",
      "31\n",
      "32\n",
      "33\n",
      "34\n",
      "35\n",
      "36\n",
      "37\n",
      "38\n",
      "39\n",
      "40\n",
      "41\n",
      "42\n",
      "43\n",
      "44\n",
      "45\n",
      "46\n",
      "47\n",
      "48\n",
      "49\n",
      "50\n"
     ]
    }
   ],
   "source": [
    "for i in range(0,len(rank)):\n",
    "    print(rank[i]['alt'])"
   ]
  },
  {
   "cell_type": "code",
   "execution_count": 147,
   "metadata": {},
   "outputs": [
    {
     "data": {
      "text/plain": [
       "50"
      ]
     },
     "execution_count": 147,
     "metadata": {},
     "output_type": "execute_result"
    }
   ],
   "source": [
    "len(rank)"
   ]
  },
  {
   "cell_type": "code",
   "execution_count": 148,
   "metadata": {},
   "outputs": [
    {
     "data": {
      "text/plain": [
       "50"
      ]
     },
     "execution_count": 148,
     "metadata": {},
     "output_type": "execute_result"
    }
   ],
   "source": [
    "len(title)"
   ]
  },
  {
   "cell_type": "code",
   "execution_count": 149,
   "metadata": {},
   "outputs": [
    {
     "data": {
      "text/plain": [
       "50"
      ]
     },
     "execution_count": 149,
     "metadata": {},
     "output_type": "execute_result"
    }
   ],
   "source": [
    "len(rate)"
   ]
  },
  {
   "cell_type": "code",
   "execution_count": 151,
   "metadata": {},
   "outputs": [],
   "source": [
    "rank_list=[]\n",
    "title_list=[]\n",
    "rate_list=[]\n",
    "\n",
    "for i in range(len(rate)):\n",
    "    rank_list.append(rank[i]['alt'])\n",
    "    title_list.append(title[i].text)\n",
    "    rate_list.append(rate[i].text)"
   ]
  },
  {
   "cell_type": "code",
   "execution_count": 156,
   "metadata": {},
   "outputs": [],
   "source": [
    "movie_dic={'rank':rank_list, 'title':title_list, 'rate':rate_list}"
   ]
  },
  {
   "cell_type": "code",
   "execution_count": 157,
   "metadata": {},
   "outputs": [],
   "source": [
    "movie=pd.DataFrame(movie_dic)"
   ]
  },
  {
   "cell_type": "code",
   "execution_count": 160,
   "metadata": {},
   "outputs": [],
   "source": [
    "movie.set_index('rank',inplace=True)"
   ]
  },
  {
   "cell_type": "code",
   "execution_count": 161,
   "metadata": {},
   "outputs": [
    {
     "data": {
      "text/html": [
       "<div>\n",
       "<style scoped>\n",
       "    .dataframe tbody tr th:only-of-type {\n",
       "        vertical-align: middle;\n",
       "    }\n",
       "\n",
       "    .dataframe tbody tr th {\n",
       "        vertical-align: top;\n",
       "    }\n",
       "\n",
       "    .dataframe thead th {\n",
       "        text-align: right;\n",
       "    }\n",
       "</style>\n",
       "<table border=\"1\" class=\"dataframe\">\n",
       "  <thead>\n",
       "    <tr style=\"text-align: right;\">\n",
       "      <th></th>\n",
       "      <th>title</th>\n",
       "      <th>rate</th>\n",
       "    </tr>\n",
       "    <tr>\n",
       "      <th>rank</th>\n",
       "      <th></th>\n",
       "      <th></th>\n",
       "    </tr>\n",
       "  </thead>\n",
       "  <tbody>\n",
       "    <tr>\n",
       "      <th>01</th>\n",
       "      <td>극장판 바이올렛 에버가든</td>\n",
       "      <td>9.53</td>\n",
       "    </tr>\n",
       "    <tr>\n",
       "      <th>02</th>\n",
       "      <td>포드 V 페라리</td>\n",
       "      <td>9.49</td>\n",
       "    </tr>\n",
       "    <tr>\n",
       "      <th>03</th>\n",
       "      <td>주전장</td>\n",
       "      <td>9.48</td>\n",
       "    </tr>\n",
       "    <tr>\n",
       "      <th>04</th>\n",
       "      <td>부활: 그 증거</td>\n",
       "      <td>9.46</td>\n",
       "    </tr>\n",
       "    <tr>\n",
       "      <th>05</th>\n",
       "      <td>소년시절의 너</td>\n",
       "      <td>9.40</td>\n",
       "    </tr>\n",
       "    <tr>\n",
       "      <th>06</th>\n",
       "      <td>미안해요, 리키</td>\n",
       "      <td>9.32</td>\n",
       "    </tr>\n",
       "    <tr>\n",
       "      <th>07</th>\n",
       "      <td>패왕별희 디 오리지널</td>\n",
       "      <td>9.32</td>\n",
       "    </tr>\n",
       "    <tr>\n",
       "      <th>08</th>\n",
       "      <td>허스토리</td>\n",
       "      <td>9.29</td>\n",
       "    </tr>\n",
       "    <tr>\n",
       "      <th>09</th>\n",
       "      <td>인생</td>\n",
       "      <td>9.28</td>\n",
       "    </tr>\n",
       "    <tr>\n",
       "      <th>010</th>\n",
       "      <td>피아니스트의 전설</td>\n",
       "      <td>9.25</td>\n",
       "    </tr>\n",
       "    <tr>\n",
       "      <th>11</th>\n",
       "      <td>페이트 스테이 나이트 헤븐즈필 III.스프링 송</td>\n",
       "      <td>9.20</td>\n",
       "    </tr>\n",
       "    <tr>\n",
       "      <th>12</th>\n",
       "      <td>톰보이</td>\n",
       "      <td>9.20</td>\n",
       "    </tr>\n",
       "    <tr>\n",
       "      <th>13</th>\n",
       "      <td>파수꾼</td>\n",
       "      <td>9.18</td>\n",
       "    </tr>\n",
       "    <tr>\n",
       "      <th>14</th>\n",
       "      <td>조조 래빗</td>\n",
       "      <td>9.16</td>\n",
       "    </tr>\n",
       "    <tr>\n",
       "      <th>15</th>\n",
       "      <td>사랑의 블랙홀</td>\n",
       "      <td>9.15</td>\n",
       "    </tr>\n",
       "    <tr>\n",
       "      <th>16</th>\n",
       "      <td>칠곡 가시나들</td>\n",
       "      <td>9.14</td>\n",
       "    </tr>\n",
       "    <tr>\n",
       "      <th>17</th>\n",
       "      <td>나이브스 아웃</td>\n",
       "      <td>9.11</td>\n",
       "    </tr>\n",
       "    <tr>\n",
       "      <th>18</th>\n",
       "      <td>타오르는 여인의 초상</td>\n",
       "      <td>9.06</td>\n",
       "    </tr>\n",
       "    <tr>\n",
       "      <th>19</th>\n",
       "      <td>당신이 잠든 사이에</td>\n",
       "      <td>9.06</td>\n",
       "    </tr>\n",
       "    <tr>\n",
       "      <th>20</th>\n",
       "      <td>노트북</td>\n",
       "      <td>9.05</td>\n",
       "    </tr>\n",
       "    <tr>\n",
       "      <th>21</th>\n",
       "      <td>타샤 튜더</td>\n",
       "      <td>9.04</td>\n",
       "    </tr>\n",
       "    <tr>\n",
       "      <th>22</th>\n",
       "      <td>박하사탕</td>\n",
       "      <td>9.03</td>\n",
       "    </tr>\n",
       "    <tr>\n",
       "      <th>23</th>\n",
       "      <td>비긴 어게인</td>\n",
       "      <td>9.03</td>\n",
       "    </tr>\n",
       "    <tr>\n",
       "      <th>24</th>\n",
       "      <td>세상을 바꾼 변호인</td>\n",
       "      <td>9.02</td>\n",
       "    </tr>\n",
       "    <tr>\n",
       "      <th>25</th>\n",
       "      <td>싱 스트리트</td>\n",
       "      <td>9.02</td>\n",
       "    </tr>\n",
       "    <tr>\n",
       "      <th>26</th>\n",
       "      <td>온워드: 단 하루의 기적</td>\n",
       "      <td>9.00</td>\n",
       "    </tr>\n",
       "    <tr>\n",
       "      <th>27</th>\n",
       "      <td>남매의 여름밤</td>\n",
       "      <td>8.99</td>\n",
       "    </tr>\n",
       "    <tr>\n",
       "      <th>28</th>\n",
       "      <td>윤희에게</td>\n",
       "      <td>8.98</td>\n",
       "    </tr>\n",
       "    <tr>\n",
       "      <th>29</th>\n",
       "      <td>스포트라이트</td>\n",
       "      <td>8.93</td>\n",
       "    </tr>\n",
       "    <tr>\n",
       "      <th>30</th>\n",
       "      <td>해리가 샐리를 만났을 때</td>\n",
       "      <td>8.90</td>\n",
       "    </tr>\n",
       "    <tr>\n",
       "      <th>31</th>\n",
       "      <td>담보</td>\n",
       "      <td>8.89</td>\n",
       "    </tr>\n",
       "    <tr>\n",
       "      <th>32</th>\n",
       "      <td>바르다가 사랑한 얼굴들</td>\n",
       "      <td>8.89</td>\n",
       "    </tr>\n",
       "    <tr>\n",
       "      <th>33</th>\n",
       "      <td>1917</td>\n",
       "      <td>8.86</td>\n",
       "    </tr>\n",
       "    <tr>\n",
       "      <th>34</th>\n",
       "      <td>미스터트롯: 더 무비</td>\n",
       "      <td>8.85</td>\n",
       "    </tr>\n",
       "    <tr>\n",
       "      <th>35</th>\n",
       "      <td>작은 아씨들</td>\n",
       "      <td>8.84</td>\n",
       "    </tr>\n",
       "    <tr>\n",
       "      <th>36</th>\n",
       "      <td>다음 침공은 어디?</td>\n",
       "      <td>8.82</td>\n",
       "    </tr>\n",
       "    <tr>\n",
       "      <th>37</th>\n",
       "      <td>미드웨이</td>\n",
       "      <td>8.80</td>\n",
       "    </tr>\n",
       "    <tr>\n",
       "      <th>38</th>\n",
       "      <td>위플래쉬</td>\n",
       "      <td>8.79</td>\n",
       "    </tr>\n",
       "    <tr>\n",
       "      <th>39</th>\n",
       "      <td>너의 이름은.</td>\n",
       "      <td>8.78</td>\n",
       "    </tr>\n",
       "    <tr>\n",
       "      <th>40</th>\n",
       "      <td>소공녀</td>\n",
       "      <td>8.77</td>\n",
       "    </tr>\n",
       "    <tr>\n",
       "      <th>41</th>\n",
       "      <td>가장 따뜻한 색, 블루</td>\n",
       "      <td>8.77</td>\n",
       "    </tr>\n",
       "    <tr>\n",
       "      <th>42</th>\n",
       "      <td>위로공단</td>\n",
       "      <td>8.76</td>\n",
       "    </tr>\n",
       "    <tr>\n",
       "      <th>43</th>\n",
       "      <td>우리집</td>\n",
       "      <td>8.72</td>\n",
       "    </tr>\n",
       "    <tr>\n",
       "      <th>44</th>\n",
       "      <td>귀여운 여인</td>\n",
       "      <td>8.70</td>\n",
       "    </tr>\n",
       "    <tr>\n",
       "      <th>45</th>\n",
       "      <td>귀향</td>\n",
       "      <td>8.69</td>\n",
       "    </tr>\n",
       "    <tr>\n",
       "      <th>46</th>\n",
       "      <td>마미</td>\n",
       "      <td>8.68</td>\n",
       "    </tr>\n",
       "    <tr>\n",
       "      <th>47</th>\n",
       "      <td>잠수종과 나비</td>\n",
       "      <td>8.65</td>\n",
       "    </tr>\n",
       "    <tr>\n",
       "      <th>48</th>\n",
       "      <td>69세</td>\n",
       "      <td>8.63</td>\n",
       "    </tr>\n",
       "    <tr>\n",
       "      <th>49</th>\n",
       "      <td>퐁네프의 연인들</td>\n",
       "      <td>8.62</td>\n",
       "    </tr>\n",
       "    <tr>\n",
       "      <th>50</th>\n",
       "      <td>라라랜드</td>\n",
       "      <td>8.61</td>\n",
       "    </tr>\n",
       "  </tbody>\n",
       "</table>\n",
       "</div>"
      ],
      "text/plain": [
       "                           title  rate\n",
       "rank                                  \n",
       "01                 극장판 바이올렛 에버가든  9.53\n",
       "02                      포드 V 페라리  9.49\n",
       "03                           주전장  9.48\n",
       "04                      부활: 그 증거  9.46\n",
       "05                       소년시절의 너  9.40\n",
       "06                      미안해요, 리키  9.32\n",
       "07                   패왕별희 디 오리지널  9.32\n",
       "08                          허스토리  9.29\n",
       "09                            인생  9.28\n",
       "010                    피아니스트의 전설  9.25\n",
       "11    페이트 스테이 나이트 헤븐즈필 III.스프링 송  9.20\n",
       "12                           톰보이  9.20\n",
       "13                           파수꾼  9.18\n",
       "14                         조조 래빗  9.16\n",
       "15                       사랑의 블랙홀  9.15\n",
       "16                       칠곡 가시나들  9.14\n",
       "17                       나이브스 아웃  9.11\n",
       "18                   타오르는 여인의 초상  9.06\n",
       "19                    당신이 잠든 사이에  9.06\n",
       "20                           노트북  9.05\n",
       "21                         타샤 튜더  9.04\n",
       "22                          박하사탕  9.03\n",
       "23                        비긴 어게인  9.03\n",
       "24                    세상을 바꾼 변호인  9.02\n",
       "25                        싱 스트리트  9.02\n",
       "26                 온워드: 단 하루의 기적  9.00\n",
       "27                       남매의 여름밤  8.99\n",
       "28                          윤희에게  8.98\n",
       "29                        스포트라이트  8.93\n",
       "30                 해리가 샐리를 만났을 때  8.90\n",
       "31                            담보  8.89\n",
       "32                  바르다가 사랑한 얼굴들  8.89\n",
       "33                          1917  8.86\n",
       "34                   미스터트롯: 더 무비  8.85\n",
       "35                        작은 아씨들  8.84\n",
       "36                    다음 침공은 어디?  8.82\n",
       "37                          미드웨이  8.80\n",
       "38                          위플래쉬  8.79\n",
       "39                       너의 이름은.  8.78\n",
       "40                           소공녀  8.77\n",
       "41                  가장 따뜻한 색, 블루  8.77\n",
       "42                          위로공단  8.76\n",
       "43                           우리집  8.72\n",
       "44                        귀여운 여인  8.70\n",
       "45                            귀향  8.69\n",
       "46                            마미  8.68\n",
       "47                       잠수종과 나비  8.65\n",
       "48                           69세  8.63\n",
       "49                      퐁네프의 연인들  8.62\n",
       "50                          라라랜드  8.61"
      ]
     },
     "execution_count": 161,
     "metadata": {},
     "output_type": "execute_result"
    }
   ],
   "source": [
    "movie"
   ]
  },
  {
   "cell_type": "markdown",
   "metadata": {},
   "source": [
    "### CSV파일로 저장하기"
   ]
  },
  {
   "cell_type": "code",
   "execution_count": 164,
   "metadata": {},
   "outputs": [],
   "source": [
    "# (파일명, 인코딩방식)\n",
    "movie.to_csv('movie_rank.csv', encoding = 'euc-kr')"
   ]
  },
  {
   "cell_type": "markdown",
   "metadata": {},
   "source": [
    "### 한달동안의 영화 평점 수집(20201025-20201124)"
   ]
  },
  {
   "cell_type": "code",
   "execution_count": 168,
   "metadata": {},
   "outputs": [],
   "source": [
    "from tqdm import tqdm_notebook"
   ]
  },
  {
   "cell_type": "code",
   "execution_count": 174,
   "metadata": {},
   "outputs": [
    {
     "name": "stderr",
     "output_type": "stream",
     "text": [
      "<ipython-input-174-5c5ac8666197>:8: TqdmDeprecationWarning: This function will be removed in tqdm==5.0.0\n",
      "Please use `tqdm.notebook.tqdm` instead of `tqdm.tqdm_notebook`\n",
      "  for day in tqdm_notebook(range(20201025, 20201125)):\n"
     ]
    },
    {
     "data": {
      "application/vnd.jupyter.widget-view+json": {
       "model_id": "99b4a9d5d47a4e7489afa57f9421d6fe",
       "version_major": 2,
       "version_minor": 0
      },
      "text/plain": [
       "HBox(children=(FloatProgress(value=0.0), HTML(value='')))"
      ]
     },
     "metadata": {},
     "output_type": "display_data"
    },
    {
     "name": "stdout",
     "output_type": "stream",
     "text": [
      "\n"
     ]
    }
   ],
   "source": [
    "# 쿼리스트링 방식\n",
    "# tqdm모듈 : 반복문의 진행정도를 알 수 있음\n",
    "\n",
    "rank_list=[]\n",
    "title_list=[]\n",
    "rate_list=[]\n",
    "    \n",
    "for day in tqdm_notebook(range(20201025, 20201125)):\n",
    "    url = \"https://movie.naver.com/movie/sdb/rank/rmovie.nhn?sel=cur&tg=0&date=\"+str(day)\n",
    "    res= req.get(url)\n",
    "    soup = bs(res.text, 'lxml')\n",
    "\n",
    "    title = soup.select(\".tit5 > a\")\n",
    "    rate = soup.select(\".point\")\n",
    "\n",
    "    for i in range(len(title)):\n",
    "        rank_list.append(i+1)\n",
    "        title_list.append(title[i].text)\n",
    "        rate_list.append(rate[i].text)"
   ]
  },
  {
   "cell_type": "code",
   "execution_count": 176,
   "metadata": {},
   "outputs": [
    {
     "data": {
      "text/plain": [
       "1550"
      ]
     },
     "execution_count": 176,
     "metadata": {},
     "output_type": "execute_result"
    }
   ],
   "source": [
    "len(rank_list)"
   ]
  },
  {
   "cell_type": "code",
   "execution_count": 177,
   "metadata": {},
   "outputs": [
    {
     "data": {
      "text/plain": [
       "1550"
      ]
     },
     "execution_count": 177,
     "metadata": {},
     "output_type": "execute_result"
    }
   ],
   "source": [
    "len(title_list)"
   ]
  },
  {
   "cell_type": "code",
   "execution_count": 178,
   "metadata": {},
   "outputs": [
    {
     "data": {
      "text/plain": [
       "1550"
      ]
     },
     "execution_count": 178,
     "metadata": {},
     "output_type": "execute_result"
    }
   ],
   "source": [
    "len(rate_list)"
   ]
  },
  {
   "cell_type": "code",
   "execution_count": 179,
   "metadata": {},
   "outputs": [],
   "source": [
    "movie_dic={'rank':rank_list, 'title':title_list, 'rate':rate_list}"
   ]
  },
  {
   "cell_type": "code",
   "execution_count": 180,
   "metadata": {},
   "outputs": [],
   "source": [
    "movie = pd.DataFrame(movie_dic)"
   ]
  },
  {
   "cell_type": "code",
   "execution_count": 181,
   "metadata": {},
   "outputs": [
    {
     "data": {
      "text/html": [
       "<div>\n",
       "<style scoped>\n",
       "    .dataframe tbody tr th:only-of-type {\n",
       "        vertical-align: middle;\n",
       "    }\n",
       "\n",
       "    .dataframe tbody tr th {\n",
       "        vertical-align: top;\n",
       "    }\n",
       "\n",
       "    .dataframe thead th {\n",
       "        text-align: right;\n",
       "    }\n",
       "</style>\n",
       "<table border=\"1\" class=\"dataframe\">\n",
       "  <thead>\n",
       "    <tr style=\"text-align: right;\">\n",
       "      <th></th>\n",
       "      <th>rank</th>\n",
       "      <th>title</th>\n",
       "      <th>rate</th>\n",
       "    </tr>\n",
       "  </thead>\n",
       "  <tbody>\n",
       "    <tr>\n",
       "      <th>0</th>\n",
       "      <td>1</td>\n",
       "      <td>소년시절의 너</td>\n",
       "      <td>9.39</td>\n",
       "    </tr>\n",
       "    <tr>\n",
       "      <th>1</th>\n",
       "      <td>2</td>\n",
       "      <td>브레이크 더 사일런스: 더 무비</td>\n",
       "      <td>9.35</td>\n",
       "    </tr>\n",
       "    <tr>\n",
       "      <th>2</th>\n",
       "      <td>3</td>\n",
       "      <td>그대, 고맙소 : 김호중 생애 첫 팬미팅 무비</td>\n",
       "      <td>9.31</td>\n",
       "    </tr>\n",
       "    <tr>\n",
       "      <th>3</th>\n",
       "      <td>4</td>\n",
       "      <td>언더독</td>\n",
       "      <td>9.30</td>\n",
       "    </tr>\n",
       "    <tr>\n",
       "      <th>4</th>\n",
       "      <td>5</td>\n",
       "      <td>스파이더맨: 뉴 유니버스</td>\n",
       "      <td>9.20</td>\n",
       "    </tr>\n",
       "    <tr>\n",
       "      <th>...</th>\n",
       "      <td>...</td>\n",
       "      <td>...</td>\n",
       "      <td>...</td>\n",
       "    </tr>\n",
       "    <tr>\n",
       "      <th>1545</th>\n",
       "      <td>46</td>\n",
       "      <td>마미</td>\n",
       "      <td>8.68</td>\n",
       "    </tr>\n",
       "    <tr>\n",
       "      <th>1546</th>\n",
       "      <td>47</td>\n",
       "      <td>잠수종과 나비</td>\n",
       "      <td>8.65</td>\n",
       "    </tr>\n",
       "    <tr>\n",
       "      <th>1547</th>\n",
       "      <td>48</td>\n",
       "      <td>69세</td>\n",
       "      <td>8.63</td>\n",
       "    </tr>\n",
       "    <tr>\n",
       "      <th>1548</th>\n",
       "      <td>49</td>\n",
       "      <td>퐁네프의 연인들</td>\n",
       "      <td>8.62</td>\n",
       "    </tr>\n",
       "    <tr>\n",
       "      <th>1549</th>\n",
       "      <td>50</td>\n",
       "      <td>라라랜드</td>\n",
       "      <td>8.61</td>\n",
       "    </tr>\n",
       "  </tbody>\n",
       "</table>\n",
       "<p>1550 rows × 3 columns</p>\n",
       "</div>"
      ],
      "text/plain": [
       "      rank                      title  rate\n",
       "0        1                    소년시절의 너  9.39\n",
       "1        2          브레이크 더 사일런스: 더 무비  9.35\n",
       "2        3  그대, 고맙소 : 김호중 생애 첫 팬미팅 무비  9.31\n",
       "3        4                        언더독  9.30\n",
       "4        5              스파이더맨: 뉴 유니버스  9.20\n",
       "...    ...                        ...   ...\n",
       "1545    46                         마미  8.68\n",
       "1546    47                    잠수종과 나비  8.65\n",
       "1547    48                        69세  8.63\n",
       "1548    49                   퐁네프의 연인들  8.62\n",
       "1549    50                       라라랜드  8.61\n",
       "\n",
       "[1550 rows x 3 columns]"
      ]
     },
     "execution_count": 181,
     "metadata": {},
     "output_type": "execute_result"
    }
   ],
   "source": [
    "movie"
   ]
  },
  {
   "cell_type": "code",
   "execution_count": 182,
   "metadata": {},
   "outputs": [],
   "source": [
    "movie.to_csv(\"a.csv\", encoding=\"euc-kr\")"
   ]
  },
  {
   "cell_type": "code",
   "execution_count": 183,
   "metadata": {},
   "outputs": [
    {
     "data": {
      "text/plain": [
       "1550"
      ]
     },
     "execution_count": 183,
     "metadata": {},
     "output_type": "execute_result"
    }
   ],
   "source": [
    "len(rank_list)"
   ]
  },
  {
   "cell_type": "markdown",
   "metadata": {},
   "source": [
    "### 다음 사회,정치,경제 뉴스 가져오기"
   ]
  },
  {
   "cell_type": "code",
   "execution_count": 271,
   "metadata": {},
   "outputs": [
    {
     "data": {
      "text/plain": [
       "['society#1',\n",
       " \"'재판부 사찰' 파문 확산..법원vs검찰 일촉즉발\",\n",
       " '송미애 충북도의원 \"코로나 경영난 소상공인 지원센터 만들자\"',\n",
       " '확진 해양경찰관 다녀간 유흥업소 관련 감염 확산..누적 36명',\n",
       " '서울 코로나 누적확진 7375명, 대구 넘어섰다',\n",
       " '秋 발표 하루 만에 강제수사 착착.. 대검 컴퓨터 포렌식',\n",
       " \"이별통보 한 여친 휴가중 찾아가 잔혹살해한 병사 '징역 30년'\",\n",
       " \"강서구 에어로빅학원서 하루에만 44명 확진 '비상'\",\n",
       " '포항서 초등 여학생 의제 강간한 중학생 소년부 송치',\n",
       " '\"집값은 무슨, 버리고 가는 사람도 있어\".. 감천마을에서 생긴 일',\n",
       " '이재명-조광한 충돌에 이재명 손들어준 남양주 국회의원들',\n",
       " '인터넷방송서 후배 폭행 전 프로야구 선수 구속, 뒤늦게 알려져',\n",
       " '한국서 숨진 대만 학생, 부모 경악시킨 한 마디..\"음주운전이라\"',\n",
       " '현직 판사 \"대법원, 윤석열 총장 고발하라..판사는 바보인가\"',\n",
       " '현직 판사 \"대법원, 윤석열 총장 고발하라..판사는 바보인가\"',\n",
       " '검사들 집단행동 조짐..실명·직 걸고 \"추미애 폭거 고발한다\"',\n",
       " '한국서 숨진 대만 학생, 부모 경악시킨 한 마디..\"음주운전이라\"',\n",
       " \"이별통보 한 여친 휴가중 찾아가 잔혹살해한 병사 '징역 30년'\",\n",
       " 'politics#1',\n",
       " \"'재판부 사찰' 파문 확산..법원vs검찰 일촉즉발\",\n",
       " '송미애 충북도의원 \"코로나 경영난 소상공인 지원센터 만들자\"',\n",
       " '확진 해양경찰관 다녀간 유흥업소 관련 감염 확산..누적 36명',\n",
       " '서울 코로나 누적확진 7375명, 대구 넘어섰다',\n",
       " '秋 발표 하루 만에 강제수사 착착.. 대검 컴퓨터 포렌식',\n",
       " \"이별통보 한 여친 휴가중 찾아가 잔혹살해한 병사 '징역 30년'\",\n",
       " \"강서구 에어로빅학원서 하루에만 44명 확진 '비상'\",\n",
       " '포항서 초등 여학생 의제 강간한 중학생 소년부 송치',\n",
       " '\"집값은 무슨, 버리고 가는 사람도 있어\".. 감천마을에서 생긴 일',\n",
       " '검사들 집단행동 조짐..실명·직 걸고 \"추미애 폭거 고발한다\"',\n",
       " '인터넷방송서 후배 폭행 전 프로야구 선수 구속, 뒤늦게 알려져',\n",
       " '한국서 숨진 대만 학생, 부모 경악시킨 한 마디..\"음주운전이라\"',\n",
       " '현직 판사 \"대법원, 윤석열 총장 고발하라..판사는 바보인가\"',\n",
       " '현직 판사 \"대법원, 윤석열 총장 고발하라..판사는 바보인가\"',\n",
       " '검사들 집단행동 조짐..실명·직 걸고 \"추미애 폭거 고발한다\"',\n",
       " '한국서 숨진 대만 학생, 부모 경악시킨 한 마디..\"음주운전이라\"',\n",
       " \"이별통보 한 여친 휴가중 찾아가 잔혹살해한 병사 '징역 30년'\",\n",
       " 'economic#1',\n",
       " \"'재판부 사찰' 파문 확산..법원vs검찰 일촉즉발\",\n",
       " '송미애 충북도의원 \"코로나 경영난 소상공인 지원센터 만들자\"',\n",
       " '확진 해양경찰관 다녀간 유흥업소 관련 감염 확산..누적 36명',\n",
       " '서울 코로나 누적확진 7375명, 대구 넘어섰다',\n",
       " '秋 발표 하루 만에 강제수사 착착.. 대검 컴퓨터 포렌식',\n",
       " \"이별통보 한 여친 휴가중 찾아가 잔혹살해한 병사 '징역 30년'\",\n",
       " \"강서구 에어로빅학원서 하루에만 44명 확진 '비상'\",\n",
       " '포항서 초등 여학생 의제 강간한 중학생 소년부 송치',\n",
       " '\"집값은 무슨, 버리고 가는 사람도 있어\".. 감천마을에서 생긴 일',\n",
       " '검사들 집단행동 조짐..실명·직 걸고 \"추미애 폭거 고발한다\"',\n",
       " '인터넷방송서 후배 폭행 전 프로야구 선수 구속, 뒤늦게 알려져',\n",
       " '한국서 숨진 대만 학생, 부모 경악시킨 한 마디..\"음주운전이라\"',\n",
       " '현직 판사 \"대법원, 윤석열 총장 고발하라..판사는 바보인가\"',\n",
       " '현직 판사 \"대법원, 윤석열 총장 고발하라..판사는 바보인가\"',\n",
       " '검사들 집단행동 조짐..실명·직 걸고 \"추미애 폭거 고발한다\"',\n",
       " '한국서 숨진 대만 학생, 부모 경악시킨 한 마디..\"음주운전이라\"',\n",
       " \"이별통보 한 여친 휴가중 찾아가 잔혹살해한 병사 '징역 30년'\"]"
      ]
     },
     "execution_count": 271,
     "metadata": {},
     "output_type": "execute_result"
    }
   ],
   "source": [
    "list=['society#1','politics#1','economic#1']\n",
    "final_list=[]\n",
    "cnt=0\n",
    "\n",
    "for i in list:\n",
    "    url = 'https://news.daum.net/society#1'\n",
    "    res=req.get(url)\n",
    "    dn = bs(res.text, 'lxml')\n",
    "    dn_list= dn.select('.tit_thumb>a')\n",
    "    \n",
    "    final_list.append(list[cnt])\n",
    "    cnt += 1\n",
    "    \n",
    "    for i in dn_list:\n",
    "        for j in i:\n",
    "            final_list.append(j)\n",
    "    \n",
    "final_list"
   ]
  },
  {
   "cell_type": "code",
   "execution_count": 253,
   "metadata": {},
   "outputs": [
    {
     "data": {
      "text/plain": [
       "[[<a class=\"link_txt\" data-tiara-custom=\"contentUniqueKey=hamny-20201125173454796\" data-tiara-id=\"20201125173454796\" data-tiara-layer=\"article_main\" data-tiara-ordnum=\"1\" data-tiara-type=\"harmony\" href=\"https://news.v.daum.net/v/20201125173454796\">송미애 충북도의원 \"코로나 경영난 소상공인 지원센터 만들자\"</a>,\n",
       "  <a class=\"link_txt\" data-tiara-custom=\"contentUniqueKey=hamny-20201125172755524\" data-tiara-id=\"20201125172755524\" data-tiara-layer=\"article_main\" data-tiara-ordnum=\"1\" data-tiara-type=\"harmony\" href=\"https://news.v.daum.net/v/20201125172755524\">확진 해양경찰관 다녀간 유흥업소 관련 감염 확산..누적 36명</a>,\n",
       "  <a class=\"link_txt\" data-tiara-custom=\"contentUniqueKey=hamny-20201125172706508\" data-tiara-id=\"20201125172706508\" data-tiara-layer=\"article_main\" data-tiara-ordnum=\"1\" data-tiara-type=\"harmony\" href=\"https://news.v.daum.net/v/20201125172706508\">서울 코로나 누적확진 7375명, 대구 넘어섰다</a>,\n",
       "  <a class=\"link_txt\" data-tiara-custom=\"contentUniqueKey=hamny-20201125172650489\" data-tiara-id=\"20201125172650489\" data-tiara-layer=\"article_main\" data-tiara-ordnum=\"1\" data-tiara-type=\"harmony\" href=\"https://news.v.daum.net/v/20201125172650489\">秋 발표 하루 만에 강제수사 착착.. 대검 컴퓨터 포렌식</a>,\n",
       "  <a class=\"link_txt\" data-tiara-custom=\"contentUniqueKey=hamny-20201125172126336\" data-tiara-id=\"20201125172126336\" data-tiara-layer=\"article_main\" data-tiara-ordnum=\"1\" data-tiara-type=\"harmony\" href=\"https://news.v.daum.net/v/20201125172126336\">군공항 소음 2022년부터 피해보상 받는다..소송 없이 가능</a>,\n",
       "  <a class=\"link_txt\" data-tiara-custom=\"contentUniqueKey=hamny-20201125155204147\" data-tiara-id=\"20201125155204147\" data-tiara-layer=\"article\" data-tiara-ordnum=\"1\" data-tiara-type=\"harmony\" href=\"https://v.daum.net/v/20201125155204147\">이별통보 한 여친 휴가중 찾아가 잔혹살해한 병사 '징역 30년'</a>,\n",
       "  <a class=\"link_txt\" data-tiara-custom=\"contentUniqueKey=hamny-20201125162214329\" data-tiara-id=\"20201125162214329\" data-tiara-layer=\"article\" data-tiara-ordnum=\"2\" data-tiara-type=\"harmony\" href=\"https://v.daum.net/v/20201125162214329\">진주시, 여행 자제 무시 제주연수로 33명 확진 초래..동장 직위해제</a>,\n",
       "  <a class=\"link_txt\" data-tiara-custom=\"contentUniqueKey=hamny-20201125163555887\" data-tiara-id=\"20201125163555887\" data-tiara-layer=\"article\" data-tiara-ordnum=\"3\" data-tiara-type=\"harmony\" href=\"https://v.daum.net/v/20201125163555887\">포항서 초등 여학생 의제 강간한 중학생 소년부 송치</a>,\n",
       "  <a class=\"link_txt\" data-tiara-custom=\"contentUniqueKey=hamny-20201125164500162\" data-tiara-id=\"20201125164500162\" data-tiara-layer=\"article\" data-tiara-ordnum=\"4\" data-tiara-type=\"harmony\" href=\"https://v.daum.net/v/20201125164500162\">\"집값은 무슨, 버리고 가는 사람도 있어\".. 감천마을에서 생긴 일</a>,\n",
       "  <a class=\"link_txt\" data-tiara-custom=\"contentUniqueKey=hamny-20201125154757976\" data-tiara-id=\"20201125154757976\" data-tiara-layer=\"article\" data-tiara-ordnum=\"1\" data-tiara-type=\"harmony\" href=\"https://v.daum.net/v/20201125154757976\">이재명-조광한 충돌에 이재명 손들어준 남양주 국회의원들</a>,\n",
       "  <a class=\"link_txt\" data-tiara-custom=\"contentUniqueKey=hamny-20201125152120646\" data-tiara-id=\"20201125152120646\" data-tiara-layer=\"article\" data-tiara-ordnum=\"2\" data-tiara-type=\"harmony\" href=\"https://v.daum.net/v/20201125152120646\">인터넷방송서 후배 폭행 전 프로야구 선수 구속, 뒤늦게 알려져</a>,\n",
       "  <a class=\"link_txt\" data-tiara-custom=\"contentUniqueKey=hamny-20201125160204586\" data-tiara-id=\"20201125160204586\" data-tiara-layer=\"article\" data-tiara-ordnum=\"3\" data-tiara-type=\"harmony\" href=\"https://v.daum.net/v/20201125160204586\">한국서 숨진 대만 학생, 부모 경악시킨 한 마디..\"음주운전이라\"</a>,\n",
       "  <a class=\"link_txt\" data-tiara-custom=\"contentUniqueKey=hamny-20201125153105108\" data-tiara-id=\"20201125153105108\" data-tiara-layer=\"article\" data-tiara-ordnum=\"4\" data-tiara-type=\"harmony\" href=\"https://v.daum.net/v/20201125153105108\">현직 판사 \"대법원, 윤석열 총장 고발하라..판사는 바보인가\"</a>,\n",
       "  <a class=\"link_txt\" data-tiara-custom=\"contentUniqueKey=hamny-20201125153105108\" data-tiara-id=\"20201125153105108\" data-tiara-layer=\"article\" data-tiara-ordnum=\"1\" data-tiara-type=\"harmony\" href=\"https://v.daum.net/v/20201125153105108\">현직 판사 \"대법원, 윤석열 총장 고발하라..판사는 바보인가\"</a>,\n",
       "  <a class=\"link_txt\" data-tiara-custom=\"contentUniqueKey=hamny-20201125165027319\" data-tiara-id=\"20201125165027319\" data-tiara-layer=\"article\" data-tiara-ordnum=\"2\" data-tiara-type=\"harmony\" href=\"https://v.daum.net/v/20201125165027319\">검사들 집단행동 조짐..실명·직 걸고 \"추미애 폭거 고발한다\"</a>,\n",
       "  <a class=\"link_txt\" data-tiara-custom=\"contentUniqueKey=hamny-20201125160204586\" data-tiara-id=\"20201125160204586\" data-tiara-layer=\"article\" data-tiara-ordnum=\"3\" data-tiara-type=\"harmony\" href=\"https://v.daum.net/v/20201125160204586\">한국서 숨진 대만 학생, 부모 경악시킨 한 마디..\"음주운전이라\"</a>,\n",
       "  <a class=\"link_txt\" data-tiara-custom=\"contentUniqueKey=hamny-20201125155204147\" data-tiara-id=\"20201125155204147\" data-tiara-layer=\"article\" data-tiara-ordnum=\"4\" data-tiara-type=\"harmony\" href=\"https://v.daum.net/v/20201125155204147\">이별통보 한 여친 휴가중 찾아가 잔혹살해한 병사 '징역 30년'</a>],\n",
       " [<a class=\"link_txt\" data-tiara-custom=\"contentUniqueKey=hamny-20201125173454796\" data-tiara-id=\"20201125173454796\" data-tiara-layer=\"article_main\" data-tiara-ordnum=\"1\" data-tiara-type=\"harmony\" href=\"https://news.v.daum.net/v/20201125173454796\">송미애 충북도의원 \"코로나 경영난 소상공인 지원센터 만들자\"</a>,\n",
       "  <a class=\"link_txt\" data-tiara-custom=\"contentUniqueKey=hamny-20201125172755524\" data-tiara-id=\"20201125172755524\" data-tiara-layer=\"article_main\" data-tiara-ordnum=\"1\" data-tiara-type=\"harmony\" href=\"https://news.v.daum.net/v/20201125172755524\">확진 해양경찰관 다녀간 유흥업소 관련 감염 확산..누적 36명</a>,\n",
       "  <a class=\"link_txt\" data-tiara-custom=\"contentUniqueKey=hamny-20201125172706508\" data-tiara-id=\"20201125172706508\" data-tiara-layer=\"article_main\" data-tiara-ordnum=\"1\" data-tiara-type=\"harmony\" href=\"https://news.v.daum.net/v/20201125172706508\">서울 코로나 누적확진 7375명, 대구 넘어섰다</a>,\n",
       "  <a class=\"link_txt\" data-tiara-custom=\"contentUniqueKey=hamny-20201125172650489\" data-tiara-id=\"20201125172650489\" data-tiara-layer=\"article_main\" data-tiara-ordnum=\"1\" data-tiara-type=\"harmony\" href=\"https://news.v.daum.net/v/20201125172650489\">秋 발표 하루 만에 강제수사 착착.. 대검 컴퓨터 포렌식</a>,\n",
       "  <a class=\"link_txt\" data-tiara-custom=\"contentUniqueKey=hamny-20201125172126336\" data-tiara-id=\"20201125172126336\" data-tiara-layer=\"article_main\" data-tiara-ordnum=\"1\" data-tiara-type=\"harmony\" href=\"https://news.v.daum.net/v/20201125172126336\">군공항 소음 2022년부터 피해보상 받는다..소송 없이 가능</a>,\n",
       "  <a class=\"link_txt\" data-tiara-custom=\"contentUniqueKey=hamny-20201125155204147\" data-tiara-id=\"20201125155204147\" data-tiara-layer=\"article\" data-tiara-ordnum=\"1\" data-tiara-type=\"harmony\" href=\"https://v.daum.net/v/20201125155204147\">이별통보 한 여친 휴가중 찾아가 잔혹살해한 병사 '징역 30년'</a>,\n",
       "  <a class=\"link_txt\" data-tiara-custom=\"contentUniqueKey=hamny-20201125162214329\" data-tiara-id=\"20201125162214329\" data-tiara-layer=\"article\" data-tiara-ordnum=\"2\" data-tiara-type=\"harmony\" href=\"https://v.daum.net/v/20201125162214329\">진주시, 여행 자제 무시 제주연수로 33명 확진 초래..동장 직위해제</a>,\n",
       "  <a class=\"link_txt\" data-tiara-custom=\"contentUniqueKey=hamny-20201125163555887\" data-tiara-id=\"20201125163555887\" data-tiara-layer=\"article\" data-tiara-ordnum=\"3\" data-tiara-type=\"harmony\" href=\"https://v.daum.net/v/20201125163555887\">포항서 초등 여학생 의제 강간한 중학생 소년부 송치</a>,\n",
       "  <a class=\"link_txt\" data-tiara-custom=\"contentUniqueKey=hamny-20201125164500162\" data-tiara-id=\"20201125164500162\" data-tiara-layer=\"article\" data-tiara-ordnum=\"4\" data-tiara-type=\"harmony\" href=\"https://v.daum.net/v/20201125164500162\">\"집값은 무슨, 버리고 가는 사람도 있어\".. 감천마을에서 생긴 일</a>,\n",
       "  <a class=\"link_txt\" data-tiara-custom=\"contentUniqueKey=hamny-20201125154757976\" data-tiara-id=\"20201125154757976\" data-tiara-layer=\"article\" data-tiara-ordnum=\"1\" data-tiara-type=\"harmony\" href=\"https://v.daum.net/v/20201125154757976\">이재명-조광한 충돌에 이재명 손들어준 남양주 국회의원들</a>,\n",
       "  <a class=\"link_txt\" data-tiara-custom=\"contentUniqueKey=hamny-20201125152120646\" data-tiara-id=\"20201125152120646\" data-tiara-layer=\"article\" data-tiara-ordnum=\"2\" data-tiara-type=\"harmony\" href=\"https://v.daum.net/v/20201125152120646\">인터넷방송서 후배 폭행 전 프로야구 선수 구속, 뒤늦게 알려져</a>,\n",
       "  <a class=\"link_txt\" data-tiara-custom=\"contentUniqueKey=hamny-20201125160204586\" data-tiara-id=\"20201125160204586\" data-tiara-layer=\"article\" data-tiara-ordnum=\"3\" data-tiara-type=\"harmony\" href=\"https://v.daum.net/v/20201125160204586\">한국서 숨진 대만 학생, 부모 경악시킨 한 마디..\"음주운전이라\"</a>,\n",
       "  <a class=\"link_txt\" data-tiara-custom=\"contentUniqueKey=hamny-20201125153105108\" data-tiara-id=\"20201125153105108\" data-tiara-layer=\"article\" data-tiara-ordnum=\"4\" data-tiara-type=\"harmony\" href=\"https://v.daum.net/v/20201125153105108\">현직 판사 \"대법원, 윤석열 총장 고발하라..판사는 바보인가\"</a>,\n",
       "  <a class=\"link_txt\" data-tiara-custom=\"contentUniqueKey=hamny-20201125153105108\" data-tiara-id=\"20201125153105108\" data-tiara-layer=\"article\" data-tiara-ordnum=\"1\" data-tiara-type=\"harmony\" href=\"https://v.daum.net/v/20201125153105108\">현직 판사 \"대법원, 윤석열 총장 고발하라..판사는 바보인가\"</a>,\n",
       "  <a class=\"link_txt\" data-tiara-custom=\"contentUniqueKey=hamny-20201125165027319\" data-tiara-id=\"20201125165027319\" data-tiara-layer=\"article\" data-tiara-ordnum=\"2\" data-tiara-type=\"harmony\" href=\"https://v.daum.net/v/20201125165027319\">검사들 집단행동 조짐..실명·직 걸고 \"추미애 폭거 고발한다\"</a>,\n",
       "  <a class=\"link_txt\" data-tiara-custom=\"contentUniqueKey=hamny-20201125160204586\" data-tiara-id=\"20201125160204586\" data-tiara-layer=\"article\" data-tiara-ordnum=\"3\" data-tiara-type=\"harmony\" href=\"https://v.daum.net/v/20201125160204586\">한국서 숨진 대만 학생, 부모 경악시킨 한 마디..\"음주운전이라\"</a>,\n",
       "  <a class=\"link_txt\" data-tiara-custom=\"contentUniqueKey=hamny-20201125155204147\" data-tiara-id=\"20201125155204147\" data-tiara-layer=\"article\" data-tiara-ordnum=\"4\" data-tiara-type=\"harmony\" href=\"https://v.daum.net/v/20201125155204147\">이별통보 한 여친 휴가중 찾아가 잔혹살해한 병사 '징역 30년'</a>],\n",
       " [<a class=\"link_txt\" data-tiara-custom=\"contentUniqueKey=hamny-20201125173454796\" data-tiara-id=\"20201125173454796\" data-tiara-layer=\"article_main\" data-tiara-ordnum=\"1\" data-tiara-type=\"harmony\" href=\"https://news.v.daum.net/v/20201125173454796\">송미애 충북도의원 \"코로나 경영난 소상공인 지원센터 만들자\"</a>,\n",
       "  <a class=\"link_txt\" data-tiara-custom=\"contentUniqueKey=hamny-20201125172755524\" data-tiara-id=\"20201125172755524\" data-tiara-layer=\"article_main\" data-tiara-ordnum=\"1\" data-tiara-type=\"harmony\" href=\"https://news.v.daum.net/v/20201125172755524\">확진 해양경찰관 다녀간 유흥업소 관련 감염 확산..누적 36명</a>,\n",
       "  <a class=\"link_txt\" data-tiara-custom=\"contentUniqueKey=hamny-20201125172706508\" data-tiara-id=\"20201125172706508\" data-tiara-layer=\"article_main\" data-tiara-ordnum=\"1\" data-tiara-type=\"harmony\" href=\"https://news.v.daum.net/v/20201125172706508\">서울 코로나 누적확진 7375명, 대구 넘어섰다</a>,\n",
       "  <a class=\"link_txt\" data-tiara-custom=\"contentUniqueKey=hamny-20201125172650489\" data-tiara-id=\"20201125172650489\" data-tiara-layer=\"article_main\" data-tiara-ordnum=\"1\" data-tiara-type=\"harmony\" href=\"https://news.v.daum.net/v/20201125172650489\">秋 발표 하루 만에 강제수사 착착.. 대검 컴퓨터 포렌식</a>,\n",
       "  <a class=\"link_txt\" data-tiara-custom=\"contentUniqueKey=hamny-20201125172126336\" data-tiara-id=\"20201125172126336\" data-tiara-layer=\"article_main\" data-tiara-ordnum=\"1\" data-tiara-type=\"harmony\" href=\"https://news.v.daum.net/v/20201125172126336\">군공항 소음 2022년부터 피해보상 받는다..소송 없이 가능</a>,\n",
       "  <a class=\"link_txt\" data-tiara-custom=\"contentUniqueKey=hamny-20201125155204147\" data-tiara-id=\"20201125155204147\" data-tiara-layer=\"article\" data-tiara-ordnum=\"1\" data-tiara-type=\"harmony\" href=\"https://v.daum.net/v/20201125155204147\">이별통보 한 여친 휴가중 찾아가 잔혹살해한 병사 '징역 30년'</a>,\n",
       "  <a class=\"link_txt\" data-tiara-custom=\"contentUniqueKey=hamny-20201125162214329\" data-tiara-id=\"20201125162214329\" data-tiara-layer=\"article\" data-tiara-ordnum=\"2\" data-tiara-type=\"harmony\" href=\"https://v.daum.net/v/20201125162214329\">진주시, 여행 자제 무시 제주연수로 33명 확진 초래..동장 직위해제</a>,\n",
       "  <a class=\"link_txt\" data-tiara-custom=\"contentUniqueKey=hamny-20201125163555887\" data-tiara-id=\"20201125163555887\" data-tiara-layer=\"article\" data-tiara-ordnum=\"3\" data-tiara-type=\"harmony\" href=\"https://v.daum.net/v/20201125163555887\">포항서 초등 여학생 의제 강간한 중학생 소년부 송치</a>,\n",
       "  <a class=\"link_txt\" data-tiara-custom=\"contentUniqueKey=hamny-20201125164500162\" data-tiara-id=\"20201125164500162\" data-tiara-layer=\"article\" data-tiara-ordnum=\"4\" data-tiara-type=\"harmony\" href=\"https://v.daum.net/v/20201125164500162\">\"집값은 무슨, 버리고 가는 사람도 있어\".. 감천마을에서 생긴 일</a>,\n",
       "  <a class=\"link_txt\" data-tiara-custom=\"contentUniqueKey=hamny-20201125154757976\" data-tiara-id=\"20201125154757976\" data-tiara-layer=\"article\" data-tiara-ordnum=\"1\" data-tiara-type=\"harmony\" href=\"https://v.daum.net/v/20201125154757976\">이재명-조광한 충돌에 이재명 손들어준 남양주 국회의원들</a>,\n",
       "  <a class=\"link_txt\" data-tiara-custom=\"contentUniqueKey=hamny-20201125152120646\" data-tiara-id=\"20201125152120646\" data-tiara-layer=\"article\" data-tiara-ordnum=\"2\" data-tiara-type=\"harmony\" href=\"https://v.daum.net/v/20201125152120646\">인터넷방송서 후배 폭행 전 프로야구 선수 구속, 뒤늦게 알려져</a>,\n",
       "  <a class=\"link_txt\" data-tiara-custom=\"contentUniqueKey=hamny-20201125160204586\" data-tiara-id=\"20201125160204586\" data-tiara-layer=\"article\" data-tiara-ordnum=\"3\" data-tiara-type=\"harmony\" href=\"https://v.daum.net/v/20201125160204586\">한국서 숨진 대만 학생, 부모 경악시킨 한 마디..\"음주운전이라\"</a>,\n",
       "  <a class=\"link_txt\" data-tiara-custom=\"contentUniqueKey=hamny-20201125153105108\" data-tiara-id=\"20201125153105108\" data-tiara-layer=\"article\" data-tiara-ordnum=\"4\" data-tiara-type=\"harmony\" href=\"https://v.daum.net/v/20201125153105108\">현직 판사 \"대법원, 윤석열 총장 고발하라..판사는 바보인가\"</a>,\n",
       "  <a class=\"link_txt\" data-tiara-custom=\"contentUniqueKey=hamny-20201125153105108\" data-tiara-id=\"20201125153105108\" data-tiara-layer=\"article\" data-tiara-ordnum=\"1\" data-tiara-type=\"harmony\" href=\"https://v.daum.net/v/20201125153105108\">현직 판사 \"대법원, 윤석열 총장 고발하라..판사는 바보인가\"</a>,\n",
       "  <a class=\"link_txt\" data-tiara-custom=\"contentUniqueKey=hamny-20201125165027319\" data-tiara-id=\"20201125165027319\" data-tiara-layer=\"article\" data-tiara-ordnum=\"2\" data-tiara-type=\"harmony\" href=\"https://v.daum.net/v/20201125165027319\">검사들 집단행동 조짐..실명·직 걸고 \"추미애 폭거 고발한다\"</a>,\n",
       "  <a class=\"link_txt\" data-tiara-custom=\"contentUniqueKey=hamny-20201125160204586\" data-tiara-id=\"20201125160204586\" data-tiara-layer=\"article\" data-tiara-ordnum=\"3\" data-tiara-type=\"harmony\" href=\"https://v.daum.net/v/20201125160204586\">한국서 숨진 대만 학생, 부모 경악시킨 한 마디..\"음주운전이라\"</a>,\n",
       "  <a class=\"link_txt\" data-tiara-custom=\"contentUniqueKey=hamny-20201125155204147\" data-tiara-id=\"20201125155204147\" data-tiara-layer=\"article\" data-tiara-ordnum=\"4\" data-tiara-type=\"harmony\" href=\"https://v.daum.net/v/20201125155204147\">이별통보 한 여친 휴가중 찾아가 잔혹살해한 병사 '징역 30년'</a>]]"
      ]
     },
     "execution_count": 253,
     "metadata": {},
     "output_type": "execute_result"
    }
   ],
   "source": [
    "final_list"
   ]
  },
  {
   "cell_type": "code",
   "execution_count": 252,
   "metadata": {},
   "outputs": [
    {
     "name": "stdout",
     "output_type": "stream",
     "text": [
      "송미애 충북도의원 \"코로나 경영난 소상공인 지원센터 만들자\"\n",
      "확진 해양경찰관 다녀간 유흥업소 관련 감염 확산..누적 36명\n",
      "서울 코로나 누적확진 7375명, 대구 넘어섰다\n",
      "秋 발표 하루 만에 강제수사 착착.. 대검 컴퓨터 포렌식\n",
      "군공항 소음 2022년부터 피해보상 받는다..소송 없이 가능\n",
      "이별통보 한 여친 휴가중 찾아가 잔혹살해한 병사 '징역 30년'\n",
      "진주시, 여행 자제 무시 제주연수로 33명 확진 초래..동장 직위해제\n",
      "포항서 초등 여학생 의제 강간한 중학생 소년부 송치\n",
      "\"집값은 무슨, 버리고 가는 사람도 있어\".. 감천마을에서 생긴 일\n",
      "이재명-조광한 충돌에 이재명 손들어준 남양주 국회의원들\n",
      "인터넷방송서 후배 폭행 전 프로야구 선수 구속, 뒤늦게 알려져\n",
      "한국서 숨진 대만 학생, 부모 경악시킨 한 마디..\"음주운전이라\"\n",
      "현직 판사 \"대법원, 윤석열 총장 고발하라..판사는 바보인가\"\n",
      "현직 판사 \"대법원, 윤석열 총장 고발하라..판사는 바보인가\"\n",
      "검사들 집단행동 조짐..실명·직 걸고 \"추미애 폭거 고발한다\"\n",
      "한국서 숨진 대만 학생, 부모 경악시킨 한 마디..\"음주운전이라\"\n",
      "이별통보 한 여친 휴가중 찾아가 잔혹살해한 병사 '징역 30년'\n",
      "송미애 충북도의원 \"코로나 경영난 소상공인 지원센터 만들자\"\n",
      "확진 해양경찰관 다녀간 유흥업소 관련 감염 확산..누적 36명\n",
      "서울 코로나 누적확진 7375명, 대구 넘어섰다\n",
      "秋 발표 하루 만에 강제수사 착착.. 대검 컴퓨터 포렌식\n",
      "군공항 소음 2022년부터 피해보상 받는다..소송 없이 가능\n",
      "이별통보 한 여친 휴가중 찾아가 잔혹살해한 병사 '징역 30년'\n",
      "진주시, 여행 자제 무시 제주연수로 33명 확진 초래..동장 직위해제\n",
      "포항서 초등 여학생 의제 강간한 중학생 소년부 송치\n",
      "\"집값은 무슨, 버리고 가는 사람도 있어\".. 감천마을에서 생긴 일\n",
      "이재명-조광한 충돌에 이재명 손들어준 남양주 국회의원들\n",
      "인터넷방송서 후배 폭행 전 프로야구 선수 구속, 뒤늦게 알려져\n",
      "한국서 숨진 대만 학생, 부모 경악시킨 한 마디..\"음주운전이라\"\n",
      "현직 판사 \"대법원, 윤석열 총장 고발하라..판사는 바보인가\"\n",
      "현직 판사 \"대법원, 윤석열 총장 고발하라..판사는 바보인가\"\n",
      "검사들 집단행동 조짐..실명·직 걸고 \"추미애 폭거 고발한다\"\n",
      "한국서 숨진 대만 학생, 부모 경악시킨 한 마디..\"음주운전이라\"\n",
      "이별통보 한 여친 휴가중 찾아가 잔혹살해한 병사 '징역 30년'\n",
      "송미애 충북도의원 \"코로나 경영난 소상공인 지원센터 만들자\"\n",
      "확진 해양경찰관 다녀간 유흥업소 관련 감염 확산..누적 36명\n",
      "서울 코로나 누적확진 7375명, 대구 넘어섰다\n",
      "秋 발표 하루 만에 강제수사 착착.. 대검 컴퓨터 포렌식\n",
      "군공항 소음 2022년부터 피해보상 받는다..소송 없이 가능\n",
      "이별통보 한 여친 휴가중 찾아가 잔혹살해한 병사 '징역 30년'\n",
      "진주시, 여행 자제 무시 제주연수로 33명 확진 초래..동장 직위해제\n",
      "포항서 초등 여학생 의제 강간한 중학생 소년부 송치\n",
      "\"집값은 무슨, 버리고 가는 사람도 있어\".. 감천마을에서 생긴 일\n",
      "이재명-조광한 충돌에 이재명 손들어준 남양주 국회의원들\n",
      "인터넷방송서 후배 폭행 전 프로야구 선수 구속, 뒤늦게 알려져\n",
      "한국서 숨진 대만 학생, 부모 경악시킨 한 마디..\"음주운전이라\"\n",
      "현직 판사 \"대법원, 윤석열 총장 고발하라..판사는 바보인가\"\n",
      "현직 판사 \"대법원, 윤석열 총장 고발하라..판사는 바보인가\"\n",
      "검사들 집단행동 조짐..실명·직 걸고 \"추미애 폭거 고발한다\"\n",
      "한국서 숨진 대만 학생, 부모 경악시킨 한 마디..\"음주운전이라\"\n",
      "이별통보 한 여친 휴가중 찾아가 잔혹살해한 병사 '징역 30년'\n"
     ]
    }
   ],
   "source": [
    "for i in final_list:\n",
    "    for j in i:\n",
    "        print(j.text.strip())"
   ]
  },
  {
   "cell_type": "code",
   "execution_count": null,
   "metadata": {},
   "outputs": [],
   "source": []
  },
  {
   "cell_type": "code",
   "execution_count": null,
   "metadata": {},
   "outputs": [],
   "source": []
  },
  {
   "cell_type": "code",
   "execution_count": 236,
   "metadata": {},
   "outputs": [],
   "source": [
    "url = 'https://news.daum.net/society#1'\n",
    "res=req.get(url)"
   ]
  },
  {
   "cell_type": "code",
   "execution_count": 237,
   "metadata": {},
   "outputs": [],
   "source": [
    "dn = bs(res.text, 'lxml')"
   ]
  },
  {
   "cell_type": "code",
   "execution_count": 247,
   "metadata": {},
   "outputs": [],
   "source": [
    "dn_list= dn.select('.tit_thumb>a')"
   ]
  },
  {
   "cell_type": "code",
   "execution_count": 248,
   "metadata": {},
   "outputs": [
    {
     "data": {
      "text/plain": [
       "[<a class=\"link_txt\" data-tiara-custom=\"contentUniqueKey=hamny-20201125172755524\" data-tiara-id=\"20201125172755524\" data-tiara-layer=\"article_main\" data-tiara-ordnum=\"1\" data-tiara-type=\"harmony\" href=\"https://news.v.daum.net/v/20201125172755524\">확진 해양경찰관 다녀간 유흥업소 관련 감염 확산..누적 36명</a>,\n",
       " <a class=\"link_txt\" data-tiara-custom=\"contentUniqueKey=hamny-20201125172706508\" data-tiara-id=\"20201125172706508\" data-tiara-layer=\"article_main\" data-tiara-ordnum=\"1\" data-tiara-type=\"harmony\" href=\"https://news.v.daum.net/v/20201125172706508\">서울 코로나 누적확진 7375명, 대구 넘어섰다</a>,\n",
       " <a class=\"link_txt\" data-tiara-custom=\"contentUniqueKey=hamny-20201125172650489\" data-tiara-id=\"20201125172650489\" data-tiara-layer=\"article_main\" data-tiara-ordnum=\"1\" data-tiara-type=\"harmony\" href=\"https://news.v.daum.net/v/20201125172650489\">秋 발표 하루 만에 강제수사 착착.. 대검 컴퓨터 포렌식</a>,\n",
       " <a class=\"link_txt\" data-tiara-custom=\"contentUniqueKey=hamny-20201125172126336\" data-tiara-id=\"20201125172126336\" data-tiara-layer=\"article_main\" data-tiara-ordnum=\"1\" data-tiara-type=\"harmony\" href=\"https://news.v.daum.net/v/20201125172126336\">군공항 소음 2022년부터 피해보상 받는다..소송 없이 가능</a>,\n",
       " <a class=\"link_txt\" data-tiara-custom=\"contentUniqueKey=hamny-20201125172104316\" data-tiara-id=\"20201125172104316\" data-tiara-layer=\"article_main\" data-tiara-ordnum=\"1\" data-tiara-type=\"harmony\" href=\"https://news.v.daum.net/v/20201125172104316\">\"재판부 조종하려 했나\" '사찰 의혹' 法·檢 갈등으로 번지나</a>,\n",
       " <a class=\"link_txt\" data-tiara-custom=\"contentUniqueKey=hamny-20201125155204147\" data-tiara-id=\"20201125155204147\" data-tiara-layer=\"article\" data-tiara-ordnum=\"1\" data-tiara-type=\"harmony\" href=\"https://v.daum.net/v/20201125155204147\">이별통보 한 여친 휴가중 찾아가 잔혹살해한 병사 '징역 30년'</a>,\n",
       " <a class=\"link_txt\" data-tiara-custom=\"contentUniqueKey=hamny-20201125162214329\" data-tiara-id=\"20201125162214329\" data-tiara-layer=\"article\" data-tiara-ordnum=\"2\" data-tiara-type=\"harmony\" href=\"https://v.daum.net/v/20201125162214329\">진주시, 여행 자제 무시 제주연수로 33명 확진 초래..동장 직위해제</a>,\n",
       " <a class=\"link_txt\" data-tiara-custom=\"contentUniqueKey=hamny-20201125163555887\" data-tiara-id=\"20201125163555887\" data-tiara-layer=\"article\" data-tiara-ordnum=\"3\" data-tiara-type=\"harmony\" href=\"https://v.daum.net/v/20201125163555887\">포항서 초등 여학생 의제 강간한 중학생 소년부 송치</a>,\n",
       " <a class=\"link_txt\" data-tiara-custom=\"contentUniqueKey=hamny-20201125164500162\" data-tiara-id=\"20201125164500162\" data-tiara-layer=\"article\" data-tiara-ordnum=\"4\" data-tiara-type=\"harmony\" href=\"https://v.daum.net/v/20201125164500162\">\"집값은 무슨, 버리고 가는 사람도 있어\".. 감천마을에서 생긴 일</a>,\n",
       " <a class=\"link_txt\" data-tiara-custom=\"contentUniqueKey=hamny-20201125154757976\" data-tiara-id=\"20201125154757976\" data-tiara-layer=\"article\" data-tiara-ordnum=\"1\" data-tiara-type=\"harmony\" href=\"https://v.daum.net/v/20201125154757976\">이재명-조광한 충돌에 이재명 손들어준 남양주 국회의원들</a>,\n",
       " <a class=\"link_txt\" data-tiara-custom=\"contentUniqueKey=hamny-20201125152120646\" data-tiara-id=\"20201125152120646\" data-tiara-layer=\"article\" data-tiara-ordnum=\"2\" data-tiara-type=\"harmony\" href=\"https://v.daum.net/v/20201125152120646\">인터넷방송서 후배 폭행 전 프로야구 선수 구속, 뒤늦게 알려져</a>,\n",
       " <a class=\"link_txt\" data-tiara-custom=\"contentUniqueKey=hamny-20201125160204586\" data-tiara-id=\"20201125160204586\" data-tiara-layer=\"article\" data-tiara-ordnum=\"3\" data-tiara-type=\"harmony\" href=\"https://v.daum.net/v/20201125160204586\">한국서 숨진 대만 학생, 부모 경악시킨 한 마디..\"음주운전이라\"</a>,\n",
       " <a class=\"link_txt\" data-tiara-custom=\"contentUniqueKey=hamny-20201125153105108\" data-tiara-id=\"20201125153105108\" data-tiara-layer=\"article\" data-tiara-ordnum=\"4\" data-tiara-type=\"harmony\" href=\"https://v.daum.net/v/20201125153105108\">현직 판사 \"대법원, 윤석열 총장 고발하라..판사는 바보인가\"</a>,\n",
       " <a class=\"link_txt\" data-tiara-custom=\"contentUniqueKey=hamny-20201125153105108\" data-tiara-id=\"20201125153105108\" data-tiara-layer=\"article\" data-tiara-ordnum=\"1\" data-tiara-type=\"harmony\" href=\"https://v.daum.net/v/20201125153105108\">현직 판사 \"대법원, 윤석열 총장 고발하라..판사는 바보인가\"</a>,\n",
       " <a class=\"link_txt\" data-tiara-custom=\"contentUniqueKey=hamny-20201125165027319\" data-tiara-id=\"20201125165027319\" data-tiara-layer=\"article\" data-tiara-ordnum=\"2\" data-tiara-type=\"harmony\" href=\"https://v.daum.net/v/20201125165027319\">검사들 집단행동 조짐..실명·직 걸고 \"추미애 폭거 고발한다\"</a>,\n",
       " <a class=\"link_txt\" data-tiara-custom=\"contentUniqueKey=hamny-20201125160204586\" data-tiara-id=\"20201125160204586\" data-tiara-layer=\"article\" data-tiara-ordnum=\"3\" data-tiara-type=\"harmony\" href=\"https://v.daum.net/v/20201125160204586\">한국서 숨진 대만 학생, 부모 경악시킨 한 마디..\"음주운전이라\"</a>,\n",
       " <a class=\"link_txt\" data-tiara-custom=\"contentUniqueKey=hamny-20201125155204147\" data-tiara-id=\"20201125155204147\" data-tiara-layer=\"article\" data-tiara-ordnum=\"4\" data-tiara-type=\"harmony\" href=\"https://v.daum.net/v/20201125155204147\">이별통보 한 여친 휴가중 찾아가 잔혹살해한 병사 '징역 30년'</a>]"
      ]
     },
     "execution_count": 248,
     "metadata": {},
     "output_type": "execute_result"
    }
   ],
   "source": [
    "dn_list"
   ]
  },
  {
   "cell_type": "code",
   "execution_count": 249,
   "metadata": {},
   "outputs": [
    {
     "name": "stdout",
     "output_type": "stream",
     "text": [
      "확진 해양경찰관 다녀간 유흥업소 관련 감염 확산..누적 36명\n",
      "서울 코로나 누적확진 7375명, 대구 넘어섰다\n",
      "秋 발표 하루 만에 강제수사 착착.. 대검 컴퓨터 포렌식\n",
      "군공항 소음 2022년부터 피해보상 받는다..소송 없이 가능\n",
      "\"재판부 조종하려 했나\" '사찰 의혹' 法·檢 갈등으로 번지나\n",
      "이별통보 한 여친 휴가중 찾아가 잔혹살해한 병사 '징역 30년'\n",
      "진주시, 여행 자제 무시 제주연수로 33명 확진 초래..동장 직위해제\n",
      "포항서 초등 여학생 의제 강간한 중학생 소년부 송치\n",
      "\"집값은 무슨, 버리고 가는 사람도 있어\".. 감천마을에서 생긴 일\n",
      "이재명-조광한 충돌에 이재명 손들어준 남양주 국회의원들\n",
      "인터넷방송서 후배 폭행 전 프로야구 선수 구속, 뒤늦게 알려져\n",
      "한국서 숨진 대만 학생, 부모 경악시킨 한 마디..\"음주운전이라\"\n",
      "현직 판사 \"대법원, 윤석열 총장 고발하라..판사는 바보인가\"\n",
      "현직 판사 \"대법원, 윤석열 총장 고발하라..판사는 바보인가\"\n",
      "검사들 집단행동 조짐..실명·직 걸고 \"추미애 폭거 고발한다\"\n",
      "한국서 숨진 대만 학생, 부모 경악시킨 한 마디..\"음주운전이라\"\n",
      "이별통보 한 여친 휴가중 찾아가 잔혹살해한 병사 '징역 30년'\n"
     ]
    }
   ],
   "source": [
    "for i in dn_list:\n",
    "    print(i.text.strip())"
   ]
  },
  {
   "cell_type": "code",
   "execution_count": null,
   "metadata": {},
   "outputs": [],
   "source": []
  },
  {
   "cell_type": "code",
   "execution_count": null,
   "metadata": {},
   "outputs": [],
   "source": []
  },
  {
   "cell_type": "code",
   "execution_count": null,
   "metadata": {},
   "outputs": [],
   "source": []
  },
  {
   "cell_type": "code",
   "execution_count": null,
   "metadata": {},
   "outputs": [],
   "source": []
  }
 ],
 "metadata": {
  "kernelspec": {
   "display_name": "Python 3",
   "language": "python",
   "name": "python3"
  },
  "language_info": {
   "codemirror_mode": {
    "name": "ipython",
    "version": 3
   },
   "file_extension": ".py",
   "mimetype": "text/x-python",
   "name": "python",
   "nbconvert_exporter": "python",
   "pygments_lexer": "ipython3",
   "version": "3.8.3"
  }
 },
 "nbformat": 4,
 "nbformat_minor": 4
}

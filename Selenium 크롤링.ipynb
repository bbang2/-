{
 "cells": [
  {
   "cell_type": "code",
   "execution_count": 1,
   "metadata": {},
   "outputs": [],
   "source": [
    "import numpy as np\n",
    "import pandas as pd\n",
    "import requests as req\n",
    "from bs4 import BeautifulSoup as bs"
   ]
  },
  {
   "cell_type": "markdown",
   "metadata": {},
   "source": [
    "## Selenium 모듈"
   ]
  },
  {
   "cell_type": "code",
   "execution_count": 3,
   "metadata": {},
   "outputs": [],
   "source": [
    "# 웹페이지를 제어하기 위한 모듈"
   ]
  },
  {
   "cell_type": "code",
   "execution_count": 21,
   "metadata": {},
   "outputs": [
    {
     "name": "stdout",
     "output_type": "stream",
     "text": [
      "Requirement already satisfied: selenium in c:\\users\\smhrd\\anaconda3\\lib\\site-packages (3.141.0)\n",
      "Requirement already satisfied: urllib3 in c:\\users\\smhrd\\anaconda3\\lib\\site-packages (from selenium) (1.25.9)\n"
     ]
    }
   ],
   "source": [
    "#모듈 설치\n",
    "!pip install selenium"
   ]
  },
  {
   "cell_type": "code",
   "execution_count": 2,
   "metadata": {},
   "outputs": [],
   "source": [
    "# webdriver --> 웹을 통제하기 위한 라이브러리\n",
    "# Keys --> 웹을 통해 입력하기 위한 라이브러리\n",
    "\n",
    "from selenium import webdriver as wb\n",
    "from selenium.webdriver.common.keys import Keys\n",
    "#구글 드라이버 다운로드한 후 파이썬파일위치로 옮겨줌"
   ]
  },
  {
   "cell_type": "code",
   "execution_count": 23,
   "metadata": {},
   "outputs": [],
   "source": [
    "#\n",
    "driver = wb.Chrome()\n",
    "\n",
    "url = \"https://www.naver.com/\"\n",
    "\n",
    "res = driver.get(url)"
   ]
  },
  {
   "cell_type": "code",
   "execution_count": 24,
   "metadata": {
    "scrolled": true
   },
   "outputs": [],
   "source": [
    "# driver안의 id명 태그가져오기\n",
    "#이미 id가 명시되어있어서 #안써도 됨\n",
    "#검색창 아이디 불러온것\n",
    "input_area = driver.find_element_by_id(\"query\")"
   ]
  },
  {
   "cell_type": "code",
   "execution_count": 25,
   "metadata": {},
   "outputs": [],
   "source": [
    "# 검색창에 글쓰기\n",
    "input_area.send_keys(\"손의정\")"
   ]
  },
  {
   "cell_type": "markdown",
   "metadata": {},
   "source": [
    "## 검색하는 방법 2가지\n",
    "\n",
    "### 1번째 방법(클릭)"
   ]
  },
  {
   "cell_type": "code",
   "execution_count": 12,
   "metadata": {},
   "outputs": [],
   "source": [
    "# 검색버튼 id가져오기\n",
    "btn_search=driver.find_element_by_id(\"search_btn\")"
   ]
  },
  {
   "cell_type": "code",
   "execution_count": 13,
   "metadata": {},
   "outputs": [],
   "source": [
    "btn_search.click()"
   ]
  },
  {
   "cell_type": "markdown",
   "metadata": {},
   "source": [
    "## 2번째 방법(엔터)"
   ]
  },
  {
   "cell_type": "code",
   "execution_count": 26,
   "metadata": {},
   "outputs": [],
   "source": [
    "input_area.send_keys(Keys.ENTER)"
   ]
  },
  {
   "cell_type": "markdown",
   "metadata": {},
   "source": [
    "## 구글에서 광주날씨 검색해보기"
   ]
  },
  {
   "cell_type": "code",
   "execution_count": 58,
   "metadata": {},
   "outputs": [],
   "source": [
    "url =\"https://www.google.co.kr/\"\n",
    "\n",
    "driver = wb.Chrome()\n",
    "driver.get(url)\n"
   ]
  },
  {
   "cell_type": "code",
   "execution_count": 59,
   "metadata": {},
   "outputs": [],
   "source": [
    "input_area = driver.find_element_by_class_name(\"gLFyf\")"
   ]
  },
  {
   "cell_type": "code",
   "execution_count": 60,
   "metadata": {},
   "outputs": [],
   "source": [
    "input_area.send_keys(\"광주날씨\")"
   ]
  },
  {
   "cell_type": "code",
   "execution_count": 62,
   "metadata": {},
   "outputs": [],
   "source": [
    "#클릭\n",
    "gg_search=driver.find_element_by_class_name(\"gNO89b\")"
   ]
  },
  {
   "cell_type": "code",
   "execution_count": 63,
   "metadata": {},
   "outputs": [],
   "source": [
    "gg_search.click()"
   ]
  },
  {
   "cell_type": "code",
   "execution_count": 37,
   "metadata": {},
   "outputs": [],
   "source": [
    "# enter\n",
    "input_area.send_keys(Keys.ENTER)"
   ]
  },
  {
   "cell_type": "code",
   "execution_count": null,
   "metadata": {},
   "outputs": [],
   "source": []
  },
  {
   "cell_type": "code",
   "execution_count": 65,
   "metadata": {},
   "outputs": [],
   "source": [
    "soup = bs(driver.page_source, 'lxml')"
   ]
  },
  {
   "cell_type": "code",
   "execution_count": 68,
   "metadata": {},
   "outputs": [],
   "source": [
    "result= soup.select(\"#wob_tm\")"
   ]
  },
  {
   "cell_type": "code",
   "execution_count": 70,
   "metadata": {},
   "outputs": [
    {
     "data": {
      "text/plain": [
       "'12'"
      ]
     },
     "execution_count": 70,
     "metadata": {},
     "output_type": "execute_result"
    }
   ],
   "source": [
    "result[0].text"
   ]
  },
  {
   "cell_type": "markdown",
   "metadata": {},
   "source": [
    "## 한솥도시락 메뉴 가져오기"
   ]
  },
  {
   "cell_type": "markdown",
   "metadata": {},
   "source": [
    "### 1번 한솥 전체메뉴 띄우는 곳"
   ]
  },
  {
   "cell_type": "code",
   "execution_count": 3,
   "metadata": {},
   "outputs": [],
   "source": [
    "url = \"https://www.hsd.co.kr/menu/menu_list\"\n",
    "driver=wb.Chrome()\n",
    "driver.get(url)"
   ]
  },
  {
   "cell_type": "markdown",
   "metadata": {},
   "source": [
    "### 2번 전체메뉴 소스 파싱"
   ]
  },
  {
   "cell_type": "code",
   "execution_count": 4,
   "metadata": {},
   "outputs": [],
   "source": [
    "soup = bs(driver.page_source, 'lxml')"
   ]
  },
  {
   "cell_type": "markdown",
   "metadata": {},
   "source": [
    "### 3번 더보기 버튼 정보 가져오기"
   ]
  },
  {
   "cell_type": "code",
   "execution_count": 5,
   "metadata": {},
   "outputs": [],
   "source": [
    "han=driver.find_element_by_class_name(\"c_05\")"
   ]
  },
  {
   "cell_type": "markdown",
   "metadata": {},
   "source": [
    "### 4번 더보기 반복문 활용하여 다 누르기"
   ]
  },
  {
   "cell_type": "code",
   "execution_count": 6,
   "metadata": {},
   "outputs": [],
   "source": [
    "import time"
   ]
  },
  {
   "cell_type": "markdown",
   "metadata": {},
   "source": [
    "### 예외 처리하기"
   ]
  },
  {
   "cell_type": "code",
   "execution_count": 7,
   "metadata": {},
   "outputs": [
    {
     "name": "stdout",
     "output_type": "stream",
     "text": [
      "3\n"
     ]
    }
   ],
   "source": [
    "#페이지에 더이상 버튼이 없으면 오류뜸\n",
    "#몇번 누르는 지 반복문 처리\n",
    "\n",
    "try:\n",
    "    for i in range(50):\n",
    "        han.click()\n",
    "        # 괄호 안 만큼의 초만큼 기다렸다가 클릭\n",
    "        time.sleep(1)\n",
    "# Java에서는 catch        \n",
    "# 값이 더이상 없으면 except로 가서 예외처리되면서 오류없이 프로그램이 돌아감\n",
    "except:\n",
    "    print(i)"
   ]
  },
  {
   "cell_type": "markdown",
   "metadata": {},
   "source": [
    "### 더보기 다 눌린 페이지의 소스를 다시 파싱"
   ]
  },
  {
   "cell_type": "code",
   "execution_count": 8,
   "metadata": {},
   "outputs": [],
   "source": [
    "soup = bs(driver.page_source, 'lxml')"
   ]
  },
  {
   "cell_type": "markdown",
   "metadata": {},
   "source": [
    "### 파싱한 페이지에서 전체메뉴이름 가져오기"
   ]
  },
  {
   "cell_type": "code",
   "execution_count": 9,
   "metadata": {},
   "outputs": [
    {
     "data": {
      "text/plain": [
       "[<h4 class=\"h fz_03\">매화(치킨, 연어구이)</h4>,\n",
       " <h4 class=\"h fz_03\">매화 (순살 고등어 간장구이)</h4>,\n",
       " <h4 class=\"h fz_03\">진달래</h4>,\n",
       " <h4 class=\"h fz_03\">개나리(순살 고등어 간장구이)</h4>,\n",
       " <h4 class=\"h fz_03\">나시고랭</h4>,\n",
       " <h4 class=\"h fz_03\">생선까스도련님고기고기</h4>,\n",
       " <h4 class=\"h fz_03\">돈까스도련님고기고기</h4>,\n",
       " <h4 class=\"h fz_03\">탕수육도련님고기고기</h4>,\n",
       " <h4 class=\"h fz_03\">새치 고기고기</h4>,\n",
       " <h4 class=\"h fz_03\">돈치 고기고기</h4>,\n",
       " <h4 class=\"h fz_03\">고기고기</h4>,\n",
       " <h4 class=\"h fz_03\">칠리탕수육 육개장 정식</h4>,\n",
       " <h4 class=\"h fz_03\">통치즈돈까스 도시락</h4>,\n",
       " <h4 class=\"h fz_03\">주말숯불삼겹2종정식</h4>,\n",
       " <h4 class=\"h fz_03\">고추장숯불삼겹정식</h4>,\n",
       " <h4 class=\"h fz_03\">숯불삼겹정식</h4>,\n",
       " <h4 class=\"h fz_03\">제육 김치찌개 정식</h4>,\n",
       " <h4 class=\"h fz_03\">콤비네이션 정식</h4>,\n",
       " <h4 class=\"h fz_03\">숯불직화구이</h4>,\n",
       " <h4 class=\"h fz_03\">소불고기</h4>,\n",
       " <h4 class=\"h fz_03\">메가치킨제육</h4>,\n",
       " <h4 class=\"h fz_03\">생선까스도련님</h4>,\n",
       " <h4 class=\"h fz_03\">칠리 찹쌀탕수육도련님</h4>,\n",
       " <h4 class=\"h fz_03\">동백</h4>,\n",
       " <h4 class=\"h fz_03\">치킨제육</h4>,\n",
       " <h4 class=\"h fz_03\">국화</h4>,\n",
       " <h4 class=\"h fz_03\">돈까스도련님</h4>,\n",
       " <h4 class=\"h fz_03\">제육볶음</h4>,\n",
       " <h4 class=\"h fz_03\">미니닭가슴살볶음밥</h4>,\n",
       " <h4 class=\"h fz_03\">한솥밥</h4>,\n",
       " <h4 class=\"h fz_03\">현미밥</h4>,\n",
       " <h4 class=\"h fz_03\">메가스팸마요</h4>,\n",
       " <h4 class=\"h fz_03\">스팸마요</h4>,\n",
       " <h4 class=\"h fz_03\">메가불닭치킨마요</h4>,\n",
       " <h4 class=\"h fz_03\">불닭치킨마요</h4>,\n",
       " <h4 class=\"h fz_03\">갈비치킨마요</h4>,\n",
       " <h4 class=\"h fz_03\">메가치킨마요</h4>,\n",
       " <h4 class=\"h fz_03\">왕치킨마요</h4>,\n",
       " <h4 class=\"h fz_03\">빅치킨마요</h4>,\n",
       " <h4 class=\"h fz_03\">치킨마요</h4>,\n",
       " <h4 class=\"h fz_03\">참치 샐러드마요</h4>,\n",
       " <h4 class=\"h fz_03\">치킨 샐러드마요</h4>,\n",
       " <h4 class=\"h fz_03\">참치마요</h4>,\n",
       " <h4 class=\"h fz_03\">돈치마요</h4>,\n",
       " <h4 class=\"h fz_03\">치즈 카레도시락</h4>,\n",
       " <h4 class=\"h fz_03\">돈까스 카레</h4>,\n",
       " <h4 class=\"h fz_03\">3종치즈 김치볶음밥</h4>,\n",
       " <h4 class=\"h fz_03\">스팸 김치볶음밥</h4>,\n",
       " <h4 class=\"h fz_03\">김치볶음밥</h4>,\n",
       " <h4 class=\"h fz_03\">스팸철판볶음밥</h4>,\n",
       " <h4 class=\"h fz_03\">소불고기 철판볶음밥</h4>,\n",
       " <h4 class=\"h fz_03\">돼지국밥 콤보</h4>,\n",
       " <h4 class=\"h fz_03\">돼지국밥</h4>,\n",
       " <h4 class=\"h fz_03\">돼지국밥(국만)</h4>,\n",
       " <h4 class=\"h fz_03\">소고기 육개장</h4>,\n",
       " <h4 class=\"h fz_03\">묵은지 김치찌개</h4>,\n",
       " <h4 class=\"h fz_03\">치킨스테이크덮밥 꿀조합 콤보</h4>,\n",
       " <h4 class=\"h fz_03\">마라 치킨스테이크 꿀조합 콤보</h4>,\n",
       " <h4 class=\"h fz_03\">치킨스테이크 덮밥</h4>,\n",
       " <h4 class=\"h fz_03\">마라 치킨스테이크 덮밥</h4>,\n",
       " <h4 class=\"h fz_03\">숯불직화구이 덮밥</h4>,\n",
       " <h4 class=\"h fz_03\">왕카레돈까스덮밥</h4>,\n",
       " <h4 class=\"h fz_03\">새우돈까스 덮밥</h4>,\n",
       " <h4 class=\"h fz_03\">돈까스 덮밥</h4>,\n",
       " <h4 class=\"h fz_03\">소불고기 감초고추장 비빔밥</h4>,\n",
       " <h4 class=\"h fz_03\">시골제육 두부강된장 비빔밥</h4>,\n",
       " <h4 class=\"h fz_03\">참치야채 감초고추장</h4>,\n",
       " <h4 class=\"h fz_03\">튼튼도시락</h4>,\n",
       " <h4 class=\"h fz_03\">해피닭가슴살볶음밥</h4>,\n",
       " <h4 class=\"h fz_03\">반찬 통치즈돈까스</h4>,\n",
       " <h4 class=\"h fz_03\">반찬 계란말이</h4>,\n",
       " <h4 class=\"h fz_03\">반찬 치즈계란말이</h4>,\n",
       " <h4 class=\"h fz_03\">반찬 묵은지김치찌개</h4>,\n",
       " <h4 class=\"h fz_03\">반찬 소고기육개장</h4>,\n",
       " <h4 class=\"h fz_03\">반찬 카레</h4>,\n",
       " <h4 class=\"h fz_03\">반찬 소불고기</h4>,\n",
       " <h4 class=\"h fz_03\">반찬 순살 고등어데리야끼</h4>,\n",
       " <h4 class=\"h fz_03\">반찬 치킨</h4>,\n",
       " <h4 class=\"h fz_03\">반찬 고기고기</h4>,\n",
       " <h4 class=\"h fz_03\">반찬 돈까스 도련님</h4>,\n",
       " <h4 class=\"h fz_03\">반찬 제육볶음</h4>,\n",
       " <h4 class=\"h fz_03\">반찬 돈까스</h4>,\n",
       " <h4 class=\"h fz_03\">아이스 애플망고</h4>,\n",
       " <h4 class=\"h fz_03\">바삭 군만두</h4>,\n",
       " <h4 class=\"h fz_03\">미니 찹쌀핫도그</h4>,\n",
       " <h4 class=\"h fz_03\">미니 찹쌀탕수육</h4>,\n",
       " <h4 class=\"h fz_03\">감자고로케</h4>,\n",
       " <h4 class=\"h fz_03\">케이준후라이</h4>,\n",
       " <h4 class=\"h fz_03\">치킨 샐러드(유자드레싱)</h4>,\n",
       " <h4 class=\"h fz_03\">치킨 샐러드(사과드레싱)</h4>,\n",
       " <h4 class=\"h fz_03\">그린 샐러드 (유자드레싱)</h4>,\n",
       " <h4 class=\"h fz_03\">그린 샐러드 (사과드레싱)</h4>,\n",
       " <h4 class=\"h fz_03\">미니 샐러드 (유자드레싱)</h4>,\n",
       " <h4 class=\"h fz_03\">미니 샐러드 (사과드레싱)</h4>,\n",
       " <h4 class=\"h fz_03\">순살치킨 세트(대)</h4>,\n",
       " <h4 class=\"h fz_03\">순살치킨 세트(중)</h4>,\n",
       " <h4 class=\"h fz_03\">순살치킨믹스 세트</h4>,\n",
       " <h4 class=\"h fz_03\">찹쌀탕수육박스(대)</h4>,\n",
       " <h4 class=\"h fz_03\">찹쌀탕수육박스(중)</h4>,\n",
       " <h4 class=\"h fz_03\">오리지널 닭강정(중)</h4>,\n",
       " <h4 class=\"h fz_03\">오리지널 닭강정(소)</h4>,\n",
       " <h4 class=\"h fz_03\">치킨 BOX(대) </h4>,\n",
       " <h4 class=\"h fz_03\">치킨BOX(중)_양식소스</h4>,\n",
       " <h4 class=\"h fz_03\">치킨BOX(중)_칠리소스</h4>,\n",
       " <h4 class=\"h fz_03\">오징어젓갈</h4>,\n",
       " <h4 class=\"h fz_03\">오이지무침</h4>,\n",
       " <h4 class=\"h fz_03\">한솥 두부강된장소스</h4>,\n",
       " <h4 class=\"h fz_03\">한솥 감초볶음고추장소스</h4>,\n",
       " <h4 class=\"h fz_03\">볶음김치</h4>,\n",
       " <h4 class=\"h fz_03\">김치</h4>,\n",
       " <h4 class=\"h fz_03\">무말랭이</h4>]"
      ]
     },
     "execution_count": 9,
     "metadata": {},
     "output_type": "execute_result"
    }
   ],
   "source": [
    "result=soup.select(\".h\")\n",
    "result"
   ]
  },
  {
   "cell_type": "code",
   "execution_count": 10,
   "metadata": {},
   "outputs": [
    {
     "name": "stdout",
     "output_type": "stream",
     "text": [
      "매화(치킨, 연어구이)\n",
      "매화 (순살 고등어 간장구이)\n",
      "진달래\n",
      "개나리(순살 고등어 간장구이)\n",
      "나시고랭\n",
      "생선까스도련님고기고기\n",
      "돈까스도련님고기고기\n",
      "탕수육도련님고기고기\n",
      "새치 고기고기\n",
      "돈치 고기고기\n",
      "고기고기\n",
      "칠리탕수육 육개장 정식\n",
      "통치즈돈까스 도시락\n",
      "주말숯불삼겹2종정식\n",
      "고추장숯불삼겹정식\n",
      "숯불삼겹정식\n",
      "제육 김치찌개 정식\n",
      "콤비네이션 정식\n",
      "숯불직화구이\n",
      "소불고기\n",
      "메가치킨제육\n",
      "생선까스도련님\n",
      "칠리 찹쌀탕수육도련님\n",
      "동백\n",
      "치킨제육\n",
      "국화\n",
      "돈까스도련님\n",
      "제육볶음\n",
      "미니닭가슴살볶음밥\n",
      "한솥밥\n",
      "현미밥\n",
      "메가스팸마요\n",
      "스팸마요\n",
      "메가불닭치킨마요\n",
      "불닭치킨마요\n",
      "갈비치킨마요\n",
      "메가치킨마요\n",
      "왕치킨마요\n",
      "빅치킨마요\n",
      "치킨마요\n",
      "참치 샐러드마요\n",
      "치킨 샐러드마요\n",
      "참치마요\n",
      "돈치마요\n",
      "치즈 카레도시락\n",
      "돈까스 카레\n",
      "3종치즈 김치볶음밥\n",
      "스팸 김치볶음밥\n",
      "김치볶음밥\n",
      "스팸철판볶음밥\n",
      "소불고기 철판볶음밥\n",
      "돼지국밥 콤보\n",
      "돼지국밥\n",
      "돼지국밥(국만)\n",
      "소고기 육개장\n",
      "묵은지 김치찌개\n",
      "치킨스테이크덮밥 꿀조합 콤보\n",
      "마라 치킨스테이크 꿀조합 콤보\n",
      "치킨스테이크 덮밥\n",
      "마라 치킨스테이크 덮밥\n",
      "숯불직화구이 덮밥\n",
      "왕카레돈까스덮밥\n",
      "새우돈까스 덮밥\n",
      "돈까스 덮밥\n",
      "소불고기 감초고추장 비빔밥\n",
      "시골제육 두부강된장 비빔밥\n",
      "참치야채 감초고추장\n",
      "튼튼도시락\n",
      "해피닭가슴살볶음밥\n",
      "반찬 통치즈돈까스\n",
      "반찬 계란말이\n",
      "반찬 치즈계란말이\n",
      "반찬 묵은지김치찌개\n",
      "반찬 소고기육개장\n",
      "반찬 카레\n",
      "반찬 소불고기\n",
      "반찬 순살 고등어데리야끼\n",
      "반찬 치킨\n",
      "반찬 고기고기\n",
      "반찬 돈까스 도련님\n",
      "반찬 제육볶음\n",
      "반찬 돈까스\n",
      "아이스 애플망고\n",
      "바삭 군만두\n",
      "미니 찹쌀핫도그\n",
      "미니 찹쌀탕수육\n",
      "감자고로케\n",
      "케이준후라이\n",
      "치킨 샐러드(유자드레싱)\n",
      "치킨 샐러드(사과드레싱)\n",
      "그린 샐러드 (유자드레싱)\n",
      "그린 샐러드 (사과드레싱)\n",
      "미니 샐러드 (유자드레싱)\n",
      "미니 샐러드 (사과드레싱)\n",
      "순살치킨 세트(대)\n",
      "순살치킨 세트(중)\n",
      "순살치킨믹스 세트\n",
      "찹쌀탕수육박스(대)\n",
      "찹쌀탕수육박스(중)\n",
      "오리지널 닭강정(중)\n",
      "오리지널 닭강정(소)\n",
      "치킨 BOX(대) \n",
      "치킨BOX(중)_양식소스\n",
      "치킨BOX(중)_칠리소스\n",
      "오징어젓갈\n",
      "오이지무침\n",
      "한솥 두부강된장소스\n",
      "한솥 감초볶음고추장소스\n",
      "볶음김치\n",
      "김치\n",
      "무말랭이\n"
     ]
    }
   ],
   "source": [
    "for i in result:\n",
    "    print(i.text)"
   ]
  },
  {
   "cell_type": "markdown",
   "metadata": {},
   "source": [
    "### 가격 가져오기"
   ]
  },
  {
   "cell_type": "code",
   "execution_count": 21,
   "metadata": {},
   "outputs": [],
   "source": [
    "price=soup.select(\".item-price>strong\")"
   ]
  },
  {
   "cell_type": "code",
   "execution_count": 22,
   "metadata": {},
   "outputs": [
    {
     "name": "stdout",
     "output_type": "stream",
     "text": [
      "10,000\n",
      "10,000\n",
      "7,000\n",
      "8,000\n",
      "4,500\n",
      "5,500\n",
      "5,500\n",
      "5,600\n",
      "6,000\n",
      "5,200\n",
      "4,000\n",
      "8,000\n",
      "5,800\n",
      "15,000\n",
      "9,000\n",
      "8,500\n",
      "8,000\n",
      "6,000\n",
      "6,500\n",
      "5,000\n",
      "6,900\n",
      "3,900\n",
      "4,000\n",
      "5,000\n",
      "4,400\n",
      "4,200\n",
      "3,900\n",
      "3,900\n",
      "2,200\n",
      "1,000\n",
      "1,700\n",
      "5,500\n",
      "3,500\n",
      "6,400\n",
      "3,500\n",
      "3,200\n",
      "5,200\n",
      "4,200\n",
      "3,500\n",
      "2,900\n",
      "3,400\n",
      "3,400\n",
      "2,900\n",
      "3,500\n",
      "4,000\n",
      "3,900\n",
      "4,500\n",
      "4,300\n",
      "3,500\n",
      "4,500\n",
      "4,500\n",
      "6,700\n",
      "5,700\n",
      "4,500\n",
      "4,500\n",
      "4,300\n",
      "6,700\n",
      "6,700\n",
      "5,700\n",
      "5,700\n",
      "5,700\n",
      "5,500\n",
      "3,900\n",
      "3,600\n",
      "4,800\n",
      "4,800\n",
      "3,200\n",
      "5,000\n",
      "5,000\n",
      "3,900\n",
      "2,200\n",
      "2,800\n",
      "3,900\n",
      "4,100\n",
      "2,400\n",
      "3,900\n",
      "3,400\n",
      "3,200\n",
      "3,200\n",
      "3,200\n",
      "3,100\n",
      "2,500\n",
      "1,500\n",
      "2,000\n",
      "2,500\n",
      "2,000\n",
      "2,000\n",
      "1,500\n",
      "3,600\n",
      "3,600\n",
      "2,900\n",
      "2,900\n",
      "1,500\n",
      "1,500\n",
      "13,000\n",
      "7,000\n",
      "14,000\n",
      "10,000\n",
      "5,000\n",
      "7,500\n",
      "2,800\n",
      "10,000\n",
      "5,000\n",
      "5,000\n",
      "400\n",
      "700\n",
      "1,800\n",
      "500\n",
      "400\n",
      "300\n",
      "300\n"
     ]
    }
   ],
   "source": [
    "for i in price:\n",
    "    print(i.text)"
   ]
  },
  {
   "cell_type": "code",
   "execution_count": 23,
   "metadata": {},
   "outputs": [],
   "source": [
    "menu_list=[]\n",
    "price_list=[]\n",
    "seq_list=[]\n",
    "for i in range(len(price)):\n",
    "    menu_list.append(result[i].text)\n",
    "    price_list.append(price[i].text)\n",
    "    seq_list.append(i+1)"
   ]
  },
  {
   "cell_type": "code",
   "execution_count": 24,
   "metadata": {},
   "outputs": [
    {
     "data": {
      "text/plain": [
       "111"
      ]
     },
     "execution_count": 24,
     "metadata": {},
     "output_type": "execute_result"
    }
   ],
   "source": [
    "len(menu_list)"
   ]
  },
  {
   "cell_type": "code",
   "execution_count": 25,
   "metadata": {},
   "outputs": [
    {
     "data": {
      "text/plain": [
       "111"
      ]
     },
     "execution_count": 25,
     "metadata": {},
     "output_type": "execute_result"
    }
   ],
   "source": [
    "len(price_list)"
   ]
  },
  {
   "cell_type": "code",
   "execution_count": 26,
   "metadata": {},
   "outputs": [
    {
     "data": {
      "text/plain": [
       "111"
      ]
     },
     "execution_count": 26,
     "metadata": {},
     "output_type": "execute_result"
    }
   ],
   "source": [
    "len(seq_list)"
   ]
  },
  {
   "cell_type": "code",
   "execution_count": 27,
   "metadata": {},
   "outputs": [],
   "source": [
    "han_dic={\"메뉴\":menu_list, \"가격\":price_list}"
   ]
  },
  {
   "cell_type": "code",
   "execution_count": 28,
   "metadata": {},
   "outputs": [],
   "source": [
    "han_df=pd.DataFrame(han_dic, index=seq_list)"
   ]
  },
  {
   "cell_type": "code",
   "execution_count": 29,
   "metadata": {},
   "outputs": [
    {
     "data": {
      "text/html": [
       "<div>\n",
       "<style scoped>\n",
       "    .dataframe tbody tr th:only-of-type {\n",
       "        vertical-align: middle;\n",
       "    }\n",
       "\n",
       "    .dataframe tbody tr th {\n",
       "        vertical-align: top;\n",
       "    }\n",
       "\n",
       "    .dataframe thead th {\n",
       "        text-align: right;\n",
       "    }\n",
       "</style>\n",
       "<table border=\"1\" class=\"dataframe\">\n",
       "  <thead>\n",
       "    <tr style=\"text-align: right;\">\n",
       "      <th></th>\n",
       "      <th>메뉴</th>\n",
       "      <th>가격</th>\n",
       "    </tr>\n",
       "  </thead>\n",
       "  <tbody>\n",
       "    <tr>\n",
       "      <th>1</th>\n",
       "      <td>매화(치킨, 연어구이)</td>\n",
       "      <td>10,000</td>\n",
       "    </tr>\n",
       "    <tr>\n",
       "      <th>2</th>\n",
       "      <td>매화 (순살 고등어 간장구이)</td>\n",
       "      <td>10,000</td>\n",
       "    </tr>\n",
       "    <tr>\n",
       "      <th>3</th>\n",
       "      <td>진달래</td>\n",
       "      <td>7,000</td>\n",
       "    </tr>\n",
       "    <tr>\n",
       "      <th>4</th>\n",
       "      <td>개나리(순살 고등어 간장구이)</td>\n",
       "      <td>8,000</td>\n",
       "    </tr>\n",
       "    <tr>\n",
       "      <th>5</th>\n",
       "      <td>나시고랭</td>\n",
       "      <td>4,500</td>\n",
       "    </tr>\n",
       "    <tr>\n",
       "      <th>...</th>\n",
       "      <td>...</td>\n",
       "      <td>...</td>\n",
       "    </tr>\n",
       "    <tr>\n",
       "      <th>107</th>\n",
       "      <td>한솥 두부강된장소스</td>\n",
       "      <td>1,800</td>\n",
       "    </tr>\n",
       "    <tr>\n",
       "      <th>108</th>\n",
       "      <td>한솥 감초볶음고추장소스</td>\n",
       "      <td>500</td>\n",
       "    </tr>\n",
       "    <tr>\n",
       "      <th>109</th>\n",
       "      <td>볶음김치</td>\n",
       "      <td>400</td>\n",
       "    </tr>\n",
       "    <tr>\n",
       "      <th>110</th>\n",
       "      <td>김치</td>\n",
       "      <td>300</td>\n",
       "    </tr>\n",
       "    <tr>\n",
       "      <th>111</th>\n",
       "      <td>무말랭이</td>\n",
       "      <td>300</td>\n",
       "    </tr>\n",
       "  </tbody>\n",
       "</table>\n",
       "<p>111 rows × 2 columns</p>\n",
       "</div>"
      ],
      "text/plain": [
       "                   메뉴      가격\n",
       "1        매화(치킨, 연어구이)  10,000\n",
       "2    매화 (순살 고등어 간장구이)  10,000\n",
       "3                 진달래   7,000\n",
       "4    개나리(순살 고등어 간장구이)   8,000\n",
       "5                나시고랭   4,500\n",
       "..                ...     ...\n",
       "107        한솥 두부강된장소스   1,800\n",
       "108      한솥 감초볶음고추장소스     500\n",
       "109              볶음김치     400\n",
       "110                김치     300\n",
       "111              무말랭이     300\n",
       "\n",
       "[111 rows x 2 columns]"
      ]
     },
     "execution_count": 29,
     "metadata": {},
     "output_type": "execute_result"
    }
   ],
   "source": [
    "han_df"
   ]
  },
  {
   "cell_type": "code",
   "execution_count": null,
   "metadata": {},
   "outputs": [],
   "source": []
  },
  {
   "cell_type": "code",
   "execution_count": null,
   "metadata": {},
   "outputs": [],
   "source": []
  },
  {
   "cell_type": "code",
   "execution_count": null,
   "metadata": {},
   "outputs": [],
   "source": []
  }
 ],
 "metadata": {
  "kernelspec": {
   "display_name": "Python 3",
   "language": "python",
   "name": "python3"
  },
  "language_info": {
   "codemirror_mode": {
    "name": "ipython",
    "version": 3
   },
   "file_extension": ".py",
   "mimetype": "text/x-python",
   "name": "python",
   "nbconvert_exporter": "python",
   "pygments_lexer": "ipython3",
   "version": "3.8.3"
  }
 },
 "nbformat": 4,
 "nbformat_minor": 4
}

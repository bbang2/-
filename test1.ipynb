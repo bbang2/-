{
 "cells": [
  {
   "cell_type": "markdown",
   "metadata": {},
   "source": [
    "## import하기"
   ]
  },
  {
   "cell_type": "code",
   "execution_count": 67,
   "metadata": {},
   "outputs": [],
   "source": [
    "import numpy as np\n",
    "import pandas as pd\n",
    "import requests as req\n",
    "from bs4 import BeautifulSoup as bs"
   ]
  },
  {
   "cell_type": "markdown",
   "metadata": {},
   "source": [
    "## url 가져오고 리퀘스트로 정보 가져오기"
   ]
  },
  {
   "cell_type": "code",
   "execution_count": 132,
   "metadata": {},
   "outputs": [],
   "source": [
    "url = \"https://entertain.naver.com/home\"\n",
    "res = req.get(url)\n",
    "enter = res.text"
   ]
  },
  {
   "cell_type": "markdown",
   "metadata": {},
   "source": [
    "## 파싱 작업"
   ]
  },
  {
   "cell_type": "code",
   "execution_count": 133,
   "metadata": {},
   "outputs": [],
   "source": [
    "enter_list = bs(enter, 'lxml')"
   ]
  },
  {
   "cell_type": "markdown",
   "metadata": {},
   "source": [
    "## 해당하는 부분 가져오기"
   ]
  },
  {
   "cell_type": "code",
   "execution_count": 134,
   "metadata": {
    "scrolled": true
   },
   "outputs": [],
   "source": [
    "result = enter_list.select('.aside_hit_cmp > .rank_lst a')"
   ]
  },
  {
   "cell_type": "markdown",
   "metadata": {},
   "source": [
    "## 잘 가져왔는지 확인하는 작업"
   ]
  },
  {
   "cell_type": "code",
   "execution_count": 135,
   "metadata": {
    "scrolled": true
   },
   "outputs": [
    {
     "name": "stdout",
     "output_type": "stream",
     "text": [
      "1\"결혼+임신 요구=성폭력\"..사유리 부모가 미혼모 된 딸에게 한 말 [종합]\n",
      "2배동성 딸 배수진 \"이혼 6개월·돌싱맘, 임현준과 한번 싸우면 바닥을 봤다\"(우이혼)[종합]\n",
      "3[어게인TV]'우이혼' 배동성 딸 나탈리, 이혼 6개월차 \"성격 많이 바뀌어…부모님도 이혼\"\n",
      "4'YG行' 진경, 매니저 손가락 사진에 팬들이 도배한 댓글은? [★SHOT!]\n",
      "5배동성 딸 배수진 '우리 이혼했어요' 출연 \"나도 돌싱\"\n",
      "6[DAY컷] ‘스타트업’ 배수지♥남주혁, 3년만에 재회…묘한 설렘\n",
      "7'편스토랑' 변정수 \"갑상선암 투병 중 리마인드 웨딩\" 영상 공개\n",
      "8'배동성 딸' 배수진 \"나도 돌싱\"…'우리 이혼했어요'\n",
      "9류지광 \"母 보증 잘못 서 4억 빚…23년째 목동 다세대 주택 생활\" (쩐당포)\n",
      "10사유리 “아기 싫다는 남자에 임신 요구는 성폭력”\n"
     ]
    }
   ],
   "source": [
    "for i in result:\n",
    "    print(i.text)"
   ]
  },
  {
   "cell_type": "markdown",
   "metadata": {},
   "source": [
    "## 리스트 만들어서 해당 len만큼 포문으로 추가 해주기"
   ]
  },
  {
   "cell_type": "code",
   "execution_count": 136,
   "metadata": {
    "scrolled": true
   },
   "outputs": [],
   "source": [
    "enter_list_list = []\n",
    "number = []\n",
    "\n",
    "for i in range(len(result)):\n",
    "    enter_list_list.append(result[i].text)\n",
    "    number.append(i + 1)"
   ]
  },
  {
   "cell_type": "code",
   "execution_count": 137,
   "metadata": {
    "scrolled": false
   },
   "outputs": [
    {
     "data": {
      "text/plain": [
       "['1\"결혼+임신 요구=성폭력\"..사유리 부모가 미혼모 된 딸에게 한 말 [종합]',\n",
       " '2배동성 딸 배수진 \"이혼 6개월·돌싱맘, 임현준과 한번 싸우면 바닥을 봤다\"(우이혼)[종합]',\n",
       " '3[어게인TV]\\'우이혼\\' 배동성 딸 나탈리, 이혼 6개월차 \"성격 많이 바뀌어…부모님도 이혼\"',\n",
       " \"4'YG行' 진경, 매니저 손가락 사진에 팬들이 도배한 댓글은? [★SHOT!]\",\n",
       " '5배동성 딸 배수진 \\'우리 이혼했어요\\' 출연 \"나도 돌싱\"',\n",
       " '6[DAY컷] ‘스타트업’ 배수지♥남주혁, 3년만에 재회…묘한 설렘',\n",
       " '7\\'편스토랑\\' 변정수 \"갑상선암 투병 중 리마인드 웨딩\" 영상 공개',\n",
       " '8\\'배동성 딸\\' 배수진 \"나도 돌싱\"…\\'우리 이혼했어요\\'',\n",
       " '9류지광 \"母 보증 잘못 서 4억 빚…23년째 목동 다세대 주택 생활\" (쩐당포)',\n",
       " '10사유리 “아기 싫다는 남자에 임신 요구는 성폭력”']"
      ]
     },
     "execution_count": 137,
     "metadata": {},
     "output_type": "execute_result"
    }
   ],
   "source": [
    "enter_list_list"
   ]
  },
  {
   "cell_type": "markdown",
   "metadata": {},
   "source": [
    "## 딕셔너리 생성"
   ]
  },
  {
   "cell_type": "code",
   "execution_count": 138,
   "metadata": {},
   "outputs": [],
   "source": [
    "enter_dic = {\"num\" : number, \"title\" : enter_list_list}"
   ]
  },
  {
   "cell_type": "markdown",
   "metadata": {},
   "source": [
    "## 데이터프레임 생성"
   ]
  },
  {
   "cell_type": "code",
   "execution_count": 145,
   "metadata": {},
   "outputs": [],
   "source": [
    "final = pd.DataFrame(enter_dic)"
   ]
  },
  {
   "cell_type": "code",
   "execution_count": 146,
   "metadata": {},
   "outputs": [
    {
     "data": {
      "text/html": [
       "<div>\n",
       "<style scoped>\n",
       "    .dataframe tbody tr th:only-of-type {\n",
       "        vertical-align: middle;\n",
       "    }\n",
       "\n",
       "    .dataframe tbody tr th {\n",
       "        vertical-align: top;\n",
       "    }\n",
       "\n",
       "    .dataframe thead th {\n",
       "        text-align: right;\n",
       "    }\n",
       "</style>\n",
       "<table border=\"1\" class=\"dataframe\">\n",
       "  <thead>\n",
       "    <tr style=\"text-align: right;\">\n",
       "      <th></th>\n",
       "      <th>num</th>\n",
       "      <th>title</th>\n",
       "    </tr>\n",
       "  </thead>\n",
       "  <tbody>\n",
       "    <tr>\n",
       "      <th>0</th>\n",
       "      <td>1</td>\n",
       "      <td>1\"결혼+임신 요구=성폭력\"..사유리 부모가 미혼모 된 딸에게 한 말 [종합]</td>\n",
       "    </tr>\n",
       "    <tr>\n",
       "      <th>1</th>\n",
       "      <td>2</td>\n",
       "      <td>2배동성 딸 배수진 \"이혼 6개월·돌싱맘, 임현준과 한번 싸우면 바닥을 봤다\"(우이...</td>\n",
       "    </tr>\n",
       "    <tr>\n",
       "      <th>2</th>\n",
       "      <td>3</td>\n",
       "      <td>3[어게인TV]'우이혼' 배동성 딸 나탈리, 이혼 6개월차 \"성격 많이 바뀌어…부모...</td>\n",
       "    </tr>\n",
       "    <tr>\n",
       "      <th>3</th>\n",
       "      <td>4</td>\n",
       "      <td>4'YG行' 진경, 매니저 손가락 사진에 팬들이 도배한 댓글은? [★SHOT!]</td>\n",
       "    </tr>\n",
       "    <tr>\n",
       "      <th>4</th>\n",
       "      <td>5</td>\n",
       "      <td>5배동성 딸 배수진 '우리 이혼했어요' 출연 \"나도 돌싱\"</td>\n",
       "    </tr>\n",
       "    <tr>\n",
       "      <th>5</th>\n",
       "      <td>6</td>\n",
       "      <td>6[DAY컷] ‘스타트업’ 배수지♥남주혁, 3년만에 재회…묘한 설렘</td>\n",
       "    </tr>\n",
       "    <tr>\n",
       "      <th>6</th>\n",
       "      <td>7</td>\n",
       "      <td>7'편스토랑' 변정수 \"갑상선암 투병 중 리마인드 웨딩\" 영상 공개</td>\n",
       "    </tr>\n",
       "    <tr>\n",
       "      <th>7</th>\n",
       "      <td>8</td>\n",
       "      <td>8'배동성 딸' 배수진 \"나도 돌싱\"…'우리 이혼했어요'</td>\n",
       "    </tr>\n",
       "    <tr>\n",
       "      <th>8</th>\n",
       "      <td>9</td>\n",
       "      <td>9류지광 \"母 보증 잘못 서 4억 빚…23년째 목동 다세대 주택 생활\" (쩐당포)</td>\n",
       "    </tr>\n",
       "    <tr>\n",
       "      <th>9</th>\n",
       "      <td>10</td>\n",
       "      <td>10사유리 “아기 싫다는 남자에 임신 요구는 성폭력”</td>\n",
       "    </tr>\n",
       "  </tbody>\n",
       "</table>\n",
       "</div>"
      ],
      "text/plain": [
       "   num                                              title\n",
       "0    1        1\"결혼+임신 요구=성폭력\"..사유리 부모가 미혼모 된 딸에게 한 말 [종합]\n",
       "1    2  2배동성 딸 배수진 \"이혼 6개월·돌싱맘, 임현준과 한번 싸우면 바닥을 봤다\"(우이...\n",
       "2    3  3[어게인TV]'우이혼' 배동성 딸 나탈리, 이혼 6개월차 \"성격 많이 바뀌어…부모...\n",
       "3    4       4'YG行' 진경, 매니저 손가락 사진에 팬들이 도배한 댓글은? [★SHOT!]\n",
       "4    5                   5배동성 딸 배수진 '우리 이혼했어요' 출연 \"나도 돌싱\"\n",
       "5    6              6[DAY컷] ‘스타트업’ 배수지♥남주혁, 3년만에 재회…묘한 설렘\n",
       "6    7              7'편스토랑' 변정수 \"갑상선암 투병 중 리마인드 웨딩\" 영상 공개\n",
       "7    8                    8'배동성 딸' 배수진 \"나도 돌싱\"…'우리 이혼했어요'\n",
       "8    9      9류지광 \"母 보증 잘못 서 4억 빚…23년째 목동 다세대 주택 생활\" (쩐당포)\n",
       "9   10                      10사유리 “아기 싫다는 남자에 임신 요구는 성폭력”"
      ]
     },
     "execution_count": 146,
     "metadata": {},
     "output_type": "execute_result"
    }
   ],
   "source": [
    "final"
   ]
  },
  {
   "cell_type": "markdown",
   "metadata": {},
   "source": [
    "## 인덱스를 해당 컬럼으로 지정하기"
   ]
  },
  {
   "cell_type": "code",
   "execution_count": 147,
   "metadata": {},
   "outputs": [],
   "source": [
    "final.set_index(\"num\", inplace = True)"
   ]
  },
  {
   "cell_type": "code",
   "execution_count": 148,
   "metadata": {
    "scrolled": true
   },
   "outputs": [
    {
     "data": {
      "text/html": [
       "<div>\n",
       "<style scoped>\n",
       "    .dataframe tbody tr th:only-of-type {\n",
       "        vertical-align: middle;\n",
       "    }\n",
       "\n",
       "    .dataframe tbody tr th {\n",
       "        vertical-align: top;\n",
       "    }\n",
       "\n",
       "    .dataframe thead th {\n",
       "        text-align: right;\n",
       "    }\n",
       "</style>\n",
       "<table border=\"1\" class=\"dataframe\">\n",
       "  <thead>\n",
       "    <tr style=\"text-align: right;\">\n",
       "      <th></th>\n",
       "      <th>title</th>\n",
       "    </tr>\n",
       "    <tr>\n",
       "      <th>num</th>\n",
       "      <th></th>\n",
       "    </tr>\n",
       "  </thead>\n",
       "  <tbody>\n",
       "    <tr>\n",
       "      <th>1</th>\n",
       "      <td>1\"결혼+임신 요구=성폭력\"..사유리 부모가 미혼모 된 딸에게 한 말 [종합]</td>\n",
       "    </tr>\n",
       "    <tr>\n",
       "      <th>2</th>\n",
       "      <td>2배동성 딸 배수진 \"이혼 6개월·돌싱맘, 임현준과 한번 싸우면 바닥을 봤다\"(우이...</td>\n",
       "    </tr>\n",
       "    <tr>\n",
       "      <th>3</th>\n",
       "      <td>3[어게인TV]'우이혼' 배동성 딸 나탈리, 이혼 6개월차 \"성격 많이 바뀌어…부모...</td>\n",
       "    </tr>\n",
       "    <tr>\n",
       "      <th>4</th>\n",
       "      <td>4'YG行' 진경, 매니저 손가락 사진에 팬들이 도배한 댓글은? [★SHOT!]</td>\n",
       "    </tr>\n",
       "    <tr>\n",
       "      <th>5</th>\n",
       "      <td>5배동성 딸 배수진 '우리 이혼했어요' 출연 \"나도 돌싱\"</td>\n",
       "    </tr>\n",
       "    <tr>\n",
       "      <th>6</th>\n",
       "      <td>6[DAY컷] ‘스타트업’ 배수지♥남주혁, 3년만에 재회…묘한 설렘</td>\n",
       "    </tr>\n",
       "    <tr>\n",
       "      <th>7</th>\n",
       "      <td>7'편스토랑' 변정수 \"갑상선암 투병 중 리마인드 웨딩\" 영상 공개</td>\n",
       "    </tr>\n",
       "    <tr>\n",
       "      <th>8</th>\n",
       "      <td>8'배동성 딸' 배수진 \"나도 돌싱\"…'우리 이혼했어요'</td>\n",
       "    </tr>\n",
       "    <tr>\n",
       "      <th>9</th>\n",
       "      <td>9류지광 \"母 보증 잘못 서 4억 빚…23년째 목동 다세대 주택 생활\" (쩐당포)</td>\n",
       "    </tr>\n",
       "    <tr>\n",
       "      <th>10</th>\n",
       "      <td>10사유리 “아기 싫다는 남자에 임신 요구는 성폭력”</td>\n",
       "    </tr>\n",
       "  </tbody>\n",
       "</table>\n",
       "</div>"
      ],
      "text/plain": [
       "                                                 title\n",
       "num                                                   \n",
       "1          1\"결혼+임신 요구=성폭력\"..사유리 부모가 미혼모 된 딸에게 한 말 [종합]\n",
       "2    2배동성 딸 배수진 \"이혼 6개월·돌싱맘, 임현준과 한번 싸우면 바닥을 봤다\"(우이...\n",
       "3    3[어게인TV]'우이혼' 배동성 딸 나탈리, 이혼 6개월차 \"성격 많이 바뀌어…부모...\n",
       "4         4'YG行' 진경, 매니저 손가락 사진에 팬들이 도배한 댓글은? [★SHOT!]\n",
       "5                     5배동성 딸 배수진 '우리 이혼했어요' 출연 \"나도 돌싱\"\n",
       "6                6[DAY컷] ‘스타트업’ 배수지♥남주혁, 3년만에 재회…묘한 설렘\n",
       "7                7'편스토랑' 변정수 \"갑상선암 투병 중 리마인드 웨딩\" 영상 공개\n",
       "8                      8'배동성 딸' 배수진 \"나도 돌싱\"…'우리 이혼했어요'\n",
       "9        9류지광 \"母 보증 잘못 서 4억 빚…23년째 목동 다세대 주택 생활\" (쩐당포)\n",
       "10                       10사유리 “아기 싫다는 남자에 임신 요구는 성폭력”"
      ]
     },
     "execution_count": 148,
     "metadata": {},
     "output_type": "execute_result"
    }
   ],
   "source": [
    "final"
   ]
  },
  {
   "cell_type": "markdown",
   "metadata": {},
   "source": [
    "## csv파일로 저장하기"
   ]
  },
  {
   "cell_type": "code",
   "execution_count": 144,
   "metadata": {},
   "outputs": [],
   "source": [
    "final.to_csv('final.csv', encoding = 'euc-kr')"
   ]
  }
 ],
 "metadata": {
  "kernelspec": {
   "display_name": "Python 3",
   "language": "python",
   "name": "python3"
  },
  "language_info": {
   "codemirror_mode": {
    "name": "ipython",
    "version": 3
   },
   "file_extension": ".py",
   "mimetype": "text/x-python",
   "name": "python",
   "nbconvert_exporter": "python",
   "pygments_lexer": "ipython3",
   "version": "3.8.3"
  }
 },
 "nbformat": 4,
 "nbformat_minor": 4
}

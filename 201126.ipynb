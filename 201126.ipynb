{
 "cells": [
  {
   "cell_type": "code",
   "execution_count": 1,
   "metadata": {},
   "outputs": [],
   "source": [
    "import numpy as np\n",
    "import pandas as pd\n",
    "import requests as req\n",
    "from bs4 import BeautifulSoup as bs"
   ]
  },
  {
   "cell_type": "code",
   "execution_count": 25,
   "metadata": {},
   "outputs": [],
   "source": [
    "url = 'https://sports.news.naver.com/index.nhn'\n",
    "res=req.get(url)\n",
    "soup=bs(res.text, 'lxml')\n",
    "title=soup.select('.today_list .title')"
   ]
  },
  {
   "cell_type": "code",
   "execution_count": 26,
   "metadata": {},
   "outputs": [],
   "source": [
    "title_list=[]\n",
    "seq_list=[]\n",
    "\n",
    "for i in range (len(title)):\n",
    "    seq = i\n",
    "    title_list.append(title[i].text)\n",
    "    seq_list.append(seq+1)"
   ]
  },
  {
   "cell_type": "code",
   "execution_count": 27,
   "metadata": {},
   "outputs": [
    {
     "data": {
      "text/plain": [
       "['\\'이종범도 합류\\' LG 차명석 단장 \"능력 있는 코치 우선\"',\n",
       " '기자회견서 발끈한 토트넘 모우라 \"이전 감독에 대해 말하고 싶지 않다\"',\n",
       " '[IS 포커스] 크론, 오수나, 딕슨 모두 일본으로…매물 줄어든 KBO리그',\n",
       " '골든스테이트 어쩌나, 톰슨 아킬레스건 수술로 2년 연속 결장 확정',\n",
       " '사랑꾼 김소니아 “저 이제 아줌마에요”',\n",
       " \"손흥민, 박지성, 지소연…'한국인 잔치' 된 FIFA 풋볼 어워즈\"]"
      ]
     },
     "execution_count": 27,
     "metadata": {},
     "output_type": "execute_result"
    }
   ],
   "source": [
    "title_list"
   ]
  },
  {
   "cell_type": "code",
   "execution_count": 37,
   "metadata": {},
   "outputs": [
    {
     "data": {
      "text/plain": [
       "[1, 2, 3, 4, 5, 6]"
      ]
     },
     "execution_count": 37,
     "metadata": {},
     "output_type": "execute_result"
    }
   ],
   "source": [
    "seq_list"
   ]
  },
  {
   "cell_type": "code",
   "execution_count": 38,
   "metadata": {},
   "outputs": [],
   "source": [
    "news={'뉴스제목':title_list}"
   ]
  },
  {
   "cell_type": "code",
   "execution_count": 39,
   "metadata": {},
   "outputs": [],
   "source": [
    "## 인덱스를 seq_list값으로 하겠다\n",
    "news_df=pd.DataFrame(news, index= seq_list)"
   ]
  },
  {
   "cell_type": "code",
   "execution_count": 40,
   "metadata": {},
   "outputs": [
    {
     "data": {
      "text/html": [
       "<div>\n",
       "<style scoped>\n",
       "    .dataframe tbody tr th:only-of-type {\n",
       "        vertical-align: middle;\n",
       "    }\n",
       "\n",
       "    .dataframe tbody tr th {\n",
       "        vertical-align: top;\n",
       "    }\n",
       "\n",
       "    .dataframe thead th {\n",
       "        text-align: right;\n",
       "    }\n",
       "</style>\n",
       "<table border=\"1\" class=\"dataframe\">\n",
       "  <thead>\n",
       "    <tr style=\"text-align: right;\">\n",
       "      <th></th>\n",
       "      <th>뉴스제목</th>\n",
       "    </tr>\n",
       "  </thead>\n",
       "  <tbody>\n",
       "    <tr>\n",
       "      <th>1</th>\n",
       "      <td>'이종범도 합류' LG 차명석 단장 \"능력 있는 코치 우선\"</td>\n",
       "    </tr>\n",
       "    <tr>\n",
       "      <th>2</th>\n",
       "      <td>기자회견서 발끈한 토트넘 모우라 \"이전 감독에 대해 말하고 싶지 않다\"</td>\n",
       "    </tr>\n",
       "    <tr>\n",
       "      <th>3</th>\n",
       "      <td>[IS 포커스] 크론, 오수나, 딕슨 모두 일본으로…매물 줄어든 KBO리그</td>\n",
       "    </tr>\n",
       "    <tr>\n",
       "      <th>4</th>\n",
       "      <td>골든스테이트 어쩌나, 톰슨 아킬레스건 수술로 2년 연속 결장 확정</td>\n",
       "    </tr>\n",
       "    <tr>\n",
       "      <th>5</th>\n",
       "      <td>사랑꾼 김소니아 “저 이제 아줌마에요”</td>\n",
       "    </tr>\n",
       "    <tr>\n",
       "      <th>6</th>\n",
       "      <td>손흥민, 박지성, 지소연…'한국인 잔치' 된 FIFA 풋볼 어워즈</td>\n",
       "    </tr>\n",
       "  </tbody>\n",
       "</table>\n",
       "</div>"
      ],
      "text/plain": [
       "                                        뉴스제목\n",
       "1          '이종범도 합류' LG 차명석 단장 \"능력 있는 코치 우선\"\n",
       "2    기자회견서 발끈한 토트넘 모우라 \"이전 감독에 대해 말하고 싶지 않다\"\n",
       "3  [IS 포커스] 크론, 오수나, 딕슨 모두 일본으로…매물 줄어든 KBO리그\n",
       "4       골든스테이트 어쩌나, 톰슨 아킬레스건 수술로 2년 연속 결장 확정\n",
       "5                      사랑꾼 김소니아 “저 이제 아줌마에요”\n",
       "6       손흥민, 박지성, 지소연…'한국인 잔치' 된 FIFA 풋볼 어워즈"
      ]
     },
     "execution_count": 40,
     "metadata": {},
     "output_type": "execute_result"
    }
   ],
   "source": [
    "news_df"
   ]
  },
  {
   "cell_type": "code",
   "execution_count": null,
   "metadata": {},
   "outputs": [],
   "source": []
  },
  {
   "cell_type": "code",
   "execution_count": null,
   "metadata": {},
   "outputs": [],
   "source": []
  },
  {
   "cell_type": "code",
   "execution_count": null,
   "metadata": {},
   "outputs": [],
   "source": []
  },
  {
   "cell_type": "code",
   "execution_count": null,
   "metadata": {},
   "outputs": [],
   "source": []
  },
  {
   "cell_type": "code",
   "execution_count": null,
   "metadata": {},
   "outputs": [],
   "source": []
  },
  {
   "cell_type": "code",
   "execution_count": null,
   "metadata": {},
   "outputs": [],
   "source": []
  },
  {
   "cell_type": "code",
   "execution_count": null,
   "metadata": {},
   "outputs": [],
   "source": []
  }
 ],
 "metadata": {
  "kernelspec": {
   "display_name": "Python 3",
   "language": "python",
   "name": "python3"
  },
  "language_info": {
   "codemirror_mode": {
    "name": "ipython",
    "version": 3
   },
   "file_extension": ".py",
   "mimetype": "text/x-python",
   "name": "python",
   "nbconvert_exporter": "python",
   "pygments_lexer": "ipython3",
   "version": "3.8.3"
  }
 },
 "nbformat": 4,
 "nbformat_minor": 4
}
